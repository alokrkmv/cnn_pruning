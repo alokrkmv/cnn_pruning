{
 "cells": [
  {
   "cell_type": "code",
   "execution_count": 1,
   "id": "0cd7c9f3",
   "metadata": {},
   "outputs": [],
   "source": [
    "# This note book contains the code for performing oneshot pruning on trained Resnet18 model on CIFAR 10 dataset"
   ]
  },
  {
   "cell_type": "code",
   "execution_count": 81,
   "id": "79ef2c39",
   "metadata": {},
   "outputs": [],
   "source": [
    "import torch\n",
    "import copy\n",
    "import torch.nn.utils.prune as prune\n",
    "import math"
   ]
  },
  {
   "cell_type": "code",
   "execution_count": 82,
   "id": "98ea547a",
   "metadata": {},
   "outputs": [
    {
     "data": {
      "text/plain": [
       "ResNet(\n",
       "  (conv1): Conv2d(3, 64, kernel_size=(3, 3), stride=(1, 1), padding=(1, 1), bias=False)\n",
       "  (bn1): BatchNorm2d(64, eps=1e-05, momentum=0.1, affine=True, track_running_stats=True)\n",
       "  (relu): ReLU(inplace=True)\n",
       "  (maxpool): MaxPool2d(kernel_size=3, stride=2, padding=1, dilation=1, ceil_mode=False)\n",
       "  (layer1): Sequential(\n",
       "    (0): BasicBlock(\n",
       "      (conv1): Conv2d(64, 64, kernel_size=(3, 3), stride=(1, 1), padding=(1, 1), bias=False)\n",
       "      (bn1): BatchNorm2d(64, eps=1e-05, momentum=0.1, affine=True, track_running_stats=True)\n",
       "      (relu): ReLU(inplace=True)\n",
       "      (conv2): Conv2d(64, 64, kernel_size=(3, 3), stride=(1, 1), padding=(1, 1), bias=False)\n",
       "      (bn2): BatchNorm2d(64, eps=1e-05, momentum=0.1, affine=True, track_running_stats=True)\n",
       "    )\n",
       "    (1): BasicBlock(\n",
       "      (conv1): Conv2d(64, 64, kernel_size=(3, 3), stride=(1, 1), padding=(1, 1), bias=False)\n",
       "      (bn1): BatchNorm2d(64, eps=1e-05, momentum=0.1, affine=True, track_running_stats=True)\n",
       "      (relu): ReLU(inplace=True)\n",
       "      (conv2): Conv2d(64, 64, kernel_size=(3, 3), stride=(1, 1), padding=(1, 1), bias=False)\n",
       "      (bn2): BatchNorm2d(64, eps=1e-05, momentum=0.1, affine=True, track_running_stats=True)\n",
       "    )\n",
       "  )\n",
       "  (layer2): Sequential(\n",
       "    (0): BasicBlock(\n",
       "      (conv1): Conv2d(64, 128, kernel_size=(3, 3), stride=(2, 2), padding=(1, 1), bias=False)\n",
       "      (bn1): BatchNorm2d(128, eps=1e-05, momentum=0.1, affine=True, track_running_stats=True)\n",
       "      (relu): ReLU(inplace=True)\n",
       "      (conv2): Conv2d(128, 128, kernel_size=(3, 3), stride=(1, 1), padding=(1, 1), bias=False)\n",
       "      (bn2): BatchNorm2d(128, eps=1e-05, momentum=0.1, affine=True, track_running_stats=True)\n",
       "      (downsample): Sequential(\n",
       "        (0): Conv2d(64, 128, kernel_size=(1, 1), stride=(2, 2), bias=False)\n",
       "        (1): BatchNorm2d(128, eps=1e-05, momentum=0.1, affine=True, track_running_stats=True)\n",
       "      )\n",
       "    )\n",
       "    (1): BasicBlock(\n",
       "      (conv1): Conv2d(128, 128, kernel_size=(3, 3), stride=(1, 1), padding=(1, 1), bias=False)\n",
       "      (bn1): BatchNorm2d(128, eps=1e-05, momentum=0.1, affine=True, track_running_stats=True)\n",
       "      (relu): ReLU(inplace=True)\n",
       "      (conv2): Conv2d(128, 128, kernel_size=(3, 3), stride=(1, 1), padding=(1, 1), bias=False)\n",
       "      (bn2): BatchNorm2d(128, eps=1e-05, momentum=0.1, affine=True, track_running_stats=True)\n",
       "    )\n",
       "  )\n",
       "  (layer3): Sequential(\n",
       "    (0): BasicBlock(\n",
       "      (conv1): Conv2d(128, 256, kernel_size=(3, 3), stride=(2, 2), padding=(1, 1), bias=False)\n",
       "      (bn1): BatchNorm2d(256, eps=1e-05, momentum=0.1, affine=True, track_running_stats=True)\n",
       "      (relu): ReLU(inplace=True)\n",
       "      (conv2): Conv2d(256, 256, kernel_size=(3, 3), stride=(1, 1), padding=(1, 1), bias=False)\n",
       "      (bn2): BatchNorm2d(256, eps=1e-05, momentum=0.1, affine=True, track_running_stats=True)\n",
       "      (downsample): Sequential(\n",
       "        (0): Conv2d(128, 256, kernel_size=(1, 1), stride=(2, 2), bias=False)\n",
       "        (1): BatchNorm2d(256, eps=1e-05, momentum=0.1, affine=True, track_running_stats=True)\n",
       "      )\n",
       "    )\n",
       "    (1): BasicBlock(\n",
       "      (conv1): Conv2d(256, 256, kernel_size=(3, 3), stride=(1, 1), padding=(1, 1), bias=False)\n",
       "      (bn1): BatchNorm2d(256, eps=1e-05, momentum=0.1, affine=True, track_running_stats=True)\n",
       "      (relu): ReLU(inplace=True)\n",
       "      (conv2): Conv2d(256, 256, kernel_size=(3, 3), stride=(1, 1), padding=(1, 1), bias=False)\n",
       "      (bn2): BatchNorm2d(256, eps=1e-05, momentum=0.1, affine=True, track_running_stats=True)\n",
       "    )\n",
       "  )\n",
       "  (layer4): Sequential(\n",
       "    (0): BasicBlock(\n",
       "      (conv1): Conv2d(256, 512, kernel_size=(3, 3), stride=(2, 2), padding=(1, 1), bias=False)\n",
       "      (bn1): BatchNorm2d(512, eps=1e-05, momentum=0.1, affine=True, track_running_stats=True)\n",
       "      (relu): ReLU(inplace=True)\n",
       "      (conv2): Conv2d(512, 512, kernel_size=(3, 3), stride=(1, 1), padding=(1, 1), bias=False)\n",
       "      (bn2): BatchNorm2d(512, eps=1e-05, momentum=0.1, affine=True, track_running_stats=True)\n",
       "      (downsample): Sequential(\n",
       "        (0): Conv2d(256, 512, kernel_size=(1, 1), stride=(2, 2), bias=False)\n",
       "        (1): BatchNorm2d(512, eps=1e-05, momentum=0.1, affine=True, track_running_stats=True)\n",
       "      )\n",
       "    )\n",
       "    (1): BasicBlock(\n",
       "      (conv1): Conv2d(512, 512, kernel_size=(3, 3), stride=(1, 1), padding=(1, 1), bias=False)\n",
       "      (bn1): BatchNorm2d(512, eps=1e-05, momentum=0.1, affine=True, track_running_stats=True)\n",
       "      (relu): ReLU(inplace=True)\n",
       "      (conv2): Conv2d(512, 512, kernel_size=(3, 3), stride=(1, 1), padding=(1, 1), bias=False)\n",
       "      (bn2): BatchNorm2d(512, eps=1e-05, momentum=0.1, affine=True, track_running_stats=True)\n",
       "    )\n",
       "  )\n",
       "  (avgpool): AdaptiveAvgPool2d(output_size=(1, 1))\n",
       "  (fc): Linear(in_features=512, out_features=10, bias=True)\n",
       ")"
      ]
     },
     "execution_count": 82,
     "metadata": {},
     "output_type": "execute_result"
    }
   ],
   "source": [
    "# Load the pretrained model\n",
    "from cifar10_models.resnet import resnet18\n",
    "my_model = resnet18()\n",
    "\n",
    "# Pretrained model\n",
    "my_model = resnet18(pretrained=True)\n",
    "my_model.eval()"
   ]
  },
  {
   "cell_type": "code",
   "execution_count": 83,
   "id": "f18a6800",
   "metadata": {},
   "outputs": [],
   "source": [
    "def calculate_sparsity(model):\n",
    "  total_count = 0\n",
    "  zero_count = 0\n",
    "  \n",
    "  for buffer_name, buffer in model.named_buffers():\n",
    "    zero_count += torch.sum(buffer == 0).item()\n",
    "    if zero_count>0:\n",
    "      total_count += buffer.nelement()\n",
    "\n",
    "  print(\"Total params: \", total_count)\n",
    "  print(\"Zero params: \", zero_count)\n",
    "  return (math.ceil(zero_count*100/total_count))"
   ]
  },
  {
   "cell_type": "code",
   "execution_count": 85,
   "id": "191801aa",
   "metadata": {},
   "outputs": [
    {
     "name": "stdout",
     "output_type": "stream",
     "text": [
      "Layers to prune 21\n",
      "Total params:  11173972\n",
      "Zero params:  5582176\n",
      "Sparsity of model1 50\n"
     ]
    }
   ],
   "source": [
    "# Build and save the oneshot pruning model with 50 % sparsity ratio\n",
    "model1 = copy.deepcopy(my_model)\n",
    "parameters_to_prune =[]\n",
    "for module_name, module in model1.named_modules():\n",
    "        if isinstance(module, torch.nn.Conv2d) or isinstance(module, torch.nn.Linear):\n",
    "            parameters_to_prune.append((module, \"weight\"))\n",
    "print(\"Layers to prune {}\".format((len(parameters_to_prune))))\n",
    "\n",
    "prune.global_unstructured(\n",
    "parameters_to_prune,\n",
    "pruning_method=prune.L1Unstructured,\n",
    "amount=0.5,\n",
    ")\n",
    "print(\"Sparsity of model1\", calculate_sparsity(model1))\n",
    "torch.save(model1, \"cifar10_models/state_dicts/one_shot_50.pt\")"
   ]
  },
  {
   "cell_type": "code",
   "execution_count": 86,
   "id": "d80cb7ad",
   "metadata": {},
   "outputs": [
    {
     "name": "stdout",
     "output_type": "stream",
     "text": [
      "Layers to prune 21\n",
      "Total params:  11173972\n",
      "Zero params:  8373264\n",
      "Sparsity of model2 75\n"
     ]
    }
   ],
   "source": [
    "# Build and save the oneshot pruning model with 75 % sparsity ratio\n",
    "model2 = copy.deepcopy(my_model)\n",
    "parameters_to_prune =[]\n",
    "for module_name, module in model2.named_modules():\n",
    "        if isinstance(module, torch.nn.Conv2d) or isinstance(module, torch.nn.Linear):\n",
    "            parameters_to_prune.append((module, \"weight\"))\n",
    "print(\"Layers to prune {}\".format((len(parameters_to_prune))))\n",
    "\n",
    "prune.global_unstructured(\n",
    "parameters_to_prune,\n",
    "pruning_method=prune.L1Unstructured,\n",
    "amount=0.75,\n",
    ")\n",
    "print(\"Sparsity of model2\", calculate_sparsity(model2))\n",
    "torch.save(model2, \"cifar10_models/state_dicts/one_shot_75.pt\")"
   ]
  },
  {
   "cell_type": "code",
   "execution_count": 87,
   "id": "27e9e75d",
   "metadata": {},
   "outputs": [
    {
     "name": "stdout",
     "output_type": "stream",
     "text": [
      "Layers to prune 21\n",
      "Total params:  11173972\n",
      "Zero params:  10047917\n",
      "Sparsity of model3 90\n"
     ]
    }
   ],
   "source": [
    "# Build and save the oneshot pruning model with 90 % sparsity ratio\n",
    "model3 = copy.deepcopy(my_model)\n",
    "parameters_to_prune =[]\n",
    "for module_name, module in model3.named_modules():\n",
    "        if isinstance(module, torch.nn.Conv2d) or isinstance(module, torch.nn.Linear):\n",
    "            parameters_to_prune.append((module, \"weight\"))\n",
    "print(\"Layers to prune {}\".format((len(parameters_to_prune))))\n",
    "\n",
    "prune.global_unstructured(\n",
    "parameters_to_prune,\n",
    "pruning_method=prune.L1Unstructured,\n",
    "amount=0.9,\n",
    ")\n",
    "print(\"Sparsity of model3\", calculate_sparsity(model3))\n",
    "torch.save(model3, \"cifar10_models/state_dicts/one_shot_90.pt\")"
   ]
  },
  {
   "cell_type": "code",
   "execution_count": null,
   "id": "180cc705",
   "metadata": {},
   "outputs": [],
   "source": []
  }
 ],
 "metadata": {
  "kernelspec": {
   "display_name": "Python 3",
   "language": "python",
   "name": "python3"
  },
  "language_info": {
   "codemirror_mode": {
    "name": "ipython",
    "version": 3
   },
   "file_extension": ".py",
   "mimetype": "text/x-python",
   "name": "python",
   "nbconvert_exporter": "python",
   "pygments_lexer": "ipython3",
   "version": "3.6.13"
  }
 },
 "nbformat": 4,
 "nbformat_minor": 5
}
