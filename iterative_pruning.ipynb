{
 "cells": [
  {
   "cell_type": "code",
   "execution_count": 1,
   "id": "7af91f0c",
   "metadata": {
    "id": "7af91f0c"
   },
   "outputs": [],
   "source": [
    "# This note book contains the code for performing iteravtive pruning on trained Resnet18 model on CIFAR 10 dataset"
   ]
  },
  {
   "cell_type": "code",
   "execution_count": 11,
   "id": "f5c2c6e3",
   "metadata": {
    "id": "f5c2c6e3"
   },
   "outputs": [],
   "source": [
    "import torch\n",
    "import copy\n",
    "\n",
    "import math\n",
    "import random\n"
   ]
  },
  {
   "cell_type": "code",
   "execution_count": 4,
   "id": "32185898",
   "metadata": {
    "colab": {
     "base_uri": "https://localhost:8080/"
    },
    "id": "32185898",
    "outputId": "b037c222-39ef-42a2-e5ee-86d6ee21475b"
   },
   "outputs": [
    {
     "data": {
      "text/plain": [
       "ResNet(\n",
       "  (conv1): Conv2d(3, 64, kernel_size=(3, 3), stride=(1, 1), padding=(1, 1), bias=False)\n",
       "  (bn1): BatchNorm2d(64, eps=1e-05, momentum=0.1, affine=True, track_running_stats=True)\n",
       "  (relu): ReLU(inplace=True)\n",
       "  (maxpool): MaxPool2d(kernel_size=3, stride=2, padding=1, dilation=1, ceil_mode=False)\n",
       "  (layer1): Sequential(\n",
       "    (0): BasicBlock(\n",
       "      (conv1): Conv2d(64, 64, kernel_size=(3, 3), stride=(1, 1), padding=(1, 1), bias=False)\n",
       "      (bn1): BatchNorm2d(64, eps=1e-05, momentum=0.1, affine=True, track_running_stats=True)\n",
       "      (relu): ReLU(inplace=True)\n",
       "      (conv2): Conv2d(64, 64, kernel_size=(3, 3), stride=(1, 1), padding=(1, 1), bias=False)\n",
       "      (bn2): BatchNorm2d(64, eps=1e-05, momentum=0.1, affine=True, track_running_stats=True)\n",
       "    )\n",
       "    (1): BasicBlock(\n",
       "      (conv1): Conv2d(64, 64, kernel_size=(3, 3), stride=(1, 1), padding=(1, 1), bias=False)\n",
       "      (bn1): BatchNorm2d(64, eps=1e-05, momentum=0.1, affine=True, track_running_stats=True)\n",
       "      (relu): ReLU(inplace=True)\n",
       "      (conv2): Conv2d(64, 64, kernel_size=(3, 3), stride=(1, 1), padding=(1, 1), bias=False)\n",
       "      (bn2): BatchNorm2d(64, eps=1e-05, momentum=0.1, affine=True, track_running_stats=True)\n",
       "    )\n",
       "  )\n",
       "  (layer2): Sequential(\n",
       "    (0): BasicBlock(\n",
       "      (conv1): Conv2d(64, 128, kernel_size=(3, 3), stride=(2, 2), padding=(1, 1), bias=False)\n",
       "      (bn1): BatchNorm2d(128, eps=1e-05, momentum=0.1, affine=True, track_running_stats=True)\n",
       "      (relu): ReLU(inplace=True)\n",
       "      (conv2): Conv2d(128, 128, kernel_size=(3, 3), stride=(1, 1), padding=(1, 1), bias=False)\n",
       "      (bn2): BatchNorm2d(128, eps=1e-05, momentum=0.1, affine=True, track_running_stats=True)\n",
       "      (downsample): Sequential(\n",
       "        (0): Conv2d(64, 128, kernel_size=(1, 1), stride=(2, 2), bias=False)\n",
       "        (1): BatchNorm2d(128, eps=1e-05, momentum=0.1, affine=True, track_running_stats=True)\n",
       "      )\n",
       "    )\n",
       "    (1): BasicBlock(\n",
       "      (conv1): Conv2d(128, 128, kernel_size=(3, 3), stride=(1, 1), padding=(1, 1), bias=False)\n",
       "      (bn1): BatchNorm2d(128, eps=1e-05, momentum=0.1, affine=True, track_running_stats=True)\n",
       "      (relu): ReLU(inplace=True)\n",
       "      (conv2): Conv2d(128, 128, kernel_size=(3, 3), stride=(1, 1), padding=(1, 1), bias=False)\n",
       "      (bn2): BatchNorm2d(128, eps=1e-05, momentum=0.1, affine=True, track_running_stats=True)\n",
       "    )\n",
       "  )\n",
       "  (layer3): Sequential(\n",
       "    (0): BasicBlock(\n",
       "      (conv1): Conv2d(128, 256, kernel_size=(3, 3), stride=(2, 2), padding=(1, 1), bias=False)\n",
       "      (bn1): BatchNorm2d(256, eps=1e-05, momentum=0.1, affine=True, track_running_stats=True)\n",
       "      (relu): ReLU(inplace=True)\n",
       "      (conv2): Conv2d(256, 256, kernel_size=(3, 3), stride=(1, 1), padding=(1, 1), bias=False)\n",
       "      (bn2): BatchNorm2d(256, eps=1e-05, momentum=0.1, affine=True, track_running_stats=True)\n",
       "      (downsample): Sequential(\n",
       "        (0): Conv2d(128, 256, kernel_size=(1, 1), stride=(2, 2), bias=False)\n",
       "        (1): BatchNorm2d(256, eps=1e-05, momentum=0.1, affine=True, track_running_stats=True)\n",
       "      )\n",
       "    )\n",
       "    (1): BasicBlock(\n",
       "      (conv1): Conv2d(256, 256, kernel_size=(3, 3), stride=(1, 1), padding=(1, 1), bias=False)\n",
       "      (bn1): BatchNorm2d(256, eps=1e-05, momentum=0.1, affine=True, track_running_stats=True)\n",
       "      (relu): ReLU(inplace=True)\n",
       "      (conv2): Conv2d(256, 256, kernel_size=(3, 3), stride=(1, 1), padding=(1, 1), bias=False)\n",
       "      (bn2): BatchNorm2d(256, eps=1e-05, momentum=0.1, affine=True, track_running_stats=True)\n",
       "    )\n",
       "  )\n",
       "  (layer4): Sequential(\n",
       "    (0): BasicBlock(\n",
       "      (conv1): Conv2d(256, 512, kernel_size=(3, 3), stride=(2, 2), padding=(1, 1), bias=False)\n",
       "      (bn1): BatchNorm2d(512, eps=1e-05, momentum=0.1, affine=True, track_running_stats=True)\n",
       "      (relu): ReLU(inplace=True)\n",
       "      (conv2): Conv2d(512, 512, kernel_size=(3, 3), stride=(1, 1), padding=(1, 1), bias=False)\n",
       "      (bn2): BatchNorm2d(512, eps=1e-05, momentum=0.1, affine=True, track_running_stats=True)\n",
       "      (downsample): Sequential(\n",
       "        (0): Conv2d(256, 512, kernel_size=(1, 1), stride=(2, 2), bias=False)\n",
       "        (1): BatchNorm2d(512, eps=1e-05, momentum=0.1, affine=True, track_running_stats=True)\n",
       "      )\n",
       "    )\n",
       "    (1): BasicBlock(\n",
       "      (conv1): Conv2d(512, 512, kernel_size=(3, 3), stride=(1, 1), padding=(1, 1), bias=False)\n",
       "      (bn1): BatchNorm2d(512, eps=1e-05, momentum=0.1, affine=True, track_running_stats=True)\n",
       "      (relu): ReLU(inplace=True)\n",
       "      (conv2): Conv2d(512, 512, kernel_size=(3, 3), stride=(1, 1), padding=(1, 1), bias=False)\n",
       "      (bn2): BatchNorm2d(512, eps=1e-05, momentum=0.1, affine=True, track_running_stats=True)\n",
       "    )\n",
       "  )\n",
       "  (avgpool): AdaptiveAvgPool2d(output_size=(1, 1))\n",
       "  (fc): Linear(in_features=512, out_features=10, bias=True)\n",
       ")"
      ]
     },
     "execution_count": 4,
     "metadata": {},
     "output_type": "execute_result"
    }
   ],
   "source": [
    "# Load the pretrained model\n",
    "from cifar10_models.resnet import resnet18\n",
    "my_model = resnet18()\n",
    "\n",
    "# Pretrained model\n",
    "my_model = resnet18(pretrained=True)\n",
    "my_model.eval()"
   ]
  },
  {
   "cell_type": "code",
   "execution_count": 14,
   "id": "oQmr7PC97NVS",
   "metadata": {
    "id": "oQmr7PC97NVS"
   },
   "outputs": [],
   "source": [
    "#calculate sparsity ratio\n",
    "def calculate_sparsity(model):\n",
    "  total_count = 0\n",
    "  zero_count = 0\n",
    "  \n",
    "  for buffer_name, buffer in model.named_buffers():\n",
    "    zero_count += torch.sum(buffer == 0).item()\n",
    "    if zero_count>0:\n",
    "      total_count += buffer.nelement()\n",
    "\n",
    "  print(\"Total params: \", total_count)\n",
    "  print(\"Zero params: \", zero_count)\n",
    "  return (math.ceil(zero_count*100/total_count))"
   ]
  },
  {
   "cell_type": "code",
   "execution_count": null,
   "id": "LZD95FkCtOKP",
   "metadata": {
    "colab": {
     "base_uri": "https://localhost:8080/"
    },
    "id": "LZD95FkCtOKP",
    "outputId": "527e6e66-f5ca-494e-848b-ae4e475086a2"
   },
   "outputs": [
    {
     "name": "stdout",
     "output_type": "stream",
     "text": [
      "Layers to prune 21\n"
     ]
    }
   ],
   "source": [
    "# Build and save the iterative pruning model with 50 % sparsity ratio\n",
    "model1 = copy.deepcopy(my_model)\n",
    "parameters_to_prune =[]\n",
    "for module_name, module in model1.named_modules():\n",
    "        if isinstance(module, torch.nn.Conv2d) or isinstance(module, torch.nn.Linear):\n",
    "            parameters_to_prune.append((module, \"weight\"))\n",
    "print(\"Layers to prune {}\".format((len(parameters_to_prune))))\n",
    "for i in range(5):\n",
    "  prune.global_unstructured(\n",
    "  parameters_to_prune,\n",
    "  pruning_method=prune.L1Unstructured,\n",
    "  amount=0.128,\n",
    "  )\n",
    "print(\"Sparsity of model1\", calculate_sparsity(model1))\n",
    "#save the model\n",
    "torch.save(model1, \"cifar10_models/state_dicts/iterative_50.pt\")"
   ]
  },
  {
   "cell_type": "code",
   "execution_count": null,
   "id": "7c446aa0",
   "metadata": {
    "id": "7c446aa0"
   },
   "outputs": [],
   "source": [
    "# Build and save the iterative pruning model with 75 % sparsity ratio\n",
    "model2 = copy.deepcopy(my_model)\n",
    "parameters_to_prune =[]\n",
    "for module_name, module in model2.named_modules():\n",
    "        if isinstance(module, torch.nn.Conv2d) or isinstance(module, torch.nn.Linear):\n",
    "            parameters_to_prune.append((module, \"weight\"))\n",
    "print(\"Layers to prune {}\".format((len(parameters_to_prune))))\n",
    "for i in range(5):\n",
    "  prune.global_unstructured(\n",
    "  parameters_to_prune,\n",
    "  pruning_method=prune.L1Unstructured,\n",
    "  amount=0.24,\n",
    "  )\n",
    "print(\"Sparsity of model2\", calculate_sparsity(model2))\n",
    "#save the model\n",
    "torch.save(model2, \"cifar10_models/state_dicts/iterative_75.pt\")\n"
   ]
  },
  {
   "cell_type": "code",
   "execution_count": null,
   "id": "7a8cf94c",
   "metadata": {
    "id": "7a8cf94c"
   },
   "outputs": [],
   "source": [
    "# Build and save the iterative pruning model with 90 % sparsity ratio\n",
    "model3 = copy.deepcopy(my_model)\n",
    "parameters_to_prune =[]\n",
    "for module_name, module in model3.named_modules():\n",
    "        if isinstance(module, torch.nn.Conv2d) or isinstance(module, torch.nn.Linear):\n",
    "            parameters_to_prune.append((module, \"weight\"))\n",
    "print(\"Layers to prune {}\".format((len(parameters_to_prune))))\n",
    "for i in range(5):\n",
    "  prune.global_unstructured(\n",
    "  parameters_to_prune,\n",
    "  pruning_method=prune.L1Unstructured,\n",
    "  amount=0.36,\n",
    "  )\n",
    "print(\"Sparsity of model3\", calculate_sparsity(model3))\n",
    "#save the model\n",
    "torch.save(model3, \"cifar10_models/state_dicts/iterative_90.pt\")"
   ]
  }
 ],
 "metadata": {
  "accelerator": "GPU",
  "colab": {
   "name": "iterative_pruning.ipynb",
   "provenance": []
  },
  "kernelspec": {
   "display_name": "Python 3",
   "language": "python",
   "name": "python3"
  },
  "language_info": {
   "codemirror_mode": {
    "name": "ipython",
    "version": 3
   },
   "file_extension": ".py",
   "mimetype": "text/x-python",
   "name": "python",
   "nbconvert_exporter": "python",
   "pygments_lexer": "ipython3",
   "version": "3.6.13"
  }
 },
 "nbformat": 4,
 "nbformat_minor": 5
}
