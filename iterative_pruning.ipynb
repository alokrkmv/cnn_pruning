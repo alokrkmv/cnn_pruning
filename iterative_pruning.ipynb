{
  "nbformat": 4,
  "nbformat_minor": 5,
  "metadata": {
    "kernelspec": {
      "display_name": "Python 3",
      "language": "python",
      "name": "python3"
    },
    "language_info": {
      "codemirror_mode": {
        "name": "ipython",
        "version": 3
      },
      "file_extension": ".py",
      "mimetype": "text/x-python",
      "name": "python",
      "nbconvert_exporter": "python",
      "pygments_lexer": "ipython3",
      "version": "3.6.13"
    },
    "colab": {
      "name": "iterative_pruning.ipynb",
      "provenance": []
    },
    "accelerator": "GPU"
  },
  "cells": [
    {
      "cell_type": "code",
      "metadata": {
        "id": "7af91f0c"
      },
      "source": [
        "# This note book contains the code for performing iteravtive pruning on trained Resnet18 model on CIFAR 10 dataset"
      ],
      "id": "7af91f0c",
      "execution_count": 1,
      "outputs": []
    },
    {
      "cell_type": "code",
      "metadata": {
        "id": "f5c2c6e3"
      },
      "source": [
        "import torch\n",
        "import copy\n",
        "import torch.nn.utils.prune as prune\n",
        "import math\n",
        "\n",
        "import torch\n",
        "import torch.nn as nn\n",
        "import torch.optim as optim\n",
        "import torch.nn.functional as F\n",
        "import torchvision\n",
        "import time\n",
        "from torchvision import datasets, transforms\n",
        "import requests\n",
        "from PIL import Image\n",
        "\n",
        "import numpy as np\n",
        "import pandas as pd\n",
        "import matplotlib.pyplot as plt\n",
        "import itertools\n",
        "import math\n",
        "import random\n",
        "from sklearn.metrics import confusion_matrix"
      ],
      "id": "f5c2c6e3",
      "execution_count": 2,
      "outputs": []
    },
    {
      "cell_type": "code",
      "metadata": {
        "colab": {
          "base_uri": "https://localhost:8080/"
        },
        "id": "R65vHQUukzLP",
        "outputId": "d88ff087-c01c-4bbb-feb8-be6ec97f2b15"
      },
      "source": [
        "from google.colab import drive\n",
        "drive.mount('/content/drive')\n",
        "\n",
        "# TODO: Enter the foldername in your Drive where you have saved the unzipped\n",
        "# assignment folder, e.g. 'cs231n/assignments/assignment1/'\n",
        "FOLDERNAME = '/content/drive/MyDrive/cnn-pruning-status_200'\n",
        "assert FOLDERNAME is not None, \"[!] Enter the foldername.\"\n",
        "\n",
        "# Now that we've mounted your Drive, this ensures that\n",
        "# the Python interpreter of the Colab VM can load\n",
        "# python files from within it.\n",
        "import sys\n",
        "sys.path.append('/content/drive/My Drive/{}'.format(FOLDERNAME))\n",
        "\n",
        "# This downloads the CIFAR-10 dataset to your Drive\n",
        "# if it doesn't already exist.\n",
        "# %cd $FOLDERNAME/cs682/datasets/\n",
        "# !bash get_datasets.sh\n",
        "%cd $FOLDERNAME"
      ],
      "id": "R65vHQUukzLP",
      "execution_count": 3,
      "outputs": [
        {
          "output_type": "stream",
          "name": "stdout",
          "text": [
            "Drive already mounted at /content/drive; to attempt to forcibly remount, call drive.mount(\"/content/drive\", force_remount=True).\n",
            "/content/drive/MyDrive/cnn-pruning-status_200\n"
          ]
        }
      ]
    },
    {
      "cell_type": "code",
      "metadata": {
        "colab": {
          "base_uri": "https://localhost:8080/"
        },
        "id": "32185898",
        "outputId": "b037c222-39ef-42a2-e5ee-86d6ee21475b"
      },
      "source": [
        "# Load the pretrained model\n",
        "from cifar10_models.resnet import resnet18\n",
        "my_model = resnet18()\n",
        "\n",
        "# Pretrained model\n",
        "my_model = resnet18(pretrained=True)\n",
        "my_model.eval()"
      ],
      "id": "32185898",
      "execution_count": 4,
      "outputs": [
        {
          "output_type": "execute_result",
          "data": {
            "text/plain": [
              "ResNet(\n",
              "  (conv1): Conv2d(3, 64, kernel_size=(3, 3), stride=(1, 1), padding=(1, 1), bias=False)\n",
              "  (bn1): BatchNorm2d(64, eps=1e-05, momentum=0.1, affine=True, track_running_stats=True)\n",
              "  (relu): ReLU(inplace=True)\n",
              "  (maxpool): MaxPool2d(kernel_size=3, stride=2, padding=1, dilation=1, ceil_mode=False)\n",
              "  (layer1): Sequential(\n",
              "    (0): BasicBlock(\n",
              "      (conv1): Conv2d(64, 64, kernel_size=(3, 3), stride=(1, 1), padding=(1, 1), bias=False)\n",
              "      (bn1): BatchNorm2d(64, eps=1e-05, momentum=0.1, affine=True, track_running_stats=True)\n",
              "      (relu): ReLU(inplace=True)\n",
              "      (conv2): Conv2d(64, 64, kernel_size=(3, 3), stride=(1, 1), padding=(1, 1), bias=False)\n",
              "      (bn2): BatchNorm2d(64, eps=1e-05, momentum=0.1, affine=True, track_running_stats=True)\n",
              "    )\n",
              "    (1): BasicBlock(\n",
              "      (conv1): Conv2d(64, 64, kernel_size=(3, 3), stride=(1, 1), padding=(1, 1), bias=False)\n",
              "      (bn1): BatchNorm2d(64, eps=1e-05, momentum=0.1, affine=True, track_running_stats=True)\n",
              "      (relu): ReLU(inplace=True)\n",
              "      (conv2): Conv2d(64, 64, kernel_size=(3, 3), stride=(1, 1), padding=(1, 1), bias=False)\n",
              "      (bn2): BatchNorm2d(64, eps=1e-05, momentum=0.1, affine=True, track_running_stats=True)\n",
              "    )\n",
              "  )\n",
              "  (layer2): Sequential(\n",
              "    (0): BasicBlock(\n",
              "      (conv1): Conv2d(64, 128, kernel_size=(3, 3), stride=(2, 2), padding=(1, 1), bias=False)\n",
              "      (bn1): BatchNorm2d(128, eps=1e-05, momentum=0.1, affine=True, track_running_stats=True)\n",
              "      (relu): ReLU(inplace=True)\n",
              "      (conv2): Conv2d(128, 128, kernel_size=(3, 3), stride=(1, 1), padding=(1, 1), bias=False)\n",
              "      (bn2): BatchNorm2d(128, eps=1e-05, momentum=0.1, affine=True, track_running_stats=True)\n",
              "      (downsample): Sequential(\n",
              "        (0): Conv2d(64, 128, kernel_size=(1, 1), stride=(2, 2), bias=False)\n",
              "        (1): BatchNorm2d(128, eps=1e-05, momentum=0.1, affine=True, track_running_stats=True)\n",
              "      )\n",
              "    )\n",
              "    (1): BasicBlock(\n",
              "      (conv1): Conv2d(128, 128, kernel_size=(3, 3), stride=(1, 1), padding=(1, 1), bias=False)\n",
              "      (bn1): BatchNorm2d(128, eps=1e-05, momentum=0.1, affine=True, track_running_stats=True)\n",
              "      (relu): ReLU(inplace=True)\n",
              "      (conv2): Conv2d(128, 128, kernel_size=(3, 3), stride=(1, 1), padding=(1, 1), bias=False)\n",
              "      (bn2): BatchNorm2d(128, eps=1e-05, momentum=0.1, affine=True, track_running_stats=True)\n",
              "    )\n",
              "  )\n",
              "  (layer3): Sequential(\n",
              "    (0): BasicBlock(\n",
              "      (conv1): Conv2d(128, 256, kernel_size=(3, 3), stride=(2, 2), padding=(1, 1), bias=False)\n",
              "      (bn1): BatchNorm2d(256, eps=1e-05, momentum=0.1, affine=True, track_running_stats=True)\n",
              "      (relu): ReLU(inplace=True)\n",
              "      (conv2): Conv2d(256, 256, kernel_size=(3, 3), stride=(1, 1), padding=(1, 1), bias=False)\n",
              "      (bn2): BatchNorm2d(256, eps=1e-05, momentum=0.1, affine=True, track_running_stats=True)\n",
              "      (downsample): Sequential(\n",
              "        (0): Conv2d(128, 256, kernel_size=(1, 1), stride=(2, 2), bias=False)\n",
              "        (1): BatchNorm2d(256, eps=1e-05, momentum=0.1, affine=True, track_running_stats=True)\n",
              "      )\n",
              "    )\n",
              "    (1): BasicBlock(\n",
              "      (conv1): Conv2d(256, 256, kernel_size=(3, 3), stride=(1, 1), padding=(1, 1), bias=False)\n",
              "      (bn1): BatchNorm2d(256, eps=1e-05, momentum=0.1, affine=True, track_running_stats=True)\n",
              "      (relu): ReLU(inplace=True)\n",
              "      (conv2): Conv2d(256, 256, kernel_size=(3, 3), stride=(1, 1), padding=(1, 1), bias=False)\n",
              "      (bn2): BatchNorm2d(256, eps=1e-05, momentum=0.1, affine=True, track_running_stats=True)\n",
              "    )\n",
              "  )\n",
              "  (layer4): Sequential(\n",
              "    (0): BasicBlock(\n",
              "      (conv1): Conv2d(256, 512, kernel_size=(3, 3), stride=(2, 2), padding=(1, 1), bias=False)\n",
              "      (bn1): BatchNorm2d(512, eps=1e-05, momentum=0.1, affine=True, track_running_stats=True)\n",
              "      (relu): ReLU(inplace=True)\n",
              "      (conv2): Conv2d(512, 512, kernel_size=(3, 3), stride=(1, 1), padding=(1, 1), bias=False)\n",
              "      (bn2): BatchNorm2d(512, eps=1e-05, momentum=0.1, affine=True, track_running_stats=True)\n",
              "      (downsample): Sequential(\n",
              "        (0): Conv2d(256, 512, kernel_size=(1, 1), stride=(2, 2), bias=False)\n",
              "        (1): BatchNorm2d(512, eps=1e-05, momentum=0.1, affine=True, track_running_stats=True)\n",
              "      )\n",
              "    )\n",
              "    (1): BasicBlock(\n",
              "      (conv1): Conv2d(512, 512, kernel_size=(3, 3), stride=(1, 1), padding=(1, 1), bias=False)\n",
              "      (bn1): BatchNorm2d(512, eps=1e-05, momentum=0.1, affine=True, track_running_stats=True)\n",
              "      (relu): ReLU(inplace=True)\n",
              "      (conv2): Conv2d(512, 512, kernel_size=(3, 3), stride=(1, 1), padding=(1, 1), bias=False)\n",
              "      (bn2): BatchNorm2d(512, eps=1e-05, momentum=0.1, affine=True, track_running_stats=True)\n",
              "    )\n",
              "  )\n",
              "  (avgpool): AdaptiveAvgPool2d(output_size=(1, 1))\n",
              "  (fc): Linear(in_features=512, out_features=10, bias=True)\n",
              ")"
            ]
          },
          "metadata": {},
          "execution_count": 4
        }
      ]
    },
    {
      "cell_type": "code",
      "metadata": {
        "colab": {
          "base_uri": "https://localhost:8080/"
        },
        "id": "xnDc5x_R-uT0",
        "outputId": "e6490268-2edd-40a5-d722-325a5b7cf004"
      },
      "source": [
        "# Dataset Preprocessing\n",
        "print(\"==> Preparing data..\")\n",
        "transform_train = transforms.Compose([\n",
        "    transforms.RandomCrop(32,padding=4),\n",
        "    transforms.RandomHorizontalFlip(),\n",
        "    transforms.ToTensor(),\n",
        "    transforms.Normalize((0.4914,0.4822,0.4465),(0.2023,0.1994,0.2010)),\n",
        "])"
      ],
      "id": "xnDc5x_R-uT0",
      "execution_count": 5,
      "outputs": [
        {
          "output_type": "stream",
          "name": "stdout",
          "text": [
            "==> Preparing data..\n"
          ]
        }
      ]
    },
    {
      "cell_type": "code",
      "metadata": {
        "id": "ZhWLzzK2_WWN"
      },
      "source": [
        "# Data augmentation and normalization for testing\n",
        "transform_test = transforms.Compose([\n",
        "    transforms.ToTensor(),\n",
        "    transforms.Normalize((0.4914,0.4822,0.4465),(0.2023,0.1994,0.2010)),\n",
        "])"
      ],
      "id": "ZhWLzzK2_WWN",
      "execution_count": 6,
      "outputs": []
    },
    {
      "cell_type": "code",
      "metadata": {
        "colab": {
          "base_uri": "https://localhost:8080/"
        },
        "id": "C-oMxs5c_ZVh",
        "outputId": "01a21e5e-ee29-4a27-c6b8-e0797b535271"
      },
      "source": [
        "# Download the CIFAR10 dataset\n",
        "trainset = torchvision.datasets.CIFAR10(\n",
        "root='./data',train=True,download=True,transform=transform_train)"
      ],
      "id": "C-oMxs5c_ZVh",
      "execution_count": 7,
      "outputs": [
        {
          "output_type": "stream",
          "name": "stdout",
          "text": [
            "Files already downloaded and verified\n"
          ]
        }
      ]
    },
    {
      "cell_type": "code",
      "metadata": {
        "id": "zPcXWJFK_Z6n"
      },
      "source": [
        "torchloader = torch.utils.data.DataLoader(\n",
        "trainset,batch_size=128,shuffle=True,num_workers=2)"
      ],
      "id": "zPcXWJFK_Z6n",
      "execution_count": 8,
      "outputs": []
    },
    {
      "cell_type": "code",
      "metadata": {
        "colab": {
          "base_uri": "https://localhost:8080/"
        },
        "id": "SAuKsIX3_cWw",
        "outputId": "88e55f85-6a78-41ec-e493-f960ff6941b6"
      },
      "source": [
        "testset = torchvision.datasets.CIFAR10(\n",
        "root='./data',train=False,download=True,transform=transform_test)"
      ],
      "id": "SAuKsIX3_cWw",
      "execution_count": 9,
      "outputs": [
        {
          "output_type": "stream",
          "name": "stdout",
          "text": [
            "Files already downloaded and verified\n"
          ]
        }
      ]
    },
    {
      "cell_type": "code",
      "metadata": {
        "id": "eXOo8ewv_emo"
      },
      "source": [
        "testloader = torch.utils.data.DataLoader(testset,batch_size=100,shuffle=False,num_workers=2)"
      ],
      "id": "eXOo8ewv_emo",
      "execution_count": 10,
      "outputs": []
    },
    {
      "cell_type": "code",
      "metadata": {
        "id": "VKP1lNIh_hX7"
      },
      "source": [
        "classes = ('plane','car','bird','cat','deer','dog','frog','horse','ship','truck')"
      ],
      "id": "VKP1lNIh_hX7",
      "execution_count": 11,
      "outputs": []
    },
    {
      "cell_type": "code",
      "metadata": {
        "id": "taLe2AsT_r-R"
      },
      "source": [
        "epoch= 1\n",
        "criterion = nn.CrossEntropyLoss()"
      ],
      "id": "taLe2AsT_r-R",
      "execution_count": 12,
      "outputs": []
    },
    {
      "cell_type": "code",
      "metadata": {
        "id": "OOXawmchACMm"
      },
      "source": [
        "device = 'cuda' if torch.cuda.is_available() else 'cpu'"
      ],
      "id": "OOXawmchACMm",
      "execution_count": 13,
      "outputs": []
    },
    {
      "cell_type": "code",
      "metadata": {
        "id": "oQmr7PC97NVS"
      },
      "source": [
        "#calculate sparsity ratio\n",
        "def calculate_sparsity(model):\n",
        "  total_count = 0\n",
        "  zero_count = 0\n",
        "  \n",
        "  for buffer_name, buffer in model.named_buffers():\n",
        "    zero_count += torch.sum(buffer == 0).item()\n",
        "    if zero_count>0:\n",
        "      total_count += buffer.nelement()\n",
        "\n",
        "  print(\"Total params: \", total_count)\n",
        "  print(\"Zero params: \", zero_count)\n",
        "  return (math.ceil(zero_count*100/total_count))"
      ],
      "id": "oQmr7PC97NVS",
      "execution_count": 14,
      "outputs": []
    },
    {
      "cell_type": "code",
      "metadata": {
        "colab": {
          "base_uri": "https://localhost:8080/"
        },
        "id": "LZD95FkCtOKP",
        "outputId": "527e6e66-f5ca-494e-848b-ae4e475086a2"
      },
      "source": [
        "# Build and save the iterative pruning model with 50 % sparsity ratio\n",
        "model1 = copy.deepcopy(my_model)\n",
        "parameters_to_prune =[]\n",
        "for module_name, module in model1.named_modules():\n",
        "        if isinstance(module, torch.nn.Conv2d) or isinstance(module, torch.nn.Linear):\n",
        "            parameters_to_prune.append((module, \"weight\"))\n",
        "print(\"Layers to prune {}\".format((len(parameters_to_prune))))\n",
        "for i in range(5):\n",
        "  prune.global_unstructured(\n",
        "  parameters_to_prune,\n",
        "  pruning_method=prune.L1Unstructured,\n",
        "  amount=0.128,\n",
        "  )\n",
        "print(\"Sparsity of model1\", calculate_sparsity(model1))\n",
        "#torch.save(model1, \"cifar10_models/state_dicts/Iterative_50.pt\")"
      ],
      "id": "LZD95FkCtOKP",
      "execution_count": null,
      "outputs": [
        {
          "output_type": "stream",
          "name": "stdout",
          "text": [
            "Layers to prune 21\n"
          ]
        }
      ]
    },
    {
      "cell_type": "code",
      "metadata": {
        "id": "3ch4j2hMAIX9"
      },
      "source": [
        "model1.to(device)"
      ],
      "id": "3ch4j2hMAIX9",
      "execution_count": null,
      "outputs": []
    },
    {
      "cell_type": "code",
      "metadata": {
        "id": "gzgvUEC4-Fj7"
      },
      "source": [
        "# Test the accuracy of the model on the validation set\n",
        "def test(epochs):\n",
        "    model1.eval()\n",
        "    val_acc=0\n",
        "    val_loss=0\n",
        "    val_correct=0\n",
        "    val_total = 0\n",
        "    with torch.no_grad():\n",
        "        for batch_idx, (inputs,targets) in enumerate(testloader):\n",
        "            inputs,targets = inputs.to(device),targets.to(device)\n",
        "            outputs = model1(inputs)\n",
        "            loss = criterion(outputs,targets)\n",
        "            val_loss += loss.item()\n",
        "            _,predicted = outputs.max(1)\n",
        "            val_total += targets.size(0)\n",
        "            val_correct += predicted.eq(targets).sum().item()\n",
        "            val_acc = 100.*val_correct/val_total\n",
        "            if batch_idx%40==39:\n",
        "                print(\"Evaluating....\")\n",
        "                print(batch_idx,len(testloader),'Loss: %.3f | Acc: %0.3f (%d/%d)' % (val_loss/(batch_idx+1),100*val_correct/val_total,val_correct,val_total))\n",
        "    "
      ],
      "id": "gzgvUEC4-Fj7",
      "execution_count": null,
      "outputs": []
    },
    {
      "cell_type": "code",
      "metadata": {
        "id": "JPbqwbPH-IEr"
      },
      "source": [
        "# The model achieves an accuracy of ~93% on the test set.\n",
        "for e in range(epoch):\n",
        "    print(\"Epoch\", e+1)\n",
        "    test(epoch)"
      ],
      "id": "JPbqwbPH-IEr",
      "execution_count": null,
      "outputs": []
    },
    {
      "cell_type": "code",
      "metadata": {
        "id": "9lqcJFMOIivX"
      },
      "source": [
        "#save the model\n",
        "torch.save(model1, \"cifar10_models/state_dicts/Iterative_50.pt\")"
      ],
      "id": "9lqcJFMOIivX",
      "execution_count": null,
      "outputs": []
    },
    {
      "cell_type": "code",
      "metadata": {
        "id": "7c446aa0"
      },
      "source": [
        "# Build and save the iterative pruning model with 75 % sparsity ratio\n",
        "model2 = copy.deepcopy(my_model)\n",
        "parameters_to_prune =[]\n",
        "for module_name, module in model2.named_modules():\n",
        "        if isinstance(module, torch.nn.Conv2d) or isinstance(module, torch.nn.Linear):\n",
        "            parameters_to_prune.append((module, \"weight\"))\n",
        "print(\"Layers to prune {}\".format((len(parameters_to_prune))))\n",
        "for i in range(5):\n",
        "  prune.global_unstructured(\n",
        "  parameters_to_prune,\n",
        "  pruning_method=prune.L1Unstructured,\n",
        "  amount=0.24,\n",
        "  )\n",
        "print(\"Sparsity of model2\", calculate_sparsity(model2))\n"
      ],
      "id": "7c446aa0",
      "execution_count": null,
      "outputs": []
    },
    {
      "cell_type": "code",
      "metadata": {
        "id": "MSPVxn2GD9LP"
      },
      "source": [
        "model2.to(device)"
      ],
      "id": "MSPVxn2GD9LP",
      "execution_count": null,
      "outputs": []
    },
    {
      "cell_type": "code",
      "metadata": {
        "id": "bW3NwVnSD4ou"
      },
      "source": [
        "# Test the accuracy of the model on the validation set\n",
        "def test(epochs):\n",
        "    model2.eval()\n",
        "    val_acc=0\n",
        "    val_loss=0\n",
        "    val_correct=0\n",
        "    val_total = 0\n",
        "    with torch.no_grad():\n",
        "        for batch_idx, (inputs,targets) in enumerate(testloader):\n",
        "            inputs,targets = inputs.to(device),targets.to(device)\n",
        "            outputs = model2(inputs)\n",
        "            loss = criterion(outputs,targets)\n",
        "            val_loss += loss.item()\n",
        "            _,predicted = outputs.max(1)\n",
        "            val_total += targets.size(0)\n",
        "            val_correct += predicted.eq(targets).sum().item()\n",
        "            val_acc = 100.*val_correct/val_total\n",
        "            if batch_idx%40==39:\n",
        "                print(\"Evaluating....\")\n",
        "                print(batch_idx,len(testloader),'Loss: %.3f | Acc: %0.3f (%d/%d)' % (val_loss/(batch_idx+1),100*val_correct/val_total,val_correct,val_total))\n",
        "\n",
        "    "
      ],
      "id": "bW3NwVnSD4ou",
      "execution_count": null,
      "outputs": []
    },
    {
      "cell_type": "code",
      "metadata": {
        "id": "L-ss10KMEL0V"
      },
      "source": [
        "for e in range(epoch):\n",
        "    print(\"Epoch\", e+1)\n",
        "    test(epoch)"
      ],
      "id": "L-ss10KMEL0V",
      "execution_count": null,
      "outputs": []
    },
    {
      "cell_type": "code",
      "metadata": {
        "id": "vdWKQYNdI1fX"
      },
      "source": [
        "#save the model\n",
        "torch.save(model2, \"cifar10_models/state_dicts/Iterative_75.pt\")"
      ],
      "id": "vdWKQYNdI1fX",
      "execution_count": null,
      "outputs": []
    },
    {
      "cell_type": "code",
      "metadata": {
        "id": "7a8cf94c"
      },
      "source": [
        "# Build and save the iterative pruning model with 90 % sparsity ratio\n",
        "model3 = copy.deepcopy(my_model)\n",
        "parameters_to_prune =[]\n",
        "for module_name, module in model3.named_modules():\n",
        "        if isinstance(module, torch.nn.Conv2d) or isinstance(module, torch.nn.Linear):\n",
        "            parameters_to_prune.append((module, \"weight\"))\n",
        "print(\"Layers to prune {}\".format((len(parameters_to_prune))))\n",
        "for i in range(5):\n",
        "  prune.global_unstructured(\n",
        "  parameters_to_prune,\n",
        "  pruning_method=prune.L1Unstructured,\n",
        "  amount=0.36,\n",
        "  )\n",
        "print(\"Sparsity of model3\", calculate_sparsity(model3))"
      ],
      "id": "7a8cf94c",
      "execution_count": null,
      "outputs": []
    },
    {
      "cell_type": "code",
      "metadata": {
        "id": "2ec1e47c"
      },
      "source": [
        "model3.to(device)"
      ],
      "id": "2ec1e47c",
      "execution_count": null,
      "outputs": []
    },
    {
      "cell_type": "code",
      "metadata": {
        "id": "4185c5c0"
      },
      "source": [
        "# Test the accuracy of the model on the validation set\n",
        "def test(epochs):\n",
        "    model3.eval()\n",
        "    val_acc=0\n",
        "    val_loss=0\n",
        "    val_correct=0\n",
        "    val_total = 0\n",
        "    with torch.no_grad():\n",
        "        for batch_idx, (inputs,targets) in enumerate(testloader):\n",
        "            inputs,targets = inputs.to(device),targets.to(device)\n",
        "            outputs = model3(inputs)\n",
        "            loss = criterion(outputs,targets)\n",
        "            val_loss += loss.item()\n",
        "            _,predicted = outputs.max(1)\n",
        "            val_total += targets.size(0)\n",
        "            val_correct += predicted.eq(targets).sum().item()\n",
        "            val_acc = 100.*val_correct/val_total\n",
        "            if batch_idx%40==39:\n",
        "                print(\"Evaluating....\")\n",
        "                print(batch_idx,len(testloader),'Loss: %.3f | Acc: %0.3f (%d/%d)' % (val_loss/(batch_idx+1),100*val_correct/val_total,val_correct,val_total))\n",
        "                \n",
        "    "
      ],
      "id": "4185c5c0",
      "execution_count": null,
      "outputs": []
    },
    {
      "cell_type": "code",
      "metadata": {
        "id": "mnH9XNwFE_dy"
      },
      "source": [
        "for e in range(epoch):\n",
        "    print(\"Epoch\", e+1)\n",
        "    test(epoch)"
      ],
      "id": "mnH9XNwFE_dy",
      "execution_count": null,
      "outputs": []
    },
    {
      "cell_type": "code",
      "metadata": {
        "id": "LAKFX9KQI6WI"
      },
      "source": [
        "#save the model\n",
        "torch.save(model3, \"cifar10_models/state_dicts/Iterative_90.pt\")"
      ],
      "id": "LAKFX9KQI6WI",
      "execution_count": null,
      "outputs": []
    }
  ]
}