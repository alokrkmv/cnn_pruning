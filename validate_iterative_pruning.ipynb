{
  "nbformat": 4,
  "nbformat_minor": 5,
  "metadata": {
    "kernelspec": {
      "display_name": "Python 3",
      "language": "python",
      "name": "python3"
    },
    "language_info": {
      "codemirror_mode": {
        "name": "ipython",
        "version": 3
      },
      "file_extension": ".py",
      "mimetype": "text/x-python",
      "name": "python",
      "nbconvert_exporter": "python",
      "pygments_lexer": "ipython3",
      "version": "3.6.13"
    },
    "colab": {
      "name": "validate_iterative_pruning.ipynb",
      "provenance": []
    }
  },
  "cells": [
    {
      "cell_type": "code",
      "metadata": {
        "id": "6ccb0219"
      },
      "source": [
        "# This notebook contains code for evaluating iterative pruned model on CIFAR dataset.\n",
        "# We are using following evaluation metrices\n",
        "# sparisty = zero parameters/parameter\n",
        "# Test Accuracy = Correctly classified data poimts from test data/total amount of data points from test data\n",
        "# Accuracy Drop = test accuracy without pruning - test accuracy after pruning \n",
        "# Inference time = averaged time spent on the inference of one image\n",
        "# Speedup = inference time  before pruninginfrence time  after pruning"
      ],
      "id": "6ccb0219",
      "execution_count": 1,
      "outputs": []
    },
    {
      "cell_type": "code",
      "metadata": {
        "colab": {
          "base_uri": "https://localhost:8080/"
        },
        "id": "p7pIghi4OKqO",
        "outputId": "60ff6a06-b449-41a6-86d1-c1666b2cac58"
      },
      "source": [
        "from google.colab import drive\n",
        "drive.mount('/content/drive',force_remount=True)\n",
        "FOLDERNAME = 'cs532/project_2_cnn_pruning/'\n",
        "%cd drive/My\\ Drive/$FOLDERNAME"
      ],
      "id": "p7pIghi4OKqO",
      "execution_count": 2,
      "outputs": [
        {
          "output_type": "stream",
          "name": "stdout",
          "text": [
            "Mounted at /content/drive\n",
            "/content/drive/My Drive/cs532/project_2_cnn_pruning\n"
          ]
        }
      ]
    },
    {
      "cell_type": "code",
      "metadata": {
        "id": "616df9cb"
      },
      "source": [
        "# Dataset Preprocessing\n",
        "import torch\n",
        "import torch.nn as nn\n",
        "import torch.optim as optim\n",
        "import torch.nn.functional as F\n",
        "import torchvision\n",
        "import time\n",
        "from torchvision import datasets, transforms\n",
        "import requests\n",
        "from PIL import Image\n",
        "import matplotlib.pyplot as plt\n",
        "\n",
        "import numpy as np\n",
        "import pandas as pd\n",
        "import matplotlib.pyplot as plt\n",
        "import itertools\n",
        "import math\n",
        "import random\n",
        "from sklearn.metrics import confusion_matrix\n",
        "import os\n",
        "import datetime"
      ],
      "id": "616df9cb",
      "execution_count": 3,
      "outputs": []
    },
    {
      "cell_type": "code",
      "metadata": {
        "id": "39c1591d"
      },
      "source": [
        "torch.cuda.empty_cache()"
      ],
      "id": "39c1591d",
      "execution_count": 4,
      "outputs": []
    },
    {
      "cell_type": "code",
      "metadata": {
        "id": "c2fe822d"
      },
      "source": [
        "# If GPU is available, use it\n",
        "device = 'cuda' if torch.cuda.is_available() else 'cpu'"
      ],
      "id": "c2fe822d",
      "execution_count": 5,
      "outputs": []
    },
    {
      "cell_type": "code",
      "metadata": {
        "id": "011d9732"
      },
      "source": [
        "best_acc = 0\n",
        "start_epoch = 0"
      ],
      "id": "011d9732",
      "execution_count": 6,
      "outputs": []
    },
    {
      "cell_type": "code",
      "metadata": {
        "id": "a0927c0b"
      },
      "source": [
        "# Data augmentation and normalization for testing\n",
        "transform_test = transforms.Compose([\n",
        "    transforms.ToTensor(),\n",
        "    transforms.Normalize((0.4914,0.4822,0.4465),(0.2023,0.1994,0.2010)),\n",
        "])"
      ],
      "id": "a0927c0b",
      "execution_count": 7,
      "outputs": []
    },
    {
      "cell_type": "code",
      "metadata": {
        "colab": {
          "base_uri": "https://localhost:8080/"
        },
        "id": "e55d646c",
        "outputId": "4c3989c7-c90c-4e4c-ce0c-78984ad24d18"
      },
      "source": [
        "testset = torchvision.datasets.CIFAR10(\n",
        "root='./data',train=False,download=True,transform=transform_test)"
      ],
      "id": "e55d646c",
      "execution_count": 8,
      "outputs": [
        {
          "output_type": "stream",
          "name": "stdout",
          "text": [
            "Files already downloaded and verified\n"
          ]
        }
      ]
    },
    {
      "cell_type": "code",
      "metadata": {
        "id": "d550a198"
      },
      "source": [
        "testloader = torch.utils.data.DataLoader(testset,batch_size=100,shuffle=False,num_workers=2)"
      ],
      "id": "d550a198",
      "execution_count": 9,
      "outputs": []
    },
    {
      "cell_type": "code",
      "metadata": {
        "id": "163f7ba2"
      },
      "source": [
        "classes = ('plane','car','bird','cat','deer','dog','frog','horse','ship','truck')"
      ],
      "id": "163f7ba2",
      "execution_count": 10,
      "outputs": []
    },
    {
      "cell_type": "code",
      "metadata": {
        "id": "dc5d3c62"
      },
      "source": [
        "# Load the pretrained model\n",
        "from cifar10_models.resnet import resnet18\n",
        "my_model = resnet18()\n",
        "\n",
        "# Pretrained model\n",
        "my_model = resnet18(pretrained=True)\n",
        "my_model.to(device)\n",
        "my_model.eval()\n",
        "epoch= 1\n",
        "criterion = nn.CrossEntropyLoss()"
      ],
      "id": "dc5d3c62",
      "execution_count": 11,
      "outputs": []
    },
    {
      "cell_type": "code",
      "metadata": {
        "id": "3a0c5c98"
      },
      "source": [
        "# Evaluation Script\n",
        "def test(epochs,model):\n",
        "    val_acc=0\n",
        "    val_loss=0\n",
        "    val_correct=0\n",
        "    val_total = 0\n",
        "    with torch.no_grad():\n",
        "        for batch_idx, (inputs,targets) in enumerate(testloader):\n",
        "            inputs,targets = inputs.to(device),targets.to(device)\n",
        "            outputs = model(inputs)\n",
        "            loss = criterion(outputs,targets)\n",
        "            val_loss += loss.item()\n",
        "            _,predicted = outputs.max(1)\n",
        "            val_total += targets.size(0)\n",
        "            val_correct += predicted.eq(targets).sum().item()\n",
        "            val_acc = 100.*val_correct/val_total\n",
        "            if batch_idx%40==39:\n",
        "                print(\"Evaluating....\")\n",
        "                print(batch_idx,len(testloader),'Loss: %.3f | Acc: %0.3f (%d/%d)' % (val_loss/(batch_idx+1),100*val_correct/val_total,val_correct,val_total))\n",
        "    return val_acc\n",
        "    \n"
      ],
      "id": "3a0c5c98",
      "execution_count": 12,
      "outputs": []
    },
    {
      "cell_type": "code",
      "metadata": {
        "colab": {
          "base_uri": "https://localhost:8080/"
        },
        "id": "2d821c1d",
        "outputId": "65eecb44-17ed-4e82-d1d3-2029e4cd309b"
      },
      "source": [
        "validation_accuracy =  test(1,my_model)"
      ],
      "id": "2d821c1d",
      "execution_count": 13,
      "outputs": [
        {
          "output_type": "stream",
          "name": "stdout",
          "text": [
            "Evaluating....\n",
            "39 100 Loss: 0.283 | Acc: 92.125 (3685/4000)\n",
            "Evaluating....\n",
            "79 100 Loss: 0.276 | Acc: 92.475 (7398/8000)\n"
          ]
        }
      ]
    },
    {
      "cell_type": "code",
      "metadata": {
        "id": "5210e420"
      },
      "source": [
        "def load_model(model_name):\n",
        "    script_dir = os.path.abspath(os.getcwd())\n",
        "    model = torch.load(\n",
        "        script_dir + \"/cifar10_models/state_dicts/\" + model_name + \".pt\", map_location=device\n",
        "    )\n",
        "    return model"
      ],
      "id": "5210e420",
      "execution_count": 14,
      "outputs": []
    },
    {
      "cell_type": "code",
      "metadata": {
        "id": "4f38c090"
      },
      "source": [
        "def calculate_sparsity(model):\n",
        "  total_count = 0\n",
        "  zero_count = 0\n",
        "  \n",
        "  for buffer_name, buffer in model.named_buffers():\n",
        "    zero_count += torch.sum(buffer == 0).item()\n",
        "    if zero_count>0:\n",
        "      total_count += buffer.nelement()\n",
        "\n",
        "  print(\"Total params: \", total_count)\n",
        "  print(\"Zero params: \", zero_count)\n",
        "  return (math.ceil(zero_count*100/total_count))"
      ],
      "id": "4f38c090",
      "execution_count": 15,
      "outputs": []
    },
    {
      "cell_type": "code",
      "metadata": {
        "id": "91701f93"
      },
      "source": [
        "# EValuation for one image\n",
        "def test_inference(epochs,model):\n",
        "    val_acc=0\n",
        "    val_loss=0\n",
        "    val_correct=0\n",
        "    val_total = 0\n",
        "    with torch.no_grad():\n",
        "        for batch_idx, (inputs,targets) in enumerate(testloader):\n",
        "            if batch_idx>1:\n",
        "                break\n",
        "            inputs,targets = inputs.to(device),targets.to(device)\n",
        "            outputs = model(inputs)\n",
        "            loss = criterion(outputs,targets)\n",
        "            val_loss += loss.item()\n",
        "            _,predicted = outputs.max(1)\n",
        "            val_total += targets.size(0)\n",
        "            val_correct += predicted.eq(targets).sum().item()\n",
        "            val_acc = 100.*val_correct/val_total\n",
        "            if batch_idx%40==39:\n",
        "                print(\"Evaluating....\")\n",
        "                print(batch_idx,len(testloader),'Loss: %.3f | Acc: %0.3f (%d/%d)' % (val_loss/(batch_idx+1),100*val_correct/val_total,val_correct,val_total))\n",
        "    return val_acc"
      ],
      "id": "91701f93",
      "execution_count": 16,
      "outputs": []
    },
    {
      "cell_type": "code",
      "metadata": {
        "id": "a60ba0ef"
      },
      "source": [
        "# Inference time for unprunned mode\n",
        "start_time = datetime.datetime.now()\n",
        "test_inference(1,my_model)\n",
        "\n",
        "end_time = datetime.datetime.now()\n",
        "\n",
        "\n",
        "time_diff = (end_time - start_time)\n",
        "\n",
        "inference_time_uprunned_model = (time_diff.total_seconds()+1) * 1000"
      ],
      "id": "a60ba0ef",
      "execution_count": 23,
      "outputs": []
    },
    {
      "cell_type": "code",
      "metadata": {
        "colab": {
          "base_uri": "https://localhost:8080/"
        },
        "id": "d95cd21e",
        "outputId": "095239a8-6e54-4bc0-9bec-3beee1fc1c05"
      },
      "source": [
        "# Evaluating iterative prunned model with 50 percent sparcity_ratio\n",
        "resnet_iterative_prunned_50 = load_model(\"iterative_50\")\n",
        "\n",
        "resnet_iterative_prunned_50.to(device)\n",
        "resnet_iterative_prunned_50.eval()\n",
        "epoch= 1\n",
        "criterion = nn.CrossEntropyLoss()\n",
        "validation_accuracy_50 = test(1,resnet_iterative_prunned_50)\n",
        "accuracy_drop_50 = validation_accuracy-validation_accuracy_50\n"
      ],
      "id": "d95cd21e",
      "execution_count": 22,
      "outputs": [
        {
          "output_type": "stream",
          "name": "stdout",
          "text": [
            "Evaluating....\n",
            "39 100 Loss: 0.281 | Acc: 92.125 (3685/4000)\n",
            "Evaluating....\n",
            "79 100 Loss: 0.274 | Acc: 92.450 (7396/8000)\n"
          ]
        }
      ]
    },
    {
      "cell_type": "code",
      "metadata": {
        "id": "uF5S4RRtYLBk"
      },
      "source": [
        "# Calculating various inference params for 50 percent prunned model\n",
        "start_time = datetime.datetime.now()\n",
        "test_inference(1,resnet_iterative_prunned_50)\n",
        "\n",
        "end_time = datetime.datetime.now()\n",
        "\n",
        "\n",
        "time_diff = (end_time - start_time)"
      ],
      "id": "uF5S4RRtYLBk",
      "execution_count": 44,
      "outputs": []
    },
    {
      "cell_type": "code",
      "metadata": {
        "colab": {
          "base_uri": "https://localhost:8080/"
        },
        "id": "2464c819",
        "outputId": "69c38ad9-281b-4c62-8f10-371a726c826a"
      },
      "source": [
        "\n",
        "\n",
        "inference_time_prunned_50 = time_diff.total_seconds() * 1000\n",
        "speedup_prunned_50 = inference_time_uprunned_model/inference_time_prunned_50\n",
        "print(\"++++++++++++++++++++++++++++++++++++++\")\n",
        "print(\"Various Evaluation metrics for the iterative_prunned_50 model\")\n",
        "print(f\"Sparsity: {0.5*100} percent\")\n",
        "print(f\"Test Accuracy: {validation_accuracy_50:.2f}\")\n",
        "print(f\"Accuracy Drop {accuracy_drop_50:.2f}\")\n",
        "print(f\"Inference time unprunned model {inference_time_uprunned_model:.2f}\")\n",
        "print(f\"Inference time {inference_time_prunned_50:.2f}\")\n",
        "print(f\"Speed up {speedup_prunned_50:.2f}\")\n",
        "sparsity_50 = calculate_sparsity(resnet_iterative_prunned_50)\n",
        "print(f\"Sparsity : {sparsity_50}\")\n",
        "print(\"++++++++++++++++++++++++++++++++++++++++\")"
      ],
      "id": "2464c819",
      "execution_count": 46,
      "outputs": [
        {
          "output_type": "stream",
          "name": "stdout",
          "text": [
            "++++++++++++++++++++++++++++++++++++++\n",
            "Various Evaluation metrics for the iterative_prunned_50 model\n",
            "Sparsity: 50.0 percent\n",
            "Test Accuracy: 92.55\n",
            "Accuracy Drop 0.04\n",
            "Inference time unprunned model 2679.88\n",
            "Inference time 1882.50\n",
            "Speed up 1.42\n",
            "Total params:  11173972\n",
            "Zero params:  5535550\n",
            "Sparsity : 50\n",
            "++++++++++++++++++++++++++++++++++++++++\n"
          ]
        }
      ]
    },
    {
      "cell_type": "code",
      "metadata": {
        "colab": {
          "base_uri": "https://localhost:8080/"
        },
        "id": "a23c2ff9",
        "outputId": "efb9c39c-266b-479c-cc86-33d34ec33a45"
      },
      "source": [
        "# Evaluating iterative prunned model with 75 percent sparcity_ratio\n",
        "resnet_iterative_prunned_75 = load_model(\"iterative_75\")\n",
        "\n",
        "resnet_iterative_prunned_75.to(device)\n",
        "resnet_iterative_prunned_75.eval()\n",
        "epoch= 1\n",
        "criterion = nn.CrossEntropyLoss()\n",
        "validation_accuracy_75 = test(1,resnet_iterative_prunned_75)"
      ],
      "id": "a23c2ff9",
      "execution_count": 21,
      "outputs": [
        {
          "output_type": "stream",
          "name": "stdout",
          "text": [
            "Evaluating....\n",
            "39 100 Loss: 0.451 | Acc: 87.700 (3508/4000)\n",
            "Evaluating....\n",
            "79 100 Loss: 0.431 | Acc: 88.088 (7047/8000)\n"
          ]
        }
      ]
    },
    {
      "cell_type": "code",
      "metadata": {
        "id": "mCf5wnqgW5pz"
      },
      "source": [
        "# Calculating various inference params for 75 percent prunned model\n",
        "start_time = datetime.datetime.now()\n",
        "test_inference(1,resnet_iterative_prunned_75)\n",
        "\n",
        "end_time = datetime.datetime.now()\n",
        "\n",
        "\n",
        "time_diff = (end_time - start_time)"
      ],
      "id": "mCf5wnqgW5pz",
      "execution_count": 25,
      "outputs": []
    },
    {
      "cell_type": "code",
      "metadata": {
        "colab": {
          "base_uri": "https://localhost:8080/"
        },
        "id": "325603ed",
        "outputId": "d34df5d0-12a5-47bc-f608-708e7e3789aa"
      },
      "source": [
        "inference_time_prunned_75 = time_diff.total_seconds() * 1000\n",
        "speedup_prunned_75 = inference_time_uprunned_model/inference_time_prunned_75\n",
        "accuracy_drop_75 = validation_accuracy-validation_accuracy_75\n",
        "print(\"++++++++++++++++++++++++++++++++++++++\")\n",
        "print(\"Various Evaluation metrics for the iterative_prunned_75 model\")\n",
        "print(f\"Sparsity: {0.5*100} percent\")\n",
        "print(f\"Test Accuracy: {validation_accuracy_75:.2f}\")\n",
        "print(f\"Accuracy Drop {accuracy_drop_75:.2f}\")\n",
        "print(f\"Inference time unprunned model {inference_time_uprunned_model:.2f}\")\n",
        "print(f\"Inference time {inference_time_prunned_75:.2f}\")\n",
        "print(f\"Speed up {speedup_prunned_75:.2f}\")\n",
        "calculate_sparsity(resnet_iterative_prunned_75)\n",
        "sparsity_75 = calculate_sparsity(resnet_iterative_prunned_75)\n",
        "print(f\"Sparsity : {sparsity_75}\")\n",
        "print(\"++++++++++++++++++++++++++++++++++++++++\")"
      ],
      "id": "325603ed",
      "execution_count": 26,
      "outputs": [
        {
          "output_type": "stream",
          "name": "stdout",
          "text": [
            "++++++++++++++++++++++++++++++++++++++\n",
            "Various Evaluation metrics for the iterative_prunned_75 model\n",
            "Sparsity: 50.0 percent\n",
            "Test Accuracy: 87.97\n",
            "Accuracy Drop 4.62\n",
            "Inference time unprunned model 2679.88\n",
            "Inference time 1761.02\n",
            "Speed up 1.52\n",
            "Total params:  11173972\n",
            "Zero params:  8333602\n",
            "Total params:  11173972\n",
            "Zero params:  8333602\n",
            "Sparsity : 75\n",
            "++++++++++++++++++++++++++++++++++++++++\n"
          ]
        }
      ]
    },
    {
      "cell_type": "code",
      "metadata": {
        "colab": {
          "base_uri": "https://localhost:8080/"
        },
        "id": "a50df69f",
        "outputId": "44d6fd06-9327-4c2f-d064-5c920851007b"
      },
      "source": [
        "# Evaluating iterative prunned model with 90 percent sparcity_ratio\n",
        "resnet_iterative_prunned_90 = load_model(\"iterative_90\")\n",
        "\n",
        "resnet_iterative_prunned_90.to(device)\n",
        "resnet_iterative_prunned_90.eval()\n",
        "epoch= 1\n",
        "criterion = nn.CrossEntropyLoss()\n",
        "validation_accuracy_90 = test(1,resnet_iterative_prunned_90)\n",
        "accuracy_drop_90 = validation_accuracy-validation_accuracy_90"
      ],
      "id": "a50df69f",
      "execution_count": 27,
      "outputs": [
        {
          "output_type": "stream",
          "name": "stdout",
          "text": [
            "Evaluating....\n",
            "39 100 Loss: 0.423 | Acc: 87.325 (3493/4000)\n",
            "Evaluating....\n",
            "79 100 Loss: 0.415 | Acc: 87.800 (7024/8000)\n"
          ]
        }
      ]
    },
    {
      "cell_type": "code",
      "metadata": {
        "id": "JsfUvPkqXcN5"
      },
      "source": [
        "# Calculating various inference params for 90 percent prunned model\n",
        "start_time = datetime.datetime.now()\n",
        "test_inference(1,resnet_iterative_prunned_90)\n",
        "\n",
        "end_time = datetime.datetime.now()\n",
        "\n",
        "\n",
        "time_diff = (end_time - start_time)\n",
        "\n",
        "inference_time_prunned_90 = time_diff.total_seconds() * 1000"
      ],
      "id": "JsfUvPkqXcN5",
      "execution_count": 34,
      "outputs": []
    },
    {
      "cell_type": "code",
      "metadata": {
        "colab": {
          "base_uri": "https://localhost:8080/"
        },
        "id": "c119e760",
        "outputId": "a61656a9-015a-421a-ab94-c7cb27ba07a4"
      },
      "source": [
        "\n",
        "speedup_prunned_90 = inference_time_uprunned_model/inference_time_prunned_90\n",
        "print(\"++++++++++++++++++++++++++++++++++++++\")\n",
        "print(\"Various Evaluation metrics for the iterative_prunned_90 model\")\n",
        "print(f\"Sparsity: {0.5*100} percent\")\n",
        "print(f\"Test Accuracy: {validation_accuracy_90:.2f}\")\n",
        "print(f\"Accuracy Drop {accuracy_drop_90:.2f}\")\n",
        "print(f\"Inference time unprunned model {inference_time_uprunned_model:.2f}\")\n",
        "print(f\"Inference time {inference_time_prunned_90:.2f}\")\n",
        "print(f\"Speed up {speedup_prunned_90:.2f}\")\n",
        "calculate_sparsity(resnet_iterative_prunned_90)\n",
        "sparsity_90 = calculate_sparsity(resnet_iterative_prunned_90)\n",
        "print(f\"Sparsity {sparsity_90}\")\n",
        "print(\"++++++++++++++++++++++++++++++++++++++++\")"
      ],
      "id": "c119e760",
      "execution_count": 40,
      "outputs": [
        {
          "output_type": "stream",
          "name": "stdout",
          "text": [
            "++++++++++++++++++++++++++++++++++++++\n",
            "Various Evaluation metrics for the iterative_prunned_90 model\n",
            "Sparsity: 50.0 percent\n",
            "Test Accuracy: 87.91\n",
            "Accuracy Drop 4.68\n",
            "Inference time unprunned model 2679.88\n",
            "Inference time 1732.05\n",
            "Speed up 1.55\n",
            "Total params:  11173972\n",
            "Zero params:  9965588\n",
            "Total params:  11173972\n",
            "Zero params:  9965588\n",
            "Sparsity 90\n",
            "++++++++++++++++++++++++++++++++++++++++\n"
          ]
        }
      ]
    },
    {
      "cell_type": "code",
      "metadata": {
        "colab": {
          "base_uri": "https://localhost:8080/",
          "height": 312
        },
        "id": "cf361235",
        "outputId": "ce77db21-c9a8-4800-c964-f1e4be6aa72b"
      },
      "source": [
        "# Sparsity vs accuracy graph\n",
        "\n",
        "# line 1 points\n",
        "sparsity = [sparsity_50,sparsity_75,sparsity_90]\n",
        "accuracy = [validation_accuracy_50,validation_accuracy_75,validation_accuracy_90]\n",
        "# plotting the line 1 points \n",
        "plt.xlabel('Percentage Sparsity')\n",
        "# Set the y axis label of the current axis.\n",
        "plt.ylabel('Accuracy of Model on test set')\n",
        "# Set a title of the current axes.\n",
        "plt.title('Sparsity vs accuracy graph')\n",
        "# show a legend on the plot\n",
        "plt.legend()\n",
        "# Display a figure.\n",
        "plt.plot(sparsity, accuracy, linestyle='--', marker='o')\n",
        "plt.show()"
      ],
      "id": "cf361235",
      "execution_count": 41,
      "outputs": [
        {
          "output_type": "stream",
          "name": "stderr",
          "text": [
            "No handles with labels found to put in legend.\n"
          ]
        },
        {
          "output_type": "display_data",
          "data": {
            "image/png": "[encoded data removed]",
            "text/plain": [
              "<Figure size 432x288 with 1 Axes>"
            ]
          },
          "metadata": {
            "needs_background": "light"
          }
        }
      ]
    },
    {
      "cell_type": "code",
      "metadata": {
        "colab": {
          "base_uri": "https://localhost:8080/",
          "height": 312
        },
        "id": "2b21b9b2",
        "outputId": "118edba9-1dcb-4f6a-df0f-b3dfdd29022c"
      },
      "source": [
        "# sparsity vs accuracy drop graph\n",
        "# line 1 points\n",
        "sparsity = [sparsity_50,sparsity_75,sparsity_90]\n",
        "accuracy_drop = [accuracy_drop_50,accuracy_drop_75,accuracy_drop_90]\n",
        "# plotting the line 1 points \n",
        "plt.xlabel('Percentage sparsity')\n",
        "# Set the y axis label of the current axis.\n",
        "plt.ylabel('Accuracy drop')\n",
        "# Set a title of the current axes.\n",
        "plt.title('Sparsity vs accuracy drop')\n",
        "# show a legend on the plot\n",
        "plt.legend()\n",
        "# Display a figure.\n",
        "plt.plot(sparsity, accuracy_drop, linestyle='--', marker='o')\n",
        "plt.show()"
      ],
      "id": "2b21b9b2",
      "execution_count": 42,
      "outputs": [
        {
          "output_type": "stream",
          "name": "stderr",
          "text": [
            "No handles with labels found to put in legend.\n"
          ]
        },
        {
          "output_type": "display_data",
          "data": {
            "image/png": "[encoded data removed]",
            "text/plain": [
              "<Figure size 432x288 with 1 Axes>"
            ]
          },
          "metadata": {
            "needs_background": "light"
          }
        }
      ]
    },
    {
      "cell_type": "code",
      "metadata": {
        "colab": {
          "base_uri": "https://localhost:8080/",
          "height": 312
        },
        "id": "5b876a09",
        "outputId": "0b43200a-66f0-4431-95e5-1c8432aef1b7"
      },
      "source": [
        "# sparsity vs Inference time graph (Bonus)\n",
        "# line 1 points\n",
        "sparsity = [sparsity_50,sparsity_75,sparsity_90]\n",
        "inference_time = [inference_time_prunned_50,inference_time_prunned_75,inference_time_prunned_90]\n",
        "# plotting the line 1 points \n",
        "plt.xlabel('Percentage sparsity')\n",
        "# Set the y axis label of the current axis.\n",
        "plt.ylabel('Speed up')\n",
        "# Set a title of the current axes.\n",
        "plt.title('Sparsity vs Inference time')\n",
        "# show a legend on the plot\n",
        "plt.legend()\n",
        "# Display a figure.\n",
        "plt.plot(sparsity, inference_time, linestyle='--', marker='o')\n",
        "plt.show()"
      ],
      "id": "5b876a09",
      "execution_count": 47,
      "outputs": [
        {
          "output_type": "stream",
          "name": "stderr",
          "text": [
            "No handles with labels found to put in legend.\n"
          ]
        },
        {
          "output_type": "display_data",
          "data": {
            "image/png": "[encoded data removed]",
            "text/plain": [
              "<Figure size 432x288 with 1 Axes>"
            ]
          },
          "metadata": {
            "needs_background": "light"
          }
        }
      ]
    },
    {
      "cell_type": "code",
      "metadata": {
        "colab": {
          "base_uri": "https://localhost:8080/",
          "height": 312
        },
        "id": "1670476b",
        "outputId": "080ddc84-db3c-4932-8e13-2f8410242fb2"
      },
      "source": [
        "# Sparsity vs speed up graph (Bonus)\n",
        "# line 1 points\n",
        "sparsity = [sparsity_50,sparsity_75,sparsity_90]\n",
        "speedup = [speedup_prunned_50,speedup_prunned_75,speedup_prunned_90]\n",
        "# plotting the line 1 points \n",
        "plt.xlabel('Percentage Sparcity')\n",
        "# Set the y axis label of the current axis.\n",
        "plt.ylabel('Speed up')\n",
        "# Set a title of the current axes.\n",
        "plt.title('Sparsity vs Speed Up')\n",
        "# show a legend on the plot\n",
        "plt.legend()\n",
        "# Display a figure.\n",
        "plt.plot(sparsity, speedup, linestyle='--', marker='o')\n",
        "plt.show()"
      ],
      "id": "1670476b",
      "execution_count": 48,
      "outputs": [
        {
          "output_type": "stream",
          "name": "stderr",
          "text": [
            "No handles with labels found to put in legend.\n"
          ]
        },
        {
          "output_type": "display_data",
          "data": {
            "image/png": "[encoded data removed]",
            "text/plain": [
              "<Figure size 432x288 with 1 Axes>"
            ]
          },
          "metadata": {
            "needs_background": "light"
          }
        }
      ]
    },
    {
      "cell_type": "code",
      "metadata": {
        "id": "351091a1"
      },
      "source": [
        ""
      ],
      "id": "351091a1",
      "execution_count": null,
      "outputs": []
    }
  ]
}