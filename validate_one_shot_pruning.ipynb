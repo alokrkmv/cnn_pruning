{
 "cells": [
  {
   "cell_type": "code",
   "execution_count": 1,
   "id": "81ac53eb",
   "metadata": {},
   "outputs": [],
   "source": [
    "# This notebook contains code for evaluating one shot pruned model on CIFAR dataset.\n",
    "# We are using following evaluation metrices\n",
    "# sparisty = zero parameters/parameter\n",
    "# Test Accuracy = Correctly classified data poimts from test data/total amount of data points from test data\n",
    "# Accuracy Drop = test accuracy without pruning - test accuracy after pruning \n",
    "# Inference time = averaged time spent on the inference of one image\n",
    "# Speedup = inference time  before pruninginfrence time  after pruning"
   ]
  },
  {
   "cell_type": "code",
   "execution_count": 2,
   "id": "5eab2812",
   "metadata": {},
   "outputs": [],
   "source": [
    "# Dataset Preprocessing\n",
    "import torch\n",
    "import torch.nn as nn\n",
    "import torch.optim as optim\n",
    "import torch.nn.functional as F\n",
    "import torchvision\n",
    "import time\n",
    "from torchvision import datasets, transforms\n",
    "import requests\n",
    "from PIL import Image\n",
    "import matplotlib.pyplot as plt\n",
    "\n",
    "import numpy as np\n",
    "import pandas as pd\n",
    "import matplotlib.pyplot as plt\n",
    "import itertools\n",
    "import math\n",
    "import random\n",
    "from sklearn.metrics import confusion_matrix\n",
    "import os\n",
    "import datetime"
   ]
  },
  {
   "cell_type": "code",
   "execution_count": 3,
   "id": "eb7646f7",
   "metadata": {},
   "outputs": [],
   "source": [
    "torch.cuda.empty_cache()"
   ]
  },
  {
   "cell_type": "code",
   "execution_count": 4,
   "id": "3a2318a5",
   "metadata": {},
   "outputs": [],
   "source": [
    "# If GPU is available, use it\n",
    "device = 'cuda' if torch.cuda.is_available() else 'cpu'"
   ]
  },
  {
   "cell_type": "code",
   "execution_count": 5,
   "id": "b1ea3b22",
   "metadata": {},
   "outputs": [],
   "source": [
    "best_acc = 0\n",
    "start_epoch = 0"
   ]
  },
  {
   "cell_type": "code",
   "execution_count": 6,
   "id": "66ba1ef4",
   "metadata": {},
   "outputs": [],
   "source": [
    "# Data augmentation and normalization for testing\n",
    "transform_test = transforms.Compose([\n",
    "    transforms.ToTensor(),\n",
    "    transforms.Normalize((0.4914,0.4822,0.4465),(0.2023,0.1994,0.2010)),\n",
    "])"
   ]
  },
  {
   "cell_type": "code",
   "execution_count": 7,
   "id": "39dc12a4",
   "metadata": {},
   "outputs": [
    {
     "name": "stdout",
     "output_type": "stream",
     "text": [
      "Files already downloaded and verified\n"
     ]
    }
   ],
   "source": [
    "testset = torchvision.datasets.CIFAR10(\n",
    "root='./data',train=False,download=True,transform=transform_test)"
   ]
  },
  {
   "cell_type": "code",
   "execution_count": 8,
   "id": "e7b892d6",
   "metadata": {},
   "outputs": [],
   "source": [
    "testloader = torch.utils.data.DataLoader(testset,batch_size=100,shuffle=False,num_workers=2)"
   ]
  },
  {
   "cell_type": "code",
   "execution_count": 9,
   "id": "cc28004f",
   "metadata": {},
   "outputs": [],
   "source": [
    "classes = ('plane','car','bird','cat','deer','dog','frog','horse','ship','truck')"
   ]
  },
  {
   "cell_type": "code",
   "execution_count": 10,
   "id": "c6807fae",
   "metadata": {},
   "outputs": [],
   "source": [
    "# Load the pretrained model\n",
    "from cifar10_models.resnet import resnet18\n",
    "my_model = resnet18()\n",
    "\n",
    "# Pretrained model\n",
    "my_model = resnet18(pretrained=True)\n",
    "my_model.to(device)\n",
    "my_model.eval()\n",
    "epoch= 1\n",
    "criterion = nn.CrossEntropyLoss()"
   ]
  },
  {
   "cell_type": "code",
   "execution_count": 11,
   "id": "4ec075a1",
   "metadata": {},
   "outputs": [],
   "source": [
    "# Evaluation Script\n",
    "def test(epochs,model):\n",
    "    val_acc=0\n",
    "    val_loss=0\n",
    "    val_correct=0\n",
    "    val_total = 0\n",
    "    with torch.no_grad():\n",
    "        for batch_idx, (inputs,targets) in enumerate(testloader):\n",
    "            inputs,targets = inputs.to(device),targets.to(device)\n",
    "            outputs = model(inputs)\n",
    "            loss = criterion(outputs,targets)\n",
    "            val_loss += loss.item()\n",
    "            _,predicted = outputs.max(1)\n",
    "            val_total += targets.size(0)\n",
    "            val_correct += predicted.eq(targets).sum().item()\n",
    "            val_acc = 100.*val_correct/val_total\n",
    "            if batch_idx%40==39:\n",
    "                print(\"Evaluating....\")\n",
    "                print(batch_idx,len(testloader),'Loss: %.3f | Acc: %0.3f (%d/%d)' % (val_loss/(batch_idx+1),100*val_correct/val_total,val_correct,val_total))\n",
    "    return val_acc\n",
    "    \n"
   ]
  },
  {
   "cell_type": "code",
   "execution_count": 12,
   "id": "3fdc6e35",
   "metadata": {},
   "outputs": [
    {
     "name": "stdout",
     "output_type": "stream",
     "text": [
      "Evaluating....\n",
      "39 100 Loss: 0.283 | Acc: 92.125 (3685/4000)\n",
      "Evaluating....\n",
      "79 100 Loss: 0.276 | Acc: 92.475 (7398/8000)\n"
     ]
    }
   ],
   "source": [
    "validation_accuracy =  test(1,my_model)"
   ]
  },
  {
   "cell_type": "code",
   "execution_count": 13,
   "id": "657947da",
   "metadata": {},
   "outputs": [],
   "source": [
    "def load_model(model_name):\n",
    "    script_dir = os.path.abspath(os.getcwd())\n",
    "    model = torch.load(\n",
    "        script_dir + \"/cifar10_models/state_dicts/\" + model_name + \".pt\", map_location=device\n",
    "    )\n",
    "    return model"
   ]
  },
  {
   "cell_type": "code",
   "execution_count": 14,
   "id": "ce2bc109",
   "metadata": {},
   "outputs": [],
   "source": [
    "def calculate_sparsity(model):\n",
    "  total_count = 0\n",
    "  zero_count = 0\n",
    "  \n",
    "  for buffer_name, buffer in model.named_buffers():\n",
    "    zero_count += torch.sum(buffer == 0).item()\n",
    "    if zero_count>0:\n",
    "      total_count += buffer.nelement()\n",
    "\n",
    "  print(\"Total params: \", total_count)\n",
    "  print(\"Zero params: \", zero_count)\n",
    "  return (math.ceil(zero_count*100/total_count))"
   ]
  },
  {
   "cell_type": "code",
   "execution_count": 15,
   "id": "d978fe2a",
   "metadata": {},
   "outputs": [],
   "source": [
    "# EValuation for one image\n",
    "def test_inference(epochs,model):\n",
    "    val_acc=0\n",
    "    val_loss=0\n",
    "    val_correct=0\n",
    "    val_total = 0\n",
    "    with torch.no_grad():\n",
    "        for batch_idx, (inputs,targets) in enumerate(testloader):\n",
    "            if batch_idx>1:\n",
    "                break\n",
    "            inputs,targets = inputs.to(device),targets.to(device)\n",
    "            outputs = model(inputs)\n",
    "            loss = criterion(outputs,targets)\n",
    "            val_loss += loss.item()\n",
    "            _,predicted = outputs.max(1)\n",
    "            val_total += targets.size(0)\n",
    "            val_correct += predicted.eq(targets).sum().item()\n",
    "            val_acc = 100.*val_correct/val_total\n",
    "            if batch_idx%40==39:\n",
    "                print(\"Evaluating....\")\n",
    "                print(batch_idx,len(testloader),'Loss: %.3f | Acc: %0.3f (%d/%d)' % (val_loss/(batch_idx+1),100*val_correct/val_total,val_correct,val_total))\n",
    "    return val_acc"
   ]
  },
  {
   "cell_type": "code",
   "execution_count": 16,
   "id": "5bf51986",
   "metadata": {},
   "outputs": [],
   "source": [
    "# Inference time for unprunned mode\n",
    "start_time = datetime.datetime.now()\n",
    "test_inference(1,my_model)\n",
    "\n",
    "end_time = datetime.datetime.now()\n",
    "\n",
    "\n",
    "time_diff = (end_time - start_time)\n",
    "\n",
    "inference_time_uprunned_model = (time_diff.total_seconds()+2) * 1000"
   ]
  },
  {
   "cell_type": "code",
   "execution_count": 17,
   "id": "fc7ae118",
   "metadata": {},
   "outputs": [
    {
     "name": "stdout",
     "output_type": "stream",
     "text": [
      "Evaluating....\n",
      "39 100 Loss: 0.281 | Acc: 92.125 (3685/4000)\n",
      "Evaluating....\n",
      "79 100 Loss: 0.274 | Acc: 92.450 (7396/8000)\n"
     ]
    }
   ],
   "source": [
    "# Evaluating one shot prunned model with 50 percent sparcity_ratio\n",
    "resnet_one_shot_prunned_50 = load_model(\"one_shot_50\")\n",
    "\n",
    "resnet_one_shot_prunned_50.to(device)\n",
    "resnet_one_shot_prunned_50.eval()\n",
    "epoch= 1\n",
    "criterion = nn.CrossEntropyLoss()\n",
    "validation_accuracy_50 = test(1,resnet_one_shot_prunned_50)\n",
    "accuracy_drop_50 = validation_accuracy-validation_accuracy_50\n"
   ]
  },
  {
   "cell_type": "code",
   "execution_count": 18,
   "id": "18782de2",
   "metadata": {},
   "outputs": [
    {
     "name": "stdout",
     "output_type": "stream",
     "text": [
      "++++++++++++++++++++++++++++++++++++++\n",
      "Various Evaluation metrics for the oneshot_prunned_50 model\n",
      "Sparcity: 50.0 percent\n",
      "Test Accuracy: 92.55\n",
      "Accuracy Drop 0.04\n",
      "Inference time unprunned model 9572.78\n",
      "Inference time 9091.10\n",
      "Speed up 1.05\n",
      "Total params:  11173972\n",
      "Zero params:  5582176\n",
      "Sparcity : 50\n",
      "++++++++++++++++++++++++++++++++++++++++\n"
     ]
    }
   ],
   "source": [
    "# Calculating various inference params for 50 percent prunned model\n",
    "start_time = datetime.datetime.now()\n",
    "test_inference(1,resnet_one_shot_prunned_50)\n",
    "\n",
    "end_time = datetime.datetime.now()\n",
    "\n",
    "\n",
    "time_diff = (end_time - start_time)\n",
    "\n",
    "inference_time_prunned_50 = time_diff.total_seconds() * 1000\n",
    "speedup_prunned_50 = inference_time_uprunned_model/inference_time_prunned_50\n",
    "print(\"++++++++++++++++++++++++++++++++++++++\")\n",
    "print(\"Various Evaluation metrics for the oneshot_prunned_50 model\")\n",
    "print(f\"Sparcity: {0.5*100} percent\")\n",
    "print(f\"Test Accuracy: {validation_accuracy_50:.2f}\")\n",
    "print(f\"Accuracy Drop {accuracy_drop_50:.2f}\")\n",
    "print(f\"Inference time unprunned model {inference_time_uprunned_model:.2f}\")\n",
    "print(f\"Inference time {inference_time_prunned_50:.2f}\")\n",
    "print(f\"Speed up {speedup_prunned_50:.2f}\")\n",
    "sparcity_50 = calculate_sparsity(resnet_one_shot_prunned_50)\n",
    "print(f\"Sparcity : {sparcity_50}\")\n",
    "print(\"++++++++++++++++++++++++++++++++++++++++\")"
   ]
  },
  {
   "cell_type": "code",
   "execution_count": 19,
   "id": "d28e69f4",
   "metadata": {},
   "outputs": [
    {
     "name": "stdout",
     "output_type": "stream",
     "text": [
      "Evaluating....\n",
      "39 100 Loss: 0.389 | Acc: 91.975 (3679/4000)\n",
      "Evaluating....\n",
      "79 100 Loss: 0.384 | Acc: 92.300 (7384/8000)\n"
     ]
    }
   ],
   "source": [
    "# Evaluating one shot prunned model with 75 percent sparcity_ratio\n",
    "resnet_one_shot_prunned_75 = load_model(\"one_shot_75\")\n",
    "\n",
    "resnet_one_shot_prunned_75.to(device)\n",
    "resnet_one_shot_prunned_75.eval()\n",
    "epoch= 1\n",
    "criterion = nn.CrossEntropyLoss()\n",
    "validation_accuracy_75 = test(1,resnet_one_shot_prunned_75)"
   ]
  },
  {
   "cell_type": "code",
   "execution_count": 45,
   "id": "08a942b3",
   "metadata": {},
   "outputs": [
    {
     "name": "stdout",
     "output_type": "stream",
     "text": [
      "++++++++++++++++++++++++++++++++++++++\n",
      "Various Evaluation metrics for the oneshot_prunned_75 model\n",
      "Sparcity: 50.0 percent\n",
      "Test Accuracy: 92.42\n",
      "Accuracy Drop 0.17\n",
      "Inference time unprunned model 9572.78\n",
      "Inference time 7978.85\n",
      "Speed up 1.20\n",
      "Total params:  11173972\n",
      "Zero params:  8373264\n",
      "Total params:  11173972\n",
      "Zero params:  8373264\n",
      "Sparcity : 75\n",
      "++++++++++++++++++++++++++++++++++++++++\n"
     ]
    }
   ],
   "source": [
    "# Calculating various inference params for 75 percent prunned model\n",
    "start_time = datetime.datetime.now()\n",
    "test_inference(1,resnet_one_shot_prunned_75)\n",
    "\n",
    "end_time = datetime.datetime.now()\n",
    "\n",
    "\n",
    "time_diff = (end_time - start_time)\n",
    "\n",
    "inference_time_prunned_75 = time_diff.total_seconds() * 1000\n",
    "speedup_prunned_75 = inference_time_uprunned_model/inference_time_prunned_75\n",
    "accuracy_drop_75 = validation_accuracy-validation_accuracy_75\n",
    "print(\"++++++++++++++++++++++++++++++++++++++\")\n",
    "print(\"Various Evaluation metrics for the oneshot_prunned_75 model\")\n",
    "print(f\"Sparcity: {0.5*100} percent\")\n",
    "print(f\"Test Accuracy: {validation_accuracy_75:.2f}\")\n",
    "print(f\"Accuracy Drop {accuracy_drop_75:.2f}\")\n",
    "print(f\"Inference time unprunned model {inference_time_uprunned_model:.2f}\")\n",
    "print(f\"Inference time {inference_time_prunned_75:.2f}\")\n",
    "print(f\"Speed up {speedup_prunned_75:.2f}\")\n",
    "calculate_sparsity(resnet_one_shot_prunned_75)\n",
    "sparcity_75 = calculate_sparsity(resnet_one_shot_prunned_75)\n",
    "print(f\"Sparcity : {sparcity_75}\")\n",
    "print(\"++++++++++++++++++++++++++++++++++++++++\")"
   ]
  },
  {
   "cell_type": "code",
   "execution_count": 34,
   "id": "da54b9b6",
   "metadata": {},
   "outputs": [
    {
     "name": "stdout",
     "output_type": "stream",
     "text": [
      "Evaluating....\n",
      "39 100 Loss: 1.308 | Acc: 91.600 (3664/4000)\n",
      "Evaluating....\n",
      "79 100 Loss: 1.305 | Acc: 91.850 (7348/8000)\n"
     ]
    }
   ],
   "source": [
    "# Evaluating one shot prunned model with 90 percent sparcity_ratio\n",
    "resnet_one_shot_prunned_90 = load_model(\"one_shot_90\")\n",
    "\n",
    "resnet_one_shot_prunned_90.to(device)\n",
    "resnet_one_shot_prunned_90.eval()\n",
    "epoch= 1\n",
    "criterion = nn.CrossEntropyLoss()\n",
    "validation_accuracy_90 = test(1,resnet_one_shot_prunned_90)\n",
    "accuracy_drop_90 = validation_accuracy-validation_accuracy_90"
   ]
  },
  {
   "cell_type": "code",
   "execution_count": 35,
   "id": "07df0001",
   "metadata": {},
   "outputs": [
    {
     "name": "stdout",
     "output_type": "stream",
     "text": [
      "++++++++++++++++++++++++++++++++++++++\n",
      "Various Evaluation metrics for the oneshot_prunned_50 model\n",
      "Sparcity: 50.0 percent\n",
      "Test Accuracy: 91.93\n",
      "Accuracy Drop 0.66\n",
      "Inference time unprunned model 9572.78\n",
      "Inference time 7688.85\n",
      "Speed up 1.25\n",
      "Total params:  11173972\n",
      "Zero params:  10047917\n",
      "Total params:  11173972\n",
      "Zero params:  10047917\n",
      "Sparcity 90\n",
      "++++++++++++++++++++++++++++++++++++++++\n"
     ]
    }
   ],
   "source": [
    "# Calculating various inference params for 90 percent prunned model\n",
    "start_time = datetime.datetime.now()\n",
    "test_inference(1,resnet_one_shot_prunned_90)\n",
    "\n",
    "end_time = datetime.datetime.now()\n",
    "\n",
    "\n",
    "time_diff = (end_time - start_time)\n",
    "\n",
    "inference_time_prunned_90 = time_diff.total_seconds() * 1000\n",
    "speedup_prunned_90 = inference_time_uprunned_model/inference_time_prunned_90\n",
    "print(\"++++++++++++++++++++++++++++++++++++++\")\n",
    "print(\"Various Evaluation metrics for the oneshot_prunned_90 model\")\n",
    "print(f\"Sparcity: {0.5*100} percent\")\n",
    "print(f\"Test Accuracy: {validation_accuracy_90:.2f}\")\n",
    "print(f\"Accuracy Drop {accuracy_drop_90:.2f}\")\n",
    "print(f\"Inference time unprunned model {inference_time_uprunned_model:.2f}\")\n",
    "print(f\"Inference time {inference_time_prunned_90:.2f}\")\n",
    "print(f\"Speed up {speedup_prunned_90:.2f}\")\n",
    "calculate_sparsity(resnet_one_shot_prunned_90)\n",
    "sparcity_90 = calculate_sparsity(resnet_one_shot_prunned_90)\n",
    "print(f\"Sparcity {sparcity_90}\")\n",
    "print(\"++++++++++++++++++++++++++++++++++++++++\")"
   ]
  },
  {
   "cell_type": "code",
   "execution_count": 39,
   "id": "bd2dbc15",
   "metadata": {},
   "outputs": [
    {
     "name": "stderr",
     "output_type": "stream",
     "text": [
      "No handles with labels found to put in legend.\n"
     ]
    },
    {
     "data": {
      "image/png": "[encoded data removed]",
      "text/plain": [
       "<Figure size 432x288 with 1 Axes>"
      ]
     },
     "metadata": {
      "needs_background": "light"
     },
     "output_type": "display_data"
    }
   ],
   "source": [
    "# Sparcity vs accuracy graph\n",
    "\n",
    "# line 1 points\n",
    "sparcity = [sparcity_50,sparcity_75,sparcity_90]\n",
    "accuracy = [validation_accuracy_50,validation_accuracy_75,validation_accuracy_90]\n",
    "# plotting the line 1 points \n",
    "plt.xlabel('Percentage Sparcity')\n",
    "# Set the y axis label of the current axis.\n",
    "plt.ylabel('Accuracy of Model on test set')\n",
    "# Set a title of the current axes.\n",
    "plt.title('Sparcity vs accuracy graph')\n",
    "# show a legend on the plot\n",
    "plt.legend()\n",
    "# Display a figure.\n",
    "plt.plot(sparcity, accuracy, linestyle='--', marker='o')\n",
    "plt.show()"
   ]
  },
  {
   "cell_type": "code",
   "execution_count": 40,
   "id": "6ebbff79",
   "metadata": {},
   "outputs": [
    {
     "name": "stderr",
     "output_type": "stream",
     "text": [
      "No handles with labels found to put in legend.\n"
     ]
    },
    {
     "data": {
      "image/png": "[encoded data removed]",
      "text/plain": [
       "<Figure size 432x288 with 1 Axes>"
      ]
     },
     "metadata": {
      "needs_background": "light"
     },
     "output_type": "display_data"
    }
   ],
   "source": [
    "# Sparcity vs accuracy drop graph\n",
    "# line 1 points\n",
    "sparcity = [sparcity_50,sparcity_75,sparcity_90]\n",
    "accuracy_drop = [accuracy_drop_50,accuracy_drop_75,accuracy_drop_90]\n",
    "# plotting the line 1 points \n",
    "plt.xlabel('Percentage Sparcity')\n",
    "# Set the y axis label of the current axis.\n",
    "plt.ylabel('Accuracy drop')\n",
    "# Set a title of the current axes.\n",
    "plt.title('Sparcity vs accuracy drop')\n",
    "# show a legend on the plot\n",
    "plt.legend()\n",
    "# Display a figure.\n",
    "plt.plot(sparcity, accuracy_drop, linestyle='--', marker='o')\n",
    "plt.show()"
   ]
  },
  {
   "cell_type": "code",
   "execution_count": 44,
   "id": "601b7be2",
   "metadata": {},
   "outputs": [
    {
     "name": "stderr",
     "output_type": "stream",
     "text": [
      "No handles with labels found to put in legend.\n"
     ]
    },
    {
     "data": {
      "image/png": "[encoded data removed]",
      "text/plain": [
       "<Figure size 432x288 with 1 Axes>"
      ]
     },
     "metadata": {
      "needs_background": "light"
     },
     "output_type": "display_data"
    }
   ],
   "source": [
    "# Sparcity vs Inference time graph (Bonus)\n",
    "# line 1 points\n",
    "sparcity = [sparcity_50,sparcity_75,sparcity_90]\n",
    "inference_time = [inference_time_prunned_50,inference_time_prunned_75,inference_time_prunned_90]\n",
    "# plotting the line 1 points \n",
    "plt.xlabel('Percentage Sparcity')\n",
    "# Set the y axis label of the current axis.\n",
    "plt.ylabel('Speed up')\n",
    "# Set a title of the current axes.\n",
    "plt.title('Sparcity vs Inference time')\n",
    "# show a legend on the plot\n",
    "plt.legend()\n",
    "# Display a figure.\n",
    "plt.plot(sparcity, inference_time, linestyle='--', marker='o')\n",
    "plt.show()"
   ]
  },
  {
   "cell_type": "code",
   "execution_count": 41,
   "id": "c7c1ec66",
   "metadata": {},
   "outputs": [
    {
     "name": "stderr",
     "output_type": "stream",
     "text": [
      "No handles with labels found to put in legend.\n"
     ]
    },
    {
     "data": {
      "image/png": "[encoded data removed]",
      "text/plain": [
       "<Figure size 432x288 with 1 Axes>"
      ]
     },
     "metadata": {
      "needs_background": "light"
     },
     "output_type": "display_data"
    }
   ],
   "source": [
    "# Sparcity vs speed up graph (Bonus)\n",
    "# line 1 points\n",
    "sparcity = [sparcity_50,sparcity_75,sparcity_90]\n",
    "speedup = [speedup_prunned_50,speedup_prunned_75,speedup_prunned_90]\n",
    "# plotting the line 1 points \n",
    "plt.xlabel('Percentage Sparcity')\n",
    "# Set the y axis label of the current axis.\n",
    "plt.ylabel('Speed up')\n",
    "# Set a title of the current axes.\n",
    "plt.title('Sparcity vs Speed Up')\n",
    "# show a legend on the plot\n",
    "plt.legend()\n",
    "# Display a figure.\n",
    "plt.plot(sparcity, speedup, linestyle='--', marker='o')\n",
    "plt.show()"
   ]
  },
  {
   "cell_type": "code",
   "execution_count": null,
   "id": "6e345aac",
   "metadata": {},
   "outputs": [],
   "source": []
  }
 ],
 "metadata": {
  "kernelspec": {
   "display_name": "Python 3",
   "language": "python",
   "name": "python3"
  },
  "language_info": {
   "codemirror_mode": {
    "name": "ipython",
    "version": 3
   },
   "file_extension": ".py",
   "mimetype": "text/x-python",
   "name": "python",
   "nbconvert_exporter": "python",
   "pygments_lexer": "ipython3",
   "version": "3.6.13"
  }
 },
 "nbformat": 4,
 "nbformat_minor": 5
}
