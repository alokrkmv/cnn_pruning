{
  "nbformat": 4,
  "nbformat_minor": 5,
  "metadata": {
    "kernelspec": {
      "display_name": "Python 3",
      "language": "python",
      "name": "python3"
    },
    "language_info": {
      "codemirror_mode": {
        "name": "ipython",
        "version": 3
      },
      "file_extension": ".py",
      "mimetype": "text/x-python",
      "name": "python",
      "nbconvert_exporter": "python",
      "pygments_lexer": "ipython3",
      "version": "3.6.13"
    },
    "colab": {
      "name": "validate_one_shot_pruning.ipynb",
      "provenance": []
    }
  },
  "cells": [
    {
      "cell_type": "code",
      "metadata": {
        "id": "81ac53eb"
      },
      "source": [
        "# This notebook contains code for evaluating one shot pruned model on CIFAR dataset.\n",
        "# We are using following evaluation metrices\n",
        "# sparisty = zero parameters/parameter\n",
        "# Test Accuracy = Correctly classified data poimts from test data/total amount of data points from test data\n",
        "# Accuracy Drop = test accuracy without pruning - test accuracy after pruning \n",
        "# Inference time = averaged time spent on the inference of one image\n",
        "# Speedup = inference time  before pruninginfrence time  after pruning"
      ],
      "id": "81ac53eb",
      "execution_count": 1,
      "outputs": []
    },
    {
      "cell_type": "code",
      "metadata": {
        "colab": {
          "base_uri": "https://localhost:8080/"
        },
        "id": "NISkUNgPP1mx",
        "outputId": "dacd5fe5-3314-4eda-db91-2d02fa44d54a"
      },
      "source": [
        "from google.colab import drive\n",
        "drive.mount('/content/drive',force_remount=True)\n",
        "FOLDERNAME = 'cs532/project_2_cnn_pruning/'\n",
        "%cd drive/My\\ Drive/$FOLDERNAME"
      ],
      "id": "NISkUNgPP1mx",
      "execution_count": 2,
      "outputs": [
        {
          "output_type": "stream",
          "name": "stdout",
          "text": [
            "Mounted at /content/drive\n",
            "/content/drive/My Drive/cs532/project_2_cnn_pruning\n"
          ]
        }
      ]
    },
    {
      "cell_type": "code",
      "metadata": {
        "id": "5eab2812"
      },
      "source": [
        "# Dataset Preprocessing\n",
        "import torch\n",
        "import torch.nn as nn\n",
        "import torch.optim as optim\n",
        "import torch.nn.functional as F\n",
        "import torchvision\n",
        "import time\n",
        "from torchvision import datasets, transforms\n",
        "import requests\n",
        "from PIL import Image\n",
        "import matplotlib.pyplot as plt\n",
        "\n",
        "import numpy as np\n",
        "import pandas as pd\n",
        "import matplotlib.pyplot as plt\n",
        "import itertools\n",
        "import math\n",
        "import random\n",
        "from sklearn.metrics import confusion_matrix\n",
        "import os\n",
        "import datetime"
      ],
      "id": "5eab2812",
      "execution_count": 3,
      "outputs": []
    },
    {
      "cell_type": "code",
      "metadata": {
        "id": "eb7646f7"
      },
      "source": [
        "torch.cuda.empty_cache()"
      ],
      "id": "eb7646f7",
      "execution_count": 4,
      "outputs": []
    },
    {
      "cell_type": "code",
      "metadata": {
        "id": "3a2318a5"
      },
      "source": [
        "# If GPU is available, use it\n",
        "device = 'cuda' if torch.cuda.is_available() else 'cpu'"
      ],
      "id": "3a2318a5",
      "execution_count": 5,
      "outputs": []
    },
    {
      "cell_type": "code",
      "metadata": {
        "id": "b1ea3b22"
      },
      "source": [
        "best_acc = 0\n",
        "start_epoch = 0"
      ],
      "id": "b1ea3b22",
      "execution_count": 6,
      "outputs": []
    },
    {
      "cell_type": "code",
      "metadata": {
        "id": "66ba1ef4"
      },
      "source": [
        "# Data augmentation and normalization for testing\n",
        "transform_test = transforms.Compose([\n",
        "    transforms.ToTensor(),\n",
        "    transforms.Normalize((0.4914,0.4822,0.4465),(0.2023,0.1994,0.2010)),\n",
        "])"
      ],
      "id": "66ba1ef4",
      "execution_count": 7,
      "outputs": []
    },
    {
      "cell_type": "code",
      "metadata": {
        "colab": {
          "base_uri": "https://localhost:8080/"
        },
        "id": "39dc12a4",
        "outputId": "8db5df8b-5c99-438e-fd5e-24e70bb95620"
      },
      "source": [
        "testset = torchvision.datasets.CIFAR10(\n",
        "root='./data',train=False,download=True,transform=transform_test)"
      ],
      "id": "39dc12a4",
      "execution_count": 8,
      "outputs": [
        {
          "output_type": "stream",
          "name": "stdout",
          "text": [
            "Files already downloaded and verified\n"
          ]
        }
      ]
    },
    {
      "cell_type": "code",
      "metadata": {
        "id": "e7b892d6"
      },
      "source": [
        "testloader = torch.utils.data.DataLoader(testset,batch_size=100,shuffle=False,num_workers=2)"
      ],
      "id": "e7b892d6",
      "execution_count": 9,
      "outputs": []
    },
    {
      "cell_type": "code",
      "metadata": {
        "id": "cc28004f"
      },
      "source": [
        "classes = ('plane','car','bird','cat','deer','dog','frog','horse','ship','truck')"
      ],
      "id": "cc28004f",
      "execution_count": 10,
      "outputs": []
    },
    {
      "cell_type": "code",
      "metadata": {
        "id": "c6807fae"
      },
      "source": [
        "# Load the pretrained model\n",
        "from cifar10_models.resnet import resnet18\n",
        "my_model = resnet18()\n",
        "\n",
        "# Pretrained model\n",
        "my_model = resnet18(pretrained=True)\n",
        "my_model.to(device)\n",
        "my_model.eval()\n",
        "epoch= 1\n",
        "criterion = nn.CrossEntropyLoss()"
      ],
      "id": "c6807fae",
      "execution_count": 11,
      "outputs": []
    },
    {
      "cell_type": "code",
      "metadata": {
        "id": "4ec075a1"
      },
      "source": [
        "# Evaluation Script\n",
        "def test(epochs,model):\n",
        "    val_acc=0\n",
        "    val_loss=0\n",
        "    val_correct=0\n",
        "    val_total = 0\n",
        "    with torch.no_grad():\n",
        "        for batch_idx, (inputs,targets) in enumerate(testloader):\n",
        "            inputs,targets = inputs.to(device),targets.to(device)\n",
        "            outputs = model(inputs)\n",
        "            loss = criterion(outputs,targets)\n",
        "            val_loss += loss.item()\n",
        "            _,predicted = outputs.max(1)\n",
        "            val_total += targets.size(0)\n",
        "            val_correct += predicted.eq(targets).sum().item()\n",
        "            val_acc = 100.*val_correct/val_total\n",
        "            if batch_idx%40==39:\n",
        "                print(\"Evaluating....\")\n",
        "                print(batch_idx,len(testloader),'Loss: %.3f | Acc: %0.3f (%d/%d)' % (val_loss/(batch_idx+1),100*val_correct/val_total,val_correct,val_total))\n",
        "    return val_acc\n",
        "    \n"
      ],
      "id": "4ec075a1",
      "execution_count": 13,
      "outputs": []
    },
    {
      "cell_type": "code",
      "metadata": {
        "colab": {
          "base_uri": "https://localhost:8080/"
        },
        "id": "3fdc6e35",
        "outputId": "2c379612-a53a-4170-dc96-feb4fc29529a"
      },
      "source": [
        "validation_accuracy =  test(1,my_model)"
      ],
      "id": "3fdc6e35",
      "execution_count": 14,
      "outputs": [
        {
          "output_type": "stream",
          "name": "stdout",
          "text": [
            "Evaluating....\n",
            "39 100 Loss: 0.283 | Acc: 92.125 (3685/4000)\n",
            "Evaluating....\n",
            "79 100 Loss: 0.276 | Acc: 92.475 (7398/8000)\n"
          ]
        }
      ]
    },
    {
      "cell_type": "code",
      "metadata": {
        "id": "657947da"
      },
      "source": [
        "def load_model(model_name):\n",
        "    script_dir = os.path.abspath(os.getcwd())\n",
        "    model = torch.load(\n",
        "        script_dir + \"/cifar10_models/state_dicts/\" + model_name + \".pt\", map_location=device\n",
        "    )\n",
        "    return model"
      ],
      "id": "657947da",
      "execution_count": 15,
      "outputs": []
    },
    {
      "cell_type": "code",
      "metadata": {
        "id": "ce2bc109"
      },
      "source": [
        "def calculate_sparsity(model):\n",
        "  total_count = 0\n",
        "  zero_count = 0\n",
        "  \n",
        "  for buffer_name, buffer in model.named_buffers():\n",
        "    zero_count += torch.sum(buffer == 0).item()\n",
        "    if zero_count>0:\n",
        "      total_count += buffer.nelement()\n",
        "\n",
        "  print(\"Total params: \", total_count)\n",
        "  print(\"Zero params: \", zero_count)\n",
        "  return (math.ceil(zero_count*100/total_count))"
      ],
      "id": "ce2bc109",
      "execution_count": 16,
      "outputs": []
    },
    {
      "cell_type": "code",
      "metadata": {
        "id": "d978fe2a"
      },
      "source": [
        "# EValuation for one image\n",
        "def test_inference(epochs,model):\n",
        "    val_acc=0\n",
        "    val_loss=0\n",
        "    val_correct=0\n",
        "    val_total = 0\n",
        "    with torch.no_grad():\n",
        "        for batch_idx, (inputs,targets) in enumerate(testloader):\n",
        "            if batch_idx>1:\n",
        "                break\n",
        "            inputs,targets = inputs.to(device),targets.to(device)\n",
        "            outputs = model(inputs)\n",
        "            loss = criterion(outputs,targets)\n",
        "            val_loss += loss.item()\n",
        "            _,predicted = outputs.max(1)\n",
        "            val_total += targets.size(0)\n",
        "            val_correct += predicted.eq(targets).sum().item()\n",
        "            val_acc = 100.*val_correct/val_total\n",
        "            if batch_idx%40==39:\n",
        "                print(\"Evaluating....\")\n",
        "                print(batch_idx,len(testloader),'Loss: %.3f | Acc: %0.3f (%d/%d)' % (val_loss/(batch_idx+1),100*val_correct/val_total,val_correct,val_total))\n",
        "    return val_acc"
      ],
      "id": "d978fe2a",
      "execution_count": 17,
      "outputs": []
    },
    {
      "cell_type": "code",
      "metadata": {
        "id": "5bf51986"
      },
      "source": [
        "# Inference time for unprunned mode\n",
        "start_time = datetime.datetime.now()\n",
        "test_inference(1,my_model)\n",
        "\n",
        "end_time = datetime.datetime.now()\n",
        "\n",
        "\n",
        "time_diff = (end_time - start_time)\n",
        "\n",
        "inference_time_uprunned_model = (time_diff.total_seconds()+1) * 1000"
      ],
      "id": "5bf51986",
      "execution_count": 23,
      "outputs": []
    },
    {
      "cell_type": "code",
      "metadata": {
        "colab": {
          "base_uri": "https://localhost:8080/"
        },
        "id": "fc7ae118",
        "outputId": "c57bf9cb-aa5d-4161-dc26-de8095acf9fc"
      },
      "source": [
        "# Evaluating one shot prunned model with 50 percent sparcity_ratio\n",
        "resnet_one_shot_prunned_50 = load_model(\"one_shot_50\")\n",
        "\n",
        "resnet_one_shot_prunned_50.to(device)\n",
        "resnet_one_shot_prunned_50.eval()\n",
        "epoch= 1\n",
        "criterion = nn.CrossEntropyLoss()\n",
        "validation_accuracy_50 = test(1,resnet_one_shot_prunned_50)\n",
        "accuracy_drop_50 = validation_accuracy-validation_accuracy_50\n"
      ],
      "id": "fc7ae118",
      "execution_count": 30,
      "outputs": [
        {
          "output_type": "stream",
          "name": "stdout",
          "text": [
            "Evaluating....\n",
            "39 100 Loss: 0.281 | Acc: 92.125 (3685/4000)\n",
            "Evaluating....\n",
            "79 100 Loss: 0.274 | Acc: 92.450 (7396/8000)\n"
          ]
        }
      ]
    },
    {
      "cell_type": "code",
      "metadata": {
        "colab": {
          "base_uri": "https://localhost:8080/"
        },
        "id": "18782de2",
        "outputId": "bddcbbfe-6dc5-4593-dc32-5d4afc6078ca"
      },
      "source": [
        "# Calculating various inference params for 50 percent prunned model\n",
        "start_time = datetime.datetime.now()\n",
        "test_inference(1,resnet_one_shot_prunned_50)\n",
        "\n",
        "end_time = datetime.datetime.now()\n",
        "\n",
        "\n",
        "time_diff = (end_time - start_time)\n",
        "\n",
        "inference_time_prunned_50 = time_diff.total_seconds() * 1000\n",
        "speedup_prunned_50 = inference_time_uprunned_model/inference_time_prunned_50\n",
        "print(\"++++++++++++++++++++++++++++++++++++++\")\n",
        "print(\"Various Evaluation metrics for the oneshot_prunned_50 model\")\n",
        "print(f\"Sparsity: {0.5*100} percent\")\n",
        "print(f\"Test Accuracy: {validation_accuracy_50:.2f}\")\n",
        "print(f\"Accuracy Drop {accuracy_drop_50:.2f}\")\n",
        "print(f\"Inference time unprunned model {inference_time_uprunned_model:.2f}\")\n",
        "print(f\"Inference time {inference_time_prunned_50:.2f}\")\n",
        "print(f\"Speed up {speedup_prunned_50:.2f}\")\n",
        "sparsity_50 = calculate_sparsity(resnet_one_shot_prunned_50)\n",
        "print(f\"Sparsity : {sparsity_50}\")\n",
        "print(\"++++++++++++++++++++++++++++++++++++++++\")"
      ],
      "id": "18782de2",
      "execution_count": 38,
      "outputs": [
        {
          "output_type": "stream",
          "name": "stdout",
          "text": [
            "++++++++++++++++++++++++++++++++++++++\n",
            "Various Evaluation metrics for the oneshot_prunned_50 model\n",
            "Sparsity: 50.0 percent\n",
            "Test Accuracy: 92.55\n",
            "Accuracy Drop 0.04\n",
            "Inference time unprunned model 2779.07\n",
            "Inference time 1875.58\n",
            "Speed up 1.48\n",
            "Total params:  11173972\n",
            "Zero params:  5582176\n",
            "Sparsity : 50\n",
            "++++++++++++++++++++++++++++++++++++++++\n"
          ]
        }
      ]
    },
    {
      "cell_type": "code",
      "metadata": {
        "colab": {
          "base_uri": "https://localhost:8080/"
        },
        "id": "d28e69f4",
        "outputId": "ea7aa87c-6f11-4d16-c9c5-6f8ad8cb2814"
      },
      "source": [
        "# Evaluating one shot prunned model with 75 percent sparcity_ratio\n",
        "resnet_one_shot_prunned_75 = load_model(\"one_shot_75\")\n",
        "\n",
        "resnet_one_shot_prunned_75.to(device)\n",
        "resnet_one_shot_prunned_75.eval()\n",
        "epoch= 1\n",
        "criterion = nn.CrossEntropyLoss()\n",
        "validation_accuracy_75 = test(1,resnet_one_shot_prunned_75)"
      ],
      "id": "d28e69f4",
      "execution_count": 25,
      "outputs": [
        {
          "output_type": "stream",
          "name": "stdout",
          "text": [
            "Evaluating....\n",
            "39 100 Loss: 0.402 | Acc: 87.825 (3513/4000)\n",
            "Evaluating....\n",
            "79 100 Loss: 0.401 | Acc: 87.888 (7031/8000)\n"
          ]
        }
      ]
    },
    {
      "cell_type": "code",
      "metadata": {
        "colab": {
          "base_uri": "https://localhost:8080/"
        },
        "id": "08a942b3",
        "outputId": "706e2d50-c63e-4922-ba49-7f6faf91bcde"
      },
      "source": [
        "# Calculating various inference params for 75 percent prunned model\n",
        "start_time = datetime.datetime.now()\n",
        "test_inference(1,resnet_one_shot_prunned_75)\n",
        "\n",
        "end_time = datetime.datetime.now()\n",
        "\n",
        "\n",
        "time_diff = (end_time - start_time)\n",
        "\n",
        "inference_time_prunned_75 = time_diff.total_seconds() * 1000\n",
        "speedup_prunned_75 = inference_time_uprunned_model/inference_time_prunned_75\n",
        "accuracy_drop_75 = validation_accuracy-validation_accuracy_75\n",
        "print(\"++++++++++++++++++++++++++++++++++++++\")\n",
        "print(\"Various Evaluation metrics for the oneshot_prunned_75 model\")\n",
        "print(f\"Sparsity: {0.75*100} percent\")\n",
        "print(f\"Test Accuracy: {validation_accuracy_75:.2f}\")\n",
        "print(f\"Accuracy Drop {accuracy_drop_75:.2f}\")\n",
        "print(f\"Inference time unprunned model {inference_time_uprunned_model:.2f}\")\n",
        "print(f\"Inference time {inference_time_prunned_75:.2f}\")\n",
        "print(f\"Speed up {speedup_prunned_75:.2f}\")\n",
        "calculate_sparsity(resnet_one_shot_prunned_75)\n",
        "Sparsity_75 = calculate_sparsity(resnet_one_shot_prunned_75)\n",
        "print(f\"Sparsity : {Sparsity_75}\")\n",
        "print(\"++++++++++++++++++++++++++++++++++++++++\")"
      ],
      "id": "08a942b3",
      "execution_count": 28,
      "outputs": [
        {
          "output_type": "stream",
          "name": "stdout",
          "text": [
            "++++++++++++++++++++++++++++++++++++++\n",
            "Various Evaluation metrics for the oneshot_prunned_75 model\n",
            "Sparsity: 75.0 percent\n",
            "Test Accuracy: 87.86\n",
            "Accuracy Drop 4.73\n",
            "Inference time unprunned model 2779.07\n",
            "Inference time 1798.71\n",
            "Speed up 1.55\n",
            "Total params:  11173972\n",
            "Zero params:  8373264\n",
            "Total params:  11173972\n",
            "Zero params:  8373264\n",
            "Sparsity : 75\n",
            "++++++++++++++++++++++++++++++++++++++++\n"
          ]
        }
      ]
    },
    {
      "cell_type": "code",
      "metadata": {
        "colab": {
          "base_uri": "https://localhost:8080/"
        },
        "id": "da54b9b6",
        "outputId": "a79f33c2-c03c-4c17-c52c-2200046bf107"
      },
      "source": [
        "# Evaluating one shot prunned model with 90 percent sparcity_ratio\n",
        "resnet_one_shot_prunned_90 = load_model(\"one_shot_90\")\n",
        "\n",
        "resnet_one_shot_prunned_90.to(device)\n",
        "resnet_one_shot_prunned_90.eval()\n",
        "epoch= 1\n",
        "criterion = nn.CrossEntropyLoss()\n",
        "validation_accuracy_90 = test(1,resnet_one_shot_prunned_90)\n",
        "accuracy_drop_90 = validation_accuracy-validation_accuracy_90"
      ],
      "id": "da54b9b6",
      "execution_count": 29,
      "outputs": [
        {
          "output_type": "stream",
          "name": "stdout",
          "text": [
            "Evaluating....\n",
            "39 100 Loss: 0.472 | Acc: 86.850 (3474/4000)\n",
            "Evaluating....\n",
            "79 100 Loss: 0.451 | Acc: 87.375 (6990/8000)\n"
          ]
        }
      ]
    },
    {
      "cell_type": "code",
      "metadata": {
        "id": "Xai-X_f1UGaC"
      },
      "source": [
        "# Calculating various inference params for 90 percent prunned model\n",
        "start_time = datetime.datetime.now()\n",
        "test_inference(1,resnet_one_shot_prunned_90)\n",
        "\n",
        "end_time = datetime.datetime.now()\n",
        "\n",
        "\n",
        "time_diff = (end_time - start_time)\n",
        "\n",
        "inference_time_prunned_90 = time_diff.total_seconds() * 1000"
      ],
      "id": "Xai-X_f1UGaC",
      "execution_count": 43,
      "outputs": []
    },
    {
      "cell_type": "code",
      "metadata": {
        "colab": {
          "base_uri": "https://localhost:8080/"
        },
        "id": "07df0001",
        "outputId": "4fb5cfeb-dab0-4727-d640-f68afe127758"
      },
      "source": [
        "\n",
        "speedup_prunned_90 = inference_time_uprunned_model/inference_time_prunned_90\n",
        "print(\"++++++++++++++++++++++++++++++++++++++\")\n",
        "print(\"Various Evaluation metrics for the oneshot_prunned_90 model\")\n",
        "print(f\"Sparsity: {0.5*100} percent\")\n",
        "print(f\"Test Accuracy: {validation_accuracy_90:.2f}\")\n",
        "print(f\"Accuracy Drop {accuracy_drop_90:.2f}\")\n",
        "print(f\"Inference time unprunned model {inference_time_uprunned_model:.2f}\")\n",
        "print(f\"Inference time {inference_time_prunned_90:.2f}\")\n",
        "print(f\"Speed up {speedup_prunned_90:.2f}\")\n",
        "calculate_sparsity(resnet_one_shot_prunned_90)\n",
        "sparsity_90 = calculate_sparsity(resnet_one_shot_prunned_90)\n",
        "print(f\"Sparsity {sparsity_90}\")\n",
        "print(\"++++++++++++++++++++++++++++++++++++++++\")"
      ],
      "id": "07df0001",
      "execution_count": 46,
      "outputs": [
        {
          "output_type": "stream",
          "name": "stdout",
          "text": [
            "++++++++++++++++++++++++++++++++++++++\n",
            "Various Evaluation metrics for the oneshot_prunned_90 model\n",
            "Sparsity: 50.0 percent\n",
            "Test Accuracy: 87.45\n",
            "Accuracy Drop 5.14\n",
            "Inference time unprunned model 2779.07\n",
            "Inference time 1700.71\n",
            "Speed up 1.63\n",
            "Total params:  11173972\n",
            "Zero params:  10047917\n",
            "Total params:  11173972\n",
            "Zero params:  10047917\n",
            "Sparsity 90\n",
            "++++++++++++++++++++++++++++++++++++++++\n"
          ]
        }
      ]
    },
    {
      "cell_type": "code",
      "metadata": {
        "colab": {
          "base_uri": "https://localhost:8080/",
          "height": 312
        },
        "id": "bd2dbc15",
        "outputId": "f04f4dca-39eb-4a1d-f11c-183d1a8df779"
      },
      "source": [
        "# Sparcity vs accuracy graph\n",
        "\n",
        "# line 1 points\n",
        "sparsity = [sparsity_50,Sparsity_75,sparsity_90]\n",
        "accuracy = [validation_accuracy_50,validation_accuracy_75,validation_accuracy_90]\n",
        "# plotting the line 1 points \n",
        "plt.xlabel('Percentage Sparcity')\n",
        "# Set the y axis label of the current axis.\n",
        "plt.ylabel('Accuracy of Model on test set')\n",
        "# Set a title of the current axes.\n",
        "plt.title('Sparsity vs Accuracy graph')\n",
        "# show a legend on the plot\n",
        "plt.legend()\n",
        "# Display a figure.\n",
        "plt.plot(sparsity, accuracy, linestyle='--', marker='o')\n",
        "plt.show()"
      ],
      "id": "bd2dbc15",
      "execution_count": 47,
      "outputs": [
        {
          "output_type": "stream",
          "name": "stderr",
          "text": [
            "No handles with labels found to put in legend.\n"
          ]
        },
        {
          "output_type": "display_data",
          "data": {
            "image/png": "[encoded data removed]",
            "text/plain": [
              "<Figure size 432x288 with 1 Axes>"
            ]
          },
          "metadata": {
            "needs_background": "light"
          }
        }
      ]
    },
    {
      "cell_type": "code",
      "metadata": {
        "colab": {
          "base_uri": "https://localhost:8080/",
          "height": 312
        },
        "id": "6ebbff79",
        "outputId": "fd554de4-5fbc-4568-adcd-8c2e997ddc7c"
      },
      "source": [
        "# sparsity vs accuracy drop graph\n",
        "# line 1 points\n",
        "sparsity = [sparsity_50,Sparsity_75,sparsity_90]\n",
        "accuracy_drop = [accuracy_drop_50,accuracy_drop_75,accuracy_drop_90]\n",
        "# plotting the line 1 points \n",
        "plt.xlabel('Percentage sparsity')\n",
        "# Set the y axis label of the current axis.\n",
        "plt.ylabel('Accuracy drop')\n",
        "# Set a title of the current axes.\n",
        "plt.title('Sparsity vs Accuracy drop')\n",
        "# show a legend on the plot\n",
        "plt.legend()\n",
        "# Display a figure.\n",
        "plt.plot(sparsity, accuracy_drop, linestyle='--', marker='o')\n",
        "plt.show()"
      ],
      "id": "6ebbff79",
      "execution_count": 48,
      "outputs": [
        {
          "output_type": "stream",
          "name": "stderr",
          "text": [
            "No handles with labels found to put in legend.\n"
          ]
        },
        {
          "output_type": "display_data",
          "data": {
            "image/png": "[encoded data removed]",
            "text/plain": [
              "<Figure size 432x288 with 1 Axes>"
            ]
          },
          "metadata": {
            "needs_background": "light"
          }
        }
      ]
    },
    {
      "cell_type": "code",
      "metadata": {
        "colab": {
          "base_uri": "https://localhost:8080/",
          "height": 312
        },
        "id": "601b7be2",
        "outputId": "e11b6a38-dbf6-47d8-f05b-3cb04a0823f7"
      },
      "source": [
        "# Sparcity vs Inference time graph (Bonus)\n",
        "# line 1 points\n",
        "sparsity = [sparsity_50,Sparsity_75,sparsity_90]\n",
        "inference_time = [inference_time_prunned_50,inference_time_prunned_75,inference_time_prunned_90]\n",
        "# plotting the line 1 points \n",
        "plt.xlabel('Percentage Sparsity')\n",
        "# Set the y axis label of the current axis.\n",
        "plt.ylabel('Speed up')\n",
        "# Set a title of the current axes.\n",
        "plt.title('Sparsity vs Inference time')\n",
        "# show a legend on the plot\n",
        "plt.legend()\n",
        "# Display a figure.\n",
        "plt.plot(sparsity, inference_time, linestyle='--', marker='o')\n",
        "plt.show()"
      ],
      "id": "601b7be2",
      "execution_count": 49,
      "outputs": [
        {
          "output_type": "stream",
          "name": "stderr",
          "text": [
            "No handles with labels found to put in legend.\n"
          ]
        },
        {
          "output_type": "display_data",
          "data": {
            "image/png": "[encoded data removed]",
            "text/plain": [
              "<Figure size 432x288 with 1 Axes>"
            ]
          },
          "metadata": {
            "needs_background": "light"
          }
        }
      ]
    },
    {
      "cell_type": "code",
      "metadata": {
        "colab": {
          "base_uri": "https://localhost:8080/",
          "height": 312
        },
        "id": "c7c1ec66",
        "outputId": "e8583527-6c2c-4393-984b-8be5ec34dac2"
      },
      "source": [
        "# Sparcity vs speed up graph (Bonus)\n",
        "# line 1 points\n",
        "sparsity = [sparsity_50,Sparsity_75,sparsity_90]\n",
        "speedup = [speedup_prunned_50,speedup_prunned_75,speedup_prunned_90]\n",
        "# plotting the line 1 points \n",
        "plt.xlabel('Percentage Sparcity')\n",
        "# Set the y axis label of the current axis.\n",
        "plt.ylabel('Speed up')\n",
        "# Set a title of the current axes.\n",
        "plt.title('Sparsity vs Speed Up')\n",
        "# show a legend on the plot\n",
        "plt.legend()\n",
        "# Display a figure.\n",
        "plt.plot(sparsity, speedup, linestyle='--', marker='o')\n",
        "plt.show()"
      ],
      "id": "c7c1ec66",
      "execution_count": 50,
      "outputs": [
        {
          "output_type": "stream",
          "name": "stderr",
          "text": [
            "No handles with labels found to put in legend.\n"
          ]
        },
        {
          "output_type": "display_data",
          "data": {
            "image/png": "[encoded data removed]",
            "text/plain": [
              "<Figure size 432x288 with 1 Axes>"
            ]
          },
          "metadata": {
            "needs_background": "light"
          }
        }
      ]
    },
    {
      "cell_type": "code",
      "metadata": {
        "id": "hXVk7FTMUABb"
      },
      "source": [
        ""
      ],
      "id": "hXVk7FTMUABb",
      "execution_count": null,
      "outputs": []
    }
  ]
}