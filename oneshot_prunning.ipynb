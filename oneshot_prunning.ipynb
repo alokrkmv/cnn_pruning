{
  "nbformat": 4,
  "nbformat_minor": 0,
  "metadata": {
    "colab": {
      "name": "oneshot_prunned.ipynb",
      "provenance": [],
      "collapsed_sections": []
    },
    "kernelspec": {
      "name": "python3",
      "display_name": "Python 3"
    },
    "language_info": {
      "name": "python"
    },
    "accelerator": "GPU",
    "widgets": {
      "application/vnd.jupyter.widget-state+json": {
        "74efaadeff0841f0af78b5951a00986b": {
          "model_module": "@jupyter-widgets/controls",
          "model_name": "HBoxModel",
          "model_module_version": "1.5.0",
          "state": {
            "_view_name": "HBoxView",
            "_dom_classes": [],
            "_model_name": "HBoxModel",
            "_view_module": "@jupyter-widgets/controls",
            "_model_module_version": "1.5.0",
            "_view_count": null,
            "_view_module_version": "1.5.0",
            "box_style": "",
            "layout": "IPY_MODEL_7c3bcb801f1640d8ad23fb0f6cc47fb2",
            "_model_module": "@jupyter-widgets/controls",
            "children": [
              "IPY_MODEL_580ffa8fa25f4f88981a52317cfff942",
              "IPY_MODEL_785e0aef3de4403b9fd63ac11dd7898f",
              "IPY_MODEL_ea5dcd3981af4d608f89c825ffbe52fb"
            ]
          }
        },
        "7c3bcb801f1640d8ad23fb0f6cc47fb2": {
          "model_module": "@jupyter-widgets/base",
          "model_name": "LayoutModel",
          "model_module_version": "1.2.0",
          "state": {
            "_view_name": "LayoutView",
            "grid_template_rows": null,
            "right": null,
            "justify_content": null,
            "_view_module": "@jupyter-widgets/base",
            "overflow": null,
            "_model_module_version": "1.2.0",
            "_view_count": null,
            "flex_flow": null,
            "width": null,
            "min_width": null,
            "border": null,
            "align_items": null,
            "bottom": null,
            "_model_module": "@jupyter-widgets/base",
            "top": null,
            "grid_column": null,
            "overflow_y": null,
            "overflow_x": null,
            "grid_auto_flow": null,
            "grid_area": null,
            "grid_template_columns": null,
            "flex": null,
            "_model_name": "LayoutModel",
            "justify_items": null,
            "grid_row": null,
            "max_height": null,
            "align_content": null,
            "visibility": null,
            "align_self": null,
            "height": null,
            "min_height": null,
            "padding": null,
            "grid_auto_rows": null,
            "grid_gap": null,
            "max_width": null,
            "order": null,
            "_view_module_version": "1.2.0",
            "grid_template_areas": null,
            "object_position": null,
            "object_fit": null,
            "grid_auto_columns": null,
            "margin": null,
            "display": null,
            "left": null
          }
        },
        "580ffa8fa25f4f88981a52317cfff942": {
          "model_module": "@jupyter-widgets/controls",
          "model_name": "HTMLModel",
          "model_module_version": "1.5.0",
          "state": {
            "_view_name": "HTMLView",
            "style": "IPY_MODEL_be45495b75e54943b3c69a349b06742f",
            "_dom_classes": [],
            "description": "",
            "_model_name": "HTMLModel",
            "placeholder": "​",
            "_view_module": "@jupyter-widgets/controls",
            "_model_module_version": "1.5.0",
            "value": "",
            "_view_count": null,
            "_view_module_version": "1.5.0",
            "description_tooltip": null,
            "_model_module": "@jupyter-widgets/controls",
            "layout": "IPY_MODEL_d70dff5b83604f999092ed5a3b042b07"
          }
        },
        "785e0aef3de4403b9fd63ac11dd7898f": {
          "model_module": "@jupyter-widgets/controls",
          "model_name": "FloatProgressModel",
          "model_module_version": "1.5.0",
          "state": {
            "_view_name": "ProgressView",
            "style": "IPY_MODEL_6c9843ce0d5d4405afe30f77a53755b6",
            "_dom_classes": [],
            "description": "",
            "_model_name": "FloatProgressModel",
            "bar_style": "success",
            "max": 170498071,
            "_view_module": "@jupyter-widgets/controls",
            "_model_module_version": "1.5.0",
            "value": 170498071,
            "_view_count": null,
            "_view_module_version": "1.5.0",
            "orientation": "horizontal",
            "min": 0,
            "description_tooltip": null,
            "_model_module": "@jupyter-widgets/controls",
            "layout": "IPY_MODEL_70109eadf115499f8db7dbf594af3631"
          }
        },
        "ea5dcd3981af4d608f89c825ffbe52fb": {
          "model_module": "@jupyter-widgets/controls",
          "model_name": "HTMLModel",
          "model_module_version": "1.5.0",
          "state": {
            "_view_name": "HTMLView",
            "style": "IPY_MODEL_54de84a7cc834c818ab7d6311a0909c9",
            "_dom_classes": [],
            "description": "",
            "_model_name": "HTMLModel",
            "placeholder": "​",
            "_view_module": "@jupyter-widgets/controls",
            "_model_module_version": "1.5.0",
            "value": " 170499072/? [00:04&lt;00:00, 52121980.83it/s]",
            "_view_count": null,
            "_view_module_version": "1.5.0",
            "description_tooltip": null,
            "_model_module": "@jupyter-widgets/controls",
            "layout": "IPY_MODEL_5b62fc88e3e345f2aa626be0f4088b0f"
          }
        },
        "be45495b75e54943b3c69a349b06742f": {
          "model_module": "@jupyter-widgets/controls",
          "model_name": "DescriptionStyleModel",
          "model_module_version": "1.5.0",
          "state": {
            "_view_name": "StyleView",
            "_model_name": "DescriptionStyleModel",
            "description_width": "",
            "_view_module": "@jupyter-widgets/base",
            "_model_module_version": "1.5.0",
            "_view_count": null,
            "_view_module_version": "1.2.0",
            "_model_module": "@jupyter-widgets/controls"
          }
        },
        "d70dff5b83604f999092ed5a3b042b07": {
          "model_module": "@jupyter-widgets/base",
          "model_name": "LayoutModel",
          "model_module_version": "1.2.0",
          "state": {
            "_view_name": "LayoutView",
            "grid_template_rows": null,
            "right": null,
            "justify_content": null,
            "_view_module": "@jupyter-widgets/base",
            "overflow": null,
            "_model_module_version": "1.2.0",
            "_view_count": null,
            "flex_flow": null,
            "width": null,
            "min_width": null,
            "border": null,
            "align_items": null,
            "bottom": null,
            "_model_module": "@jupyter-widgets/base",
            "top": null,
            "grid_column": null,
            "overflow_y": null,
            "overflow_x": null,
            "grid_auto_flow": null,
            "grid_area": null,
            "grid_template_columns": null,
            "flex": null,
            "_model_name": "LayoutModel",
            "justify_items": null,
            "grid_row": null,
            "max_height": null,
            "align_content": null,
            "visibility": null,
            "align_self": null,
            "height": null,
            "min_height": null,
            "padding": null,
            "grid_auto_rows": null,
            "grid_gap": null,
            "max_width": null,
            "order": null,
            "_view_module_version": "1.2.0",
            "grid_template_areas": null,
            "object_position": null,
            "object_fit": null,
            "grid_auto_columns": null,
            "margin": null,
            "display": null,
            "left": null
          }
        },
        "6c9843ce0d5d4405afe30f77a53755b6": {
          "model_module": "@jupyter-widgets/controls",
          "model_name": "ProgressStyleModel",
          "model_module_version": "1.5.0",
          "state": {
            "_view_name": "StyleView",
            "_model_name": "ProgressStyleModel",
            "description_width": "",
            "_view_module": "@jupyter-widgets/base",
            "_model_module_version": "1.5.0",
            "_view_count": null,
            "_view_module_version": "1.2.0",
            "bar_color": null,
            "_model_module": "@jupyter-widgets/controls"
          }
        },
        "70109eadf115499f8db7dbf594af3631": {
          "model_module": "@jupyter-widgets/base",
          "model_name": "LayoutModel",
          "model_module_version": "1.2.0",
          "state": {
            "_view_name": "LayoutView",
            "grid_template_rows": null,
            "right": null,
            "justify_content": null,
            "_view_module": "@jupyter-widgets/base",
            "overflow": null,
            "_model_module_version": "1.2.0",
            "_view_count": null,
            "flex_flow": null,
            "width": null,
            "min_width": null,
            "border": null,
            "align_items": null,
            "bottom": null,
            "_model_module": "@jupyter-widgets/base",
            "top": null,
            "grid_column": null,
            "overflow_y": null,
            "overflow_x": null,
            "grid_auto_flow": null,
            "grid_area": null,
            "grid_template_columns": null,
            "flex": null,
            "_model_name": "LayoutModel",
            "justify_items": null,
            "grid_row": null,
            "max_height": null,
            "align_content": null,
            "visibility": null,
            "align_self": null,
            "height": null,
            "min_height": null,
            "padding": null,
            "grid_auto_rows": null,
            "grid_gap": null,
            "max_width": null,
            "order": null,
            "_view_module_version": "1.2.0",
            "grid_template_areas": null,
            "object_position": null,
            "object_fit": null,
            "grid_auto_columns": null,
            "margin": null,
            "display": null,
            "left": null
          }
        },
        "54de84a7cc834c818ab7d6311a0909c9": {
          "model_module": "@jupyter-widgets/controls",
          "model_name": "DescriptionStyleModel",
          "model_module_version": "1.5.0",
          "state": {
            "_view_name": "StyleView",
            "_model_name": "DescriptionStyleModel",
            "description_width": "",
            "_view_module": "@jupyter-widgets/base",
            "_model_module_version": "1.5.0",
            "_view_count": null,
            "_view_module_version": "1.2.0",
            "_model_module": "@jupyter-widgets/controls"
          }
        },
        "5b62fc88e3e345f2aa626be0f4088b0f": {
          "model_module": "@jupyter-widgets/base",
          "model_name": "LayoutModel",
          "model_module_version": "1.2.0",
          "state": {
            "_view_name": "LayoutView",
            "grid_template_rows": null,
            "right": null,
            "justify_content": null,
            "_view_module": "@jupyter-widgets/base",
            "overflow": null,
            "_model_module_version": "1.2.0",
            "_view_count": null,
            "flex_flow": null,
            "width": null,
            "min_width": null,
            "border": null,
            "align_items": null,
            "bottom": null,
            "_model_module": "@jupyter-widgets/base",
            "top": null,
            "grid_column": null,
            "overflow_y": null,
            "overflow_x": null,
            "grid_auto_flow": null,
            "grid_area": null,
            "grid_template_columns": null,
            "flex": null,
            "_model_name": "LayoutModel",
            "justify_items": null,
            "grid_row": null,
            "max_height": null,
            "align_content": null,
            "visibility": null,
            "align_self": null,
            "height": null,
            "min_height": null,
            "padding": null,
            "grid_auto_rows": null,
            "grid_gap": null,
            "max_width": null,
            "order": null,
            "_view_module_version": "1.2.0",
            "grid_template_areas": null,
            "object_position": null,
            "object_fit": null,
            "grid_auto_columns": null,
            "margin": null,
            "display": null,
            "left": null
          }
        }
      }
    }
  },
  "cells": [
    {
      "cell_type": "code",
      "metadata": {
        "colab": {
          "base_uri": "https://localhost:8080/"
        },
        "id": "i8WbLBV91MPe",
        "outputId": "c4804981-d97f-49f1-cc43-8686f1febf6e"
      },
      "source": [
        "import zipfile\n",
        "from google.colab import drive\n",
        "\n",
        "drive.mount('/content/drive/')\n",
        "\n"
      ],
      "execution_count": 1,
      "outputs": [
        {
          "output_type": "stream",
          "name": "stdout",
          "text": [
            "Mounted at /content/drive/\n"
          ]
        }
      ]
    },
    {
      "cell_type": "code",
      "metadata": {
        "id": "6cfRLeY042m5"
      },
      "source": [
        "zip_ref = zipfile.ZipFile(\"/content/drive/My Drive/cs532/cnn-pruning-status_200.zip\", 'r')\n",
        "zip_ref.extractall(\"content/tmp\")\n",
        "zip_ref.close()"
      ],
      "execution_count": 2,
      "outputs": []
    },
    {
      "cell_type": "code",
      "metadata": {
        "colab": {
          "base_uri": "https://localhost:8080/"
        },
        "id": "-8IYI13d4kA0",
        "outputId": "e374fa9a-bfcd-4953-f2ee-dcf45539e0ba"
      },
      "source": [
        "!pwd"
      ],
      "execution_count": 3,
      "outputs": [
        {
          "output_type": "stream",
          "name": "stdout",
          "text": [
            "/content\n"
          ]
        }
      ]
    },
    {
      "cell_type": "code",
      "metadata": {
        "colab": {
          "base_uri": "https://localhost:8080/"
        },
        "id": "RxTuVsi3FP9P",
        "outputId": "f30856e7-5dfd-4cc2-a964-f6fd0df1e26f"
      },
      "source": [
        "!pip uninstall torch"
      ],
      "execution_count": 4,
      "outputs": [
        {
          "output_type": "stream",
          "name": "stdout",
          "text": [
            "Found existing installation: torch 1.10.0+cu111\n",
            "Uninstalling torch-1.10.0+cu111:\n",
            "  Would remove:\n",
            "    /usr/local/bin/convert-caffe2-to-onnx\n",
            "    /usr/local/bin/convert-onnx-to-caffe2\n",
            "    /usr/local/bin/torchrun\n",
            "    /usr/local/lib/python3.7/dist-packages/caffe2/*\n",
            "    /usr/local/lib/python3.7/dist-packages/torch-1.10.0+cu111.dist-info/*\n",
            "    /usr/local/lib/python3.7/dist-packages/torch/*\n",
            "Proceed (y/n)? \u001b[31mERROR: Operation cancelled by user\u001b[0m\n"
          ]
        }
      ]
    },
    {
      "cell_type": "code",
      "metadata": {
        "colab": {
          "base_uri": "https://localhost:8080/"
        },
        "id": "mQb11M1lFiFf",
        "outputId": "5edfce12-be0a-44ff-a280-76dfa27e7762"
      },
      "source": [
        "!curl -s https://course.fast.ai/setup/colab | bash"
      ],
      "execution_count": 5,
      "outputs": [
        {
          "output_type": "stream",
          "name": "stdout",
          "text": [
            "bash: line 1: syntax error near unexpected token `newline'\n",
            "bash: line 1: `<!DOCTYPE html>'\n"
          ]
        }
      ]
    },
    {
      "cell_type": "code",
      "metadata": {
        "colab": {
          "base_uri": "https://localhost:8080/"
        },
        "id": "HmmkGdiD49To",
        "outputId": "8240a373-df4b-4d97-e3d8-ccd50cc2fd71"
      },
      "source": [
        "FOLDERNAME = 'content/tmp/cnn-pruning-status_200'\n",
        "%cd $FOLDERNAME"
      ],
      "execution_count": 6,
      "outputs": [
        {
          "output_type": "stream",
          "name": "stdout",
          "text": [
            "/content/content/tmp/cnn-pruning-status_200\n"
          ]
        }
      ]
    },
    {
      "cell_type": "code",
      "metadata": {
        "id": "YLkV9u376LVD"
      },
      "source": [
        "import torch\n",
        "import copy\n",
        "import torch.nn.utils.prune as prune\n",
        "import math\n",
        "from torchvision import datasets,transforms\n",
        "import torchvision\n",
        "import torch.nn as nn\n",
        "import torch.optim as optim"
      ],
      "execution_count": 7,
      "outputs": []
    },
    {
      "cell_type": "code",
      "metadata": {
        "colab": {
          "base_uri": "https://localhost:8080/"
        },
        "id": "iYxtDP3M6Qwq",
        "outputId": "bce9a609-0c0c-48c3-a54f-48f4f84166d9"
      },
      "source": [
        "# Load the pretrained model\n",
        "from cifar10_models.resnet import resnet18\n",
        "my_model = resnet18()\n",
        "\n",
        "# Pretrained model\n",
        "my_model = resnet18(pretrained=True)\n",
        "my_model.eval()"
      ],
      "execution_count": 8,
      "outputs": [
        {
          "output_type": "execute_result",
          "data": {
            "text/plain": [
              "ResNet(\n",
              "  (conv1): Conv2d(3, 64, kernel_size=(3, 3), stride=(1, 1), padding=(1, 1), bias=False)\n",
              "  (bn1): BatchNorm2d(64, eps=1e-05, momentum=0.1, affine=True, track_running_stats=True)\n",
              "  (relu): ReLU(inplace=True)\n",
              "  (maxpool): MaxPool2d(kernel_size=3, stride=2, padding=1, dilation=1, ceil_mode=False)\n",
              "  (layer1): Sequential(\n",
              "    (0): BasicBlock(\n",
              "      (conv1): Conv2d(64, 64, kernel_size=(3, 3), stride=(1, 1), padding=(1, 1), bias=False)\n",
              "      (bn1): BatchNorm2d(64, eps=1e-05, momentum=0.1, affine=True, track_running_stats=True)\n",
              "      (relu): ReLU(inplace=True)\n",
              "      (conv2): Conv2d(64, 64, kernel_size=(3, 3), stride=(1, 1), padding=(1, 1), bias=False)\n",
              "      (bn2): BatchNorm2d(64, eps=1e-05, momentum=0.1, affine=True, track_running_stats=True)\n",
              "    )\n",
              "    (1): BasicBlock(\n",
              "      (conv1): Conv2d(64, 64, kernel_size=(3, 3), stride=(1, 1), padding=(1, 1), bias=False)\n",
              "      (bn1): BatchNorm2d(64, eps=1e-05, momentum=0.1, affine=True, track_running_stats=True)\n",
              "      (relu): ReLU(inplace=True)\n",
              "      (conv2): Conv2d(64, 64, kernel_size=(3, 3), stride=(1, 1), padding=(1, 1), bias=False)\n",
              "      (bn2): BatchNorm2d(64, eps=1e-05, momentum=0.1, affine=True, track_running_stats=True)\n",
              "    )\n",
              "  )\n",
              "  (layer2): Sequential(\n",
              "    (0): BasicBlock(\n",
              "      (conv1): Conv2d(64, 128, kernel_size=(3, 3), stride=(2, 2), padding=(1, 1), bias=False)\n",
              "      (bn1): BatchNorm2d(128, eps=1e-05, momentum=0.1, affine=True, track_running_stats=True)\n",
              "      (relu): ReLU(inplace=True)\n",
              "      (conv2): Conv2d(128, 128, kernel_size=(3, 3), stride=(1, 1), padding=(1, 1), bias=False)\n",
              "      (bn2): BatchNorm2d(128, eps=1e-05, momentum=0.1, affine=True, track_running_stats=True)\n",
              "      (downsample): Sequential(\n",
              "        (0): Conv2d(64, 128, kernel_size=(1, 1), stride=(2, 2), bias=False)\n",
              "        (1): BatchNorm2d(128, eps=1e-05, momentum=0.1, affine=True, track_running_stats=True)\n",
              "      )\n",
              "    )\n",
              "    (1): BasicBlock(\n",
              "      (conv1): Conv2d(128, 128, kernel_size=(3, 3), stride=(1, 1), padding=(1, 1), bias=False)\n",
              "      (bn1): BatchNorm2d(128, eps=1e-05, momentum=0.1, affine=True, track_running_stats=True)\n",
              "      (relu): ReLU(inplace=True)\n",
              "      (conv2): Conv2d(128, 128, kernel_size=(3, 3), stride=(1, 1), padding=(1, 1), bias=False)\n",
              "      (bn2): BatchNorm2d(128, eps=1e-05, momentum=0.1, affine=True, track_running_stats=True)\n",
              "    )\n",
              "  )\n",
              "  (layer3): Sequential(\n",
              "    (0): BasicBlock(\n",
              "      (conv1): Conv2d(128, 256, kernel_size=(3, 3), stride=(2, 2), padding=(1, 1), bias=False)\n",
              "      (bn1): BatchNorm2d(256, eps=1e-05, momentum=0.1, affine=True, track_running_stats=True)\n",
              "      (relu): ReLU(inplace=True)\n",
              "      (conv2): Conv2d(256, 256, kernel_size=(3, 3), stride=(1, 1), padding=(1, 1), bias=False)\n",
              "      (bn2): BatchNorm2d(256, eps=1e-05, momentum=0.1, affine=True, track_running_stats=True)\n",
              "      (downsample): Sequential(\n",
              "        (0): Conv2d(128, 256, kernel_size=(1, 1), stride=(2, 2), bias=False)\n",
              "        (1): BatchNorm2d(256, eps=1e-05, momentum=0.1, affine=True, track_running_stats=True)\n",
              "      )\n",
              "    )\n",
              "    (1): BasicBlock(\n",
              "      (conv1): Conv2d(256, 256, kernel_size=(3, 3), stride=(1, 1), padding=(1, 1), bias=False)\n",
              "      (bn1): BatchNorm2d(256, eps=1e-05, momentum=0.1, affine=True, track_running_stats=True)\n",
              "      (relu): ReLU(inplace=True)\n",
              "      (conv2): Conv2d(256, 256, kernel_size=(3, 3), stride=(1, 1), padding=(1, 1), bias=False)\n",
              "      (bn2): BatchNorm2d(256, eps=1e-05, momentum=0.1, affine=True, track_running_stats=True)\n",
              "    )\n",
              "  )\n",
              "  (layer4): Sequential(\n",
              "    (0): BasicBlock(\n",
              "      (conv1): Conv2d(256, 512, kernel_size=(3, 3), stride=(2, 2), padding=(1, 1), bias=False)\n",
              "      (bn1): BatchNorm2d(512, eps=1e-05, momentum=0.1, affine=True, track_running_stats=True)\n",
              "      (relu): ReLU(inplace=True)\n",
              "      (conv2): Conv2d(512, 512, kernel_size=(3, 3), stride=(1, 1), padding=(1, 1), bias=False)\n",
              "      (bn2): BatchNorm2d(512, eps=1e-05, momentum=0.1, affine=True, track_running_stats=True)\n",
              "      (downsample): Sequential(\n",
              "        (0): Conv2d(256, 512, kernel_size=(1, 1), stride=(2, 2), bias=False)\n",
              "        (1): BatchNorm2d(512, eps=1e-05, momentum=0.1, affine=True, track_running_stats=True)\n",
              "      )\n",
              "    )\n",
              "    (1): BasicBlock(\n",
              "      (conv1): Conv2d(512, 512, kernel_size=(3, 3), stride=(1, 1), padding=(1, 1), bias=False)\n",
              "      (bn1): BatchNorm2d(512, eps=1e-05, momentum=0.1, affine=True, track_running_stats=True)\n",
              "      (relu): ReLU(inplace=True)\n",
              "      (conv2): Conv2d(512, 512, kernel_size=(3, 3), stride=(1, 1), padding=(1, 1), bias=False)\n",
              "      (bn2): BatchNorm2d(512, eps=1e-05, momentum=0.1, affine=True, track_running_stats=True)\n",
              "    )\n",
              "  )\n",
              "  (avgpool): AdaptiveAvgPool2d(output_size=(1, 1))\n",
              "  (fc): Linear(in_features=512, out_features=10, bias=True)\n",
              ")"
            ]
          },
          "metadata": {},
          "execution_count": 8
        }
      ]
    },
    {
      "cell_type": "code",
      "metadata": {
        "id": "U52p742E6ayM"
      },
      "source": [
        "def calculate_sparsity(model):\n",
        "  total_count = 0\n",
        "  zero_count = 0\n",
        "  \n",
        "  for buffer_name, buffer in model.named_buffers():\n",
        "    zero_count += torch.sum(buffer == 0).item()\n",
        "    if zero_count>0:\n",
        "      total_count += buffer.nelement()\n",
        "\n",
        "  print(\"Total params: \", total_count)\n",
        "  print(\"Zero params: \", zero_count)\n",
        "  return (math.ceil(zero_count*100/total_count))"
      ],
      "execution_count": 9,
      "outputs": []
    },
    {
      "cell_type": "code",
      "metadata": {
        "colab": {
          "base_uri": "https://localhost:8080/",
          "height": 101,
          "referenced_widgets": [
            "74efaadeff0841f0af78b5951a00986b",
            "7c3bcb801f1640d8ad23fb0f6cc47fb2",
            "580ffa8fa25f4f88981a52317cfff942",
            "785e0aef3de4403b9fd63ac11dd7898f",
            "ea5dcd3981af4d608f89c825ffbe52fb",
            "be45495b75e54943b3c69a349b06742f",
            "d70dff5b83604f999092ed5a3b042b07",
            "6c9843ce0d5d4405afe30f77a53755b6",
            "70109eadf115499f8db7dbf594af3631",
            "54de84a7cc834c818ab7d6311a0909c9",
            "5b62fc88e3e345f2aa626be0f4088b0f"
          ]
        },
        "id": "i_Jxzac36dSA",
        "outputId": "5c31acc0-fb2e-4d3e-a497-6e6edc7c8154"
      },
      "source": [
        "print(\"Preparing_data ======>\")\n",
        "transform_train = transforms.Compose([\n",
        "                                    transforms.RandomCrop(32,padding=4),\n",
        "                                    transforms.RandomHorizontalFlip(),\n",
        "                                    transforms.ToTensor(),\n",
        "                                    transforms.Normalize((0.4914,0.4822,0.4465),(0.2023,0.1994,0.2010))\n",
        "])\n",
        "                                \n",
        "trainset = torchvision.datasets.CIFAR10(\n",
        "    root = './data',train=True,download=True,transform=transform_train)\n",
        "trainloader = torch.utils.data.DataLoader(trainset,batch_size=128,shuffle=True,num_workers=2)"
      ],
      "execution_count": 10,
      "outputs": [
        {
          "output_type": "stream",
          "name": "stdout",
          "text": [
            "Preparing_data ======>\n",
            "Downloading https://www.cs.toronto.edu/~kriz/cifar-10-python.tar.gz to ./data/cifar-10-python.tar.gz\n"
          ]
        },
        {
          "output_type": "display_data",
          "data": {
            "application/vnd.jupyter.widget-view+json": {
              "model_id": "74efaadeff0841f0af78b5951a00986b",
              "version_minor": 0,
              "version_major": 2
            },
            "text/plain": [
              "  0%|          | 0/170498071 [00:00<?, ?it/s]"
            ]
          },
          "metadata": {}
        },
        {
          "output_type": "stream",
          "name": "stdout",
          "text": [
            "Extracting ./data/cifar-10-python.tar.gz to ./data\n"
          ]
        }
      ]
    },
    {
      "cell_type": "code",
      "metadata": {
        "id": "soODsu_76fOt"
      },
      "source": [
        "loss_history = []\n",
        "correct_history = []\n",
        "val_loss_history = []\n",
        "criterion = nn.CrossEntropyLoss()"
      ],
      "execution_count": 12,
      "outputs": []
    },
    {
      "cell_type": "code",
      "metadata": {
        "id": "J72zKVtw6imn"
      },
      "source": [
        "def get_optimizer(model):\n",
        "  optimizer = optim.SGD(model.parameters(), lr=0.1,momentum=0,weight_decay=5e-4)\n",
        "  return optimizer"
      ],
      "execution_count": 13,
      "outputs": []
    },
    {
      "cell_type": "code",
      "metadata": {
        "id": "nd7L8YfxGryq"
      },
      "source": [
        "device = 'cuda' if torch.cuda.is_available() else 'cpu'"
      ],
      "execution_count": 14,
      "outputs": []
    },
    {
      "cell_type": "code",
      "metadata": {
        "id": "xRaVEM1v6kOR"
      },
      "source": [
        "def train(epoch,model):\n",
        "  model.train()\n",
        "  train_acc = 0\n",
        "  train_loss = 0\n",
        "  correct = 0\n",
        "  total = 0\n",
        "\n",
        "  for batch_idx, (inputs, targets) in enumerate(trainloader):\n",
        "    inputs,targets = inputs.to(device),targets.to(device)\n",
        "    outputs = model(inputs)\n",
        "    loss = criterion(outputs,targets)\n",
        "    optimizer = get_optimizer(model)\n",
        "    optimizer.zero_grad()\n",
        "    loss.backward()\n",
        "    optimizer.step()\n",
        "\n",
        "    train_loss += loss.item()\n",
        "    _,predicted = outputs.max(1)\n",
        "    total +=targets.size(0)\n",
        "    correct += predicted.eq(targets).sum().item()\n",
        "    train_acc = 100 *correct/total\n",
        "  if epoch%5==1:\n",
        "    print(\"Training\")\n",
        "    print('[%d/%d] Loss: %.3f | Acc: %.3f (%d/%d)' %(batch_idx,len(trainloader),train_loss/(batch_idx+1),100.*correct/total,correct,total))\n",
        "    print('Current learning rate is: {}'.format(optimizer.param_groups[0]['lr']))\n",
        "  loss_history.append(train_loss)\n",
        "  correct_history.append(train_acc)\n",
        "\n",
        "  return min(loss_history),max(correct_history)"
      ],
      "execution_count": 15,
      "outputs": []
    },
    {
      "cell_type": "code",
      "metadata": {
        "colab": {
          "base_uri": "https://localhost:8080/"
        },
        "id": "OiIMj_NB6mFr",
        "outputId": "52869eac-e78c-47d8-8f99-d8e2a943eb42"
      },
      "source": [
        "# Build and save the oneshot pruning model with 50 % sparsity ratio\n",
        "model1 = copy.deepcopy(my_model)\n",
        "parameters_to_prune =[]\n",
        "for module_name, module in model1.named_modules():\n",
        "        if isinstance(module, torch.nn.Conv2d) or isinstance(module, torch.nn.Linear):\n",
        "            parameters_to_prune.append((module, \"weight\"))\n",
        "print(\"Layers to prune {}\".format((len(parameters_to_prune))))\n",
        "\n",
        "prune.global_unstructured(\n",
        "parameters_to_prune,\n",
        "pruning_method=prune.L1Unstructured,\n",
        "amount=0.5,\n",
        ")\n",
        "print(\"Sparsity of model1\", calculate_sparsity(model1))\n"
      ],
      "execution_count": 17,
      "outputs": [
        {
          "output_type": "stream",
          "name": "stdout",
          "text": [
            "Layers to prune 21\n",
            "Total params:  11173972\n",
            "Zero params:  5582176\n",
            "Sparsity of model1 50\n"
          ]
        }
      ]
    },
    {
      "cell_type": "code",
      "metadata": {
        "colab": {
          "base_uri": "https://localhost:8080/"
        },
        "id": "sO1jR3NQ6nfE",
        "outputId": "8843ec96-672b-4020-b869-827dd8771dfe"
      },
      "source": [
        "# Retrain the model for 100 epochs\n",
        "model1 = model1.to(device)\n",
        "epochs = 51\n",
        "for e in range(epochs):\n",
        "  if (e+1)%5==1:\n",
        "    print(f\"Epoch ========> {e+1}\")\n",
        "  train(e+1,model1)\n",
        "  torch.save(model1, \"cifar10_models/state_dicts/one_shot_50.pt\")"
      ],
      "execution_count": 18,
      "outputs": [
        {
          "output_type": "stream",
          "name": "stdout",
          "text": [
            "Epoch ========> 1\n",
            "Training\n",
            "[390/391] Loss: 1.623 | Acc: 40.194 (20097/50000)\n",
            "Current learning rate is: 0.1\n",
            "Epoch ========> 6\n",
            "Training\n",
            "[390/391] Loss: 0.611 | Acc: 79.200 (39600/50000)\n",
            "Current learning rate is: 0.1\n",
            "Epoch ========> 11\n",
            "Training\n",
            "[390/391] Loss: 0.434 | Acc: 85.164 (42582/50000)\n",
            "Current learning rate is: 0.1\n",
            "Epoch ========> 16\n",
            "Training\n",
            "[390/391] Loss: 0.349 | Acc: 88.084 (44042/50000)\n",
            "Current learning rate is: 0.1\n",
            "Epoch ========> 21\n",
            "Training\n",
            "[390/391] Loss: 0.293 | Acc: 89.902 (44951/50000)\n",
            "Current learning rate is: 0.1\n",
            "Epoch ========> 26\n",
            "Training\n",
            "[390/391] Loss: 0.258 | Acc: 90.992 (45496/50000)\n",
            "Current learning rate is: 0.1\n",
            "Epoch ========> 31\n",
            "Training\n",
            "[390/391] Loss: 0.226 | Acc: 92.240 (46120/50000)\n",
            "Current learning rate is: 0.1\n",
            "Epoch ========> 36\n",
            "Training\n",
            "[390/391] Loss: 0.201 | Acc: 93.132 (46566/50000)\n",
            "Current learning rate is: 0.1\n",
            "Epoch ========> 41\n",
            "Training\n",
            "[390/391] Loss: 0.181 | Acc: 93.626 (46813/50000)\n",
            "Current learning rate is: 0.1\n",
            "Epoch ========> 46\n",
            "Training\n",
            "[390/391] Loss: 0.166 | Acc: 94.216 (47108/50000)\n",
            "Current learning rate is: 0.1\n",
            "Epoch ========> 51\n",
            "Training\n",
            "[390/391] Loss: 0.159 | Acc: 94.444 (47222/50000)\n",
            "Current learning rate is: 0.1\n"
          ]
        }
      ]
    },
    {
      "cell_type": "code",
      "metadata": {
        "colab": {
          "base_uri": "https://localhost:8080/"
        },
        "id": "tTVLQ4LzEDox",
        "outputId": "57fa4ab3-bf9a-4e44-8e39-9b126fd697cb"
      },
      "source": [
        "# Build and save the oneshot pruning model with 75 % sparsity ratio\n",
        "model2 = copy.deepcopy(my_model)\n",
        "parameters_to_prune =[]\n",
        "for module_name, module in model2.named_modules():\n",
        "        if isinstance(module, torch.nn.Conv2d) or isinstance(module, torch.nn.Linear):\n",
        "            parameters_to_prune.append((module, \"weight\"))\n",
        "print(\"Layers to prune {}\".format((len(parameters_to_prune))))\n",
        "\n",
        "prune.global_unstructured(\n",
        "parameters_to_prune,\n",
        "pruning_method=prune.L1Unstructured,\n",
        "amount=0.75,\n",
        ")\n",
        "print(\"Sparsity of model2\", calculate_sparsity(model2))"
      ],
      "execution_count": 16,
      "outputs": [
        {
          "output_type": "stream",
          "name": "stdout",
          "text": [
            "Layers to prune 21\n",
            "Total params:  11173972\n",
            "Zero params:  8373264\n",
            "Sparsity of model2 75\n"
          ]
        }
      ]
    },
    {
      "cell_type": "code",
      "metadata": {
        "colab": {
          "base_uri": "https://localhost:8080/"
        },
        "id": "UbfDkFjJdp4y",
        "outputId": "0c26c8b9-7e8d-4556-fada-d18aa3595171"
      },
      "source": [
        "model2 = model2.to(device)\n",
        "epochs = 51\n",
        "for e in range(epochs):\n",
        "  if (e+1)%5==1:\n",
        "    print(f\"Epoch ========> {e+1}\")\n",
        "  train(e+1,model2)\n",
        "  torch.save(model2, \"cifar10_models/state_dicts/one_shot_75.pt\")"
      ],
      "execution_count": 18,
      "outputs": [
        {
          "output_type": "stream",
          "name": "stdout",
          "text": [
            "Epoch ========> 1\n",
            "Training\n",
            "[390/391] Loss: 1.003 | Acc: 64.722 (32361/50000)\n",
            "Current learning rate is: 0.1\n",
            "Epoch ========> 6\n",
            "Training\n",
            "[390/391] Loss: 0.483 | Acc: 83.488 (41744/50000)\n",
            "Current learning rate is: 0.1\n",
            "Epoch ========> 11\n",
            "Training\n",
            "[390/391] Loss: 0.358 | Acc: 87.584 (43792/50000)\n",
            "Current learning rate is: 0.1\n",
            "Epoch ========> 16\n",
            "Training\n",
            "[390/391] Loss: 0.296 | Acc: 89.662 (44831/50000)\n",
            "Current learning rate is: 0.1\n",
            "Epoch ========> 21\n",
            "Training\n",
            "[390/391] Loss: 0.248 | Acc: 91.384 (45692/50000)\n",
            "Current learning rate is: 0.1\n",
            "Epoch ========> 26\n",
            "Training\n",
            "[390/391] Loss: 0.218 | Acc: 92.502 (46251/50000)\n",
            "Current learning rate is: 0.1\n",
            "Epoch ========> 31\n",
            "Training\n",
            "[390/391] Loss: 0.194 | Acc: 93.312 (46656/50000)\n",
            "Current learning rate is: 0.1\n",
            "Epoch ========> 36\n",
            "Training\n",
            "[390/391] Loss: 0.175 | Acc: 93.834 (46917/50000)\n",
            "Current learning rate is: 0.1\n",
            "Epoch ========> 41\n",
            "Training\n",
            "[390/391] Loss: 0.164 | Acc: 94.198 (47099/50000)\n",
            "Current learning rate is: 0.1\n",
            "Epoch ========> 46\n",
            "Training\n",
            "[390/391] Loss: 0.150 | Acc: 94.752 (47376/50000)\n",
            "Current learning rate is: 0.1\n",
            "Epoch ========> 51\n",
            "Training\n",
            "[390/391] Loss: 0.141 | Acc: 95.128 (47564/50000)\n",
            "Current learning rate is: 0.1\n"
          ]
        }
      ]
    },
    {
      "cell_type": "code",
      "metadata": {
        "colab": {
          "base_uri": "https://localhost:8080/"
        },
        "id": "nYl0-WEFqcJd",
        "outputId": "20586b4a-33c1-43f7-a233-a58fea6d58d7"
      },
      "source": [
        "# Build and save the oneshot pruning model with 90 % sparsity ratio\n",
        "model3 = copy.deepcopy(my_model)\n",
        "parameters_to_prune =[]\n",
        "for module_name, module in model3.named_modules():\n",
        "        if isinstance(module, torch.nn.Conv2d) or isinstance(module, torch.nn.Linear):\n",
        "            parameters_to_prune.append((module, \"weight\"))\n",
        "print(\"Layers to prune {}\".format((len(parameters_to_prune))))\n",
        "\n",
        "prune.global_unstructured(\n",
        "parameters_to_prune,\n",
        "pruning_method=prune.L1Unstructured,\n",
        "amount=0.9,\n",
        ")\n",
        "print(\"Sparsity of model3\", calculate_sparsity(model3))\n",
        "torch.save(model3, \"cifar10_models/state_dicts/one_shot_90.pt\")"
      ],
      "execution_count": 19,
      "outputs": [
        {
          "output_type": "stream",
          "name": "stdout",
          "text": [
            "Layers to prune 21\n",
            "Total params:  11173972\n",
            "Zero params:  10047917\n",
            "Sparsity of model3 90\n"
          ]
        }
      ]
    },
    {
      "cell_type": "code",
      "metadata": {
        "colab": {
          "base_uri": "https://localhost:8080/"
        },
        "id": "LEdsiJF_3tJU",
        "outputId": "26a8f659-e4f1-4eb3-9606-c75736fbac7c"
      },
      "source": [
        "model3 = model3.to(device)\n",
        "epochs = 51\n",
        "for e in range(epochs):\n",
        "  if (e+1)%5==1:\n",
        "    print(f\"Epoch ========> {e+1}\")\n",
        "  train(e+1,model3)\n",
        "  torch.save(model3, \"cifar10_models/state_dicts/one_shot_90.pt\")"
      ],
      "execution_count": 20,
      "outputs": [
        {
          "output_type": "stream",
          "name": "stdout",
          "text": [
            "Epoch ========> 1\n",
            "Training\n",
            "[390/391] Loss: 1.124 | Acc: 61.032 (30516/50000)\n",
            "Current learning rate is: 0.1\n",
            "Epoch ========> 6\n",
            "Training\n",
            "[390/391] Loss: 0.275 | Acc: 90.536 (45268/50000)\n",
            "Current learning rate is: 0.1\n",
            "Epoch ========> 11\n",
            "Training\n",
            "[390/391] Loss: 0.195 | Acc: 93.280 (46640/50000)\n",
            "Current learning rate is: 0.1\n",
            "Epoch ========> 16\n",
            "Training\n",
            "[390/391] Loss: 0.159 | Acc: 94.604 (47302/50000)\n",
            "Current learning rate is: 0.1\n",
            "Epoch ========> 21\n",
            "Training\n",
            "[390/391] Loss: 0.139 | Acc: 95.174 (47587/50000)\n",
            "Current learning rate is: 0.1\n",
            "Epoch ========> 26\n",
            "Training\n",
            "[390/391] Loss: 0.126 | Acc: 95.668 (47834/50000)\n",
            "Current learning rate is: 0.1\n",
            "Epoch ========> 31\n",
            "Training\n",
            "[390/391] Loss: 0.117 | Acc: 95.988 (47994/50000)\n",
            "Current learning rate is: 0.1\n",
            "Epoch ========> 36\n",
            "Training\n",
            "[390/391] Loss: 0.109 | Acc: 96.222 (48111/50000)\n",
            "Current learning rate is: 0.1\n",
            "Epoch ========> 41\n",
            "Training\n",
            "[390/391] Loss: 0.100 | Acc: 96.542 (48271/50000)\n",
            "Current learning rate is: 0.1\n",
            "Epoch ========> 46\n",
            "Training\n",
            "[390/391] Loss: 0.098 | Acc: 96.608 (48304/50000)\n",
            "Current learning rate is: 0.1\n",
            "Epoch ========> 51\n",
            "Training\n",
            "[390/391] Loss: 0.096 | Acc: 96.724 (48362/50000)\n",
            "Current learning rate is: 0.1\n"
          ]
        }
      ]
    },
    {
      "cell_type": "code",
      "metadata": {
        "id": "IGc1t-NX39U4"
      },
      "source": [
        ""
      ],
      "execution_count": null,
      "outputs": []
    }
  ]
}