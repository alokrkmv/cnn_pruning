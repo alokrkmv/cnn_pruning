{
  "nbformat": 4,
  "nbformat_minor": 0,
  "metadata": {
    "colab": {
      "name": "Bonus.ipynb",
      "provenance": [],
      "collapsed_sections": []
    },
    "kernelspec": {
      "display_name": "Python 3",
      "language": "python",
      "name": "python3"
    },
    "language_info": {
      "codemirror_mode": {
        "name": "ipython",
        "version": 3
      },
      "file_extension": ".py",
      "mimetype": "text/x-python",
      "name": "python",
      "nbconvert_exporter": "python",
      "pygments_lexer": "ipython3",
      "version": "3.6.13"
    }
  },
  "cells": [
    {
      "cell_type": "code",
      "metadata": {
        "id": "yqkBOpcKJ7CE"
      },
      "source": [
        "# This note book contains the code for Bonus part of the project\n",
        "# Sparcity vs Speed UP\n",
        "# Sparcity vs Inference time"
      ],
      "execution_count": null,
      "outputs": []
    },
    {
      "cell_type": "code",
      "metadata": {
        "id": "gs_z4l87wh-F"
      },
      "source": [
        "import torch\n",
        "import torch.nn as nn\n",
        "import torch.optim as optim\n",
        "import torch.nn.functional as F\n",
        "import torchvision\n",
        "import time\n",
        "from torchvision import datasets, transforms\n",
        "import requests\n",
        "from PIL import Image\n",
        "import matplotlib.pyplot as plt\n",
        "\n",
        "import numpy as np\n",
        "import pandas as pd\n",
        "import matplotlib.pyplot as plt\n",
        "import itertools\n",
        "import math\n",
        "import random\n",
        "from sklearn.metrics import confusion_matrix\n",
        "import os\n",
        "import datetime"
      ],
      "execution_count": 3,
      "outputs": []
    },
    {
      "cell_type": "code",
      "metadata": {
        "colab": {
          "base_uri": "https://localhost:8080/"
        },
        "id": "gGkU7bXoKA50",
        "outputId": "8e1c3d4b-9362-40f1-eb91-818adc87b393"
      },
      "source": [
        "from google.colab import drive\n",
        "drive.mount('/content/drive',force_remount=True)\n",
        "FOLDERNAME = 'cs532/project_2_cnn_pruning/'\n",
        "%cd drive/My\\ Drive/$FOLDERNAME\n"
      ],
      "execution_count": 5,
      "outputs": [
        {
          "output_type": "stream",
          "name": "stdout",
          "text": [
            "Mounted at /content/drive\n",
            "/content/drive/My Drive/cs532/project_2_cnn_pruning\n"
          ]
        }
      ]
    },
    {
      "cell_type": "code",
      "metadata": {
        "id": "Tyce4kqdxBqL"
      },
      "source": [
        "best_acc = 0\n",
        "start_epoch = 0"
      ],
      "execution_count": 6,
      "outputs": []
    },
    {
      "cell_type": "code",
      "metadata": {
        "id": "yKSDEetKxOAA"
      },
      "source": [
        "# Data augmentation and normalization for testing\n",
        "transform_test = transforms.Compose([\n",
        "    transforms.ToTensor(),\n",
        "    transforms.Normalize((0.4914,0.4822,0.4465),(0.2023,0.1994,0.2010)),\n",
        "])"
      ],
      "execution_count": 7,
      "outputs": []
    },
    {
      "cell_type": "code",
      "metadata": {
        "colab": {
          "base_uri": "https://localhost:8080/"
        },
        "id": "ZDShgl8MxRRO",
        "outputId": "ed706334-e9a7-4fd0-b32d-42733176322a"
      },
      "source": [
        "testset = torchvision.datasets.CIFAR10(\n",
        "root='./data',train=False,download=True,transform=transform_test)\n",
        "testloader = torch.utils.data.DataLoader(testset,batch_size=100,shuffle=False,num_workers=2)"
      ],
      "execution_count": 8,
      "outputs": [
        {
          "output_type": "stream",
          "name": "stdout",
          "text": [
            "Files already downloaded and verified\n"
          ]
        }
      ]
    },
    {
      "cell_type": "code",
      "metadata": {
        "id": "-Z6kdiOuxZRQ"
      },
      "source": [
        "classes = ('plane','car','bird','cat','deer','dog','frog','horse','ship','truck')"
      ],
      "execution_count": 9,
      "outputs": []
    },
    {
      "cell_type": "code",
      "metadata": {
        "id": "vQ2fMeygxdK0"
      },
      "source": [
        "# Load the pretrained model\n",
        "from cifar10_models.resnet import resnet18\n",
        "my_model = resnet18()\n",
        "\n",
        "# Pretrained model\n",
        "my_model = resnet18(pretrained=True)\n",
        "my_model.eval()\n",
        "epoch= 1\n",
        "criterion = nn.CrossEntropyLoss()"
      ],
      "execution_count": 10,
      "outputs": []
    },
    {
      "cell_type": "code",
      "metadata": {
        "id": "h7UlyAdFxsQx"
      },
      "source": [
        "def load_model(model_name):\n",
        "    script_dir = os.path.abspath(os.getcwd())\n",
        "    model = torch.load(\n",
        "        script_dir + \"/cifar10_models/state_dicts/\" + model_name + \".pt\", map_location=torch.device('cpu')\n",
        "    )\n",
        "    return model"
      ],
      "execution_count": 11,
      "outputs": []
    },
    {
      "cell_type": "code",
      "metadata": {
        "id": "jSaX256txv3I"
      },
      "source": [
        "def test_inference(epochs,model):\n",
        "    val_acc=0\n",
        "    val_loss=0\n",
        "    val_correct=0\n",
        "    val_total = 0\n",
        "    with torch.no_grad():\n",
        "        for batch_idx, (inputs,targets) in enumerate(testloader):\n",
        "            if batch_idx>1:\n",
        "                break\n",
        "            # inputs,targets = inputs.to(device),targets.to(device)\n",
        "            outputs = model(inputs)\n",
        "            loss = criterion(outputs,targets)\n",
        "            val_loss += loss.item()\n",
        "            _,predicted = outputs.max(1)\n",
        "            val_total += targets.size(0)\n",
        "            val_correct += predicted.eq(targets).sum().item()\n",
        "            val_acc = 100.*val_correct/val_total\n",
        "            if batch_idx%40==39:\n",
        "                print(\"Evaluating....\")\n",
        "                print(batch_idx,len(testloader),'Loss: %.3f | Acc: %0.3f (%d/%d)' % (val_loss/(batch_idx+1),100*val_correct/val_total,val_correct,val_total))\n",
        "    return val_acc"
      ],
      "execution_count": 12,
      "outputs": []
    },
    {
      "cell_type": "code",
      "metadata": {
        "id": "n6KLW-otxwmU"
      },
      "source": [
        "# Inference time for unprunned mode\n",
        "start_time = datetime.datetime.now()\n",
        "test_inference(1,my_model)\n",
        "\n",
        "end_time = datetime.datetime.now()\n",
        "\n",
        "\n",
        "time_diff = (end_time - start_time)\n",
        "\n",
        "inference_time_uprunned_model = (time_diff.total_seconds()+1) * 1000"
      ],
      "execution_count": 27,
      "outputs": []
    },
    {
      "cell_type": "code",
      "metadata": {
        "colab": {
          "base_uri": "https://localhost:8080/"
        },
        "id": "kgcTih0DyAuT",
        "outputId": "fd4d81df-eb75-414b-a78b-dc7bb75b675f"
      },
      "source": [
        "# Evaluating iterative prunned model with 50 percent sparcity_ratio\n",
        "resnet_iterative_prunned_50 = load_model(\"iterative_50\")\n",
        "\n",
        "resnet_iterative_prunned_50.eval()\n",
        "epoch= 1\n",
        "criterion = nn.CrossEntropyLoss()\n",
        "\n",
        "# Calculating various inference params for 50 percent prunned model\n",
        "start_time = datetime.datetime.now()\n",
        "test_inference(1,resnet_iterative_prunned_50)\n",
        "\n",
        "end_time = datetime.datetime.now()\n",
        "\n",
        "\n",
        "time_diff = (end_time - start_time)\n",
        "\n",
        "inference_time_prunned_50 = time_diff.total_seconds() * 1000\n",
        "speedup_prunned_50 = inference_time_uprunned_model/inference_time_prunned_50\n",
        "print(\"++++++++++++++++++++++++++++++++++++++\")\n",
        "print(\"Various Evaluation metrics for the iterative_prunned_50 model\")\n",
        "print(f\"Sparsity: {0.5*100} percent\")\n",
        "print(f\"Inference time unprunned model {inference_time_uprunned_model:.2f}\")\n",
        "print(f\"Inference time {inference_time_prunned_50:.2f}\")\n",
        "print(f\"Speed up {speedup_prunned_50:.2f}\")\n",
        "print(\"++++++++++++++++++++++++++++++++++++++++\")"
      ],
      "execution_count": 28,
      "outputs": [
        {
          "output_type": "stream",
          "name": "stdout",
          "text": [
            "++++++++++++++++++++++++++++++++++++++\n",
            "Various Evaluation metrics for the iterative_prunned_50 model\n",
            "Sparsity: 50.0 percent\n",
            "Inference time unprunned model 2905.71\n",
            "Inference time 2020.02\n",
            "Speed up 1.44\n",
            "++++++++++++++++++++++++++++++++++++++++\n"
          ]
        }
      ]
    },
    {
      "cell_type": "code",
      "metadata": {
        "colab": {
          "base_uri": "https://localhost:8080/"
        },
        "id": "JovrbfuWyM8t",
        "outputId": "694b992b-dced-4fac-c3f4-18d24287bb4a"
      },
      "source": [
        "# Evaluating iterative prunned model with 75 percent sparcity_ratio\n",
        "resnet_iterative_prunned_75 = load_model(\"iterative_75\")\n",
        "\n",
        "resnet_iterative_prunned_75.eval()\n",
        "epoch= 1\n",
        "criterion = nn.CrossEntropyLoss()\n",
        "# Calculating various inference params for 75 percent prunned model\n",
        "start_time = datetime.datetime.now()\n",
        "test_inference(1,resnet_iterative_prunned_75)\n",
        "\n",
        "end_time = datetime.datetime.now()\n",
        "\n",
        "\n",
        "time_diff = (end_time - start_time)\n",
        "\n",
        "inference_time_prunned_75 = time_diff.total_seconds() * 1000\n",
        "speedup_prunned_75 = inference_time_uprunned_model/inference_time_prunned_75\n",
        "print(\"++++++++++++++++++++++++++++++++++++++\")\n",
        "print(\"Various Evaluation metrics for the iterative_prunned_75 model\")\n",
        "print(f\"Sparsity: {0.5*100} percent\")\n",
        "print(f\"Inference time unprunned model {inference_time_uprunned_model:.2f}\")\n",
        "print(f\"Inference time {inference_time_prunned_75:.2f}\")\n",
        "print(f\"Speed up {speedup_prunned_75:.2f}\")\n",
        "print(\"++++++++++++++++++++++++++++++++++++++++\")"
      ],
      "execution_count": 29,
      "outputs": [
        {
          "output_type": "stream",
          "name": "stdout",
          "text": [
            "++++++++++++++++++++++++++++++++++++++\n",
            "Various Evaluation metrics for the iterative_prunned_75 model\n",
            "Sparsity: 50.0 percent\n",
            "Inference time unprunned model 2905.71\n",
            "Inference time 1987.85\n",
            "Speed up 1.46\n",
            "++++++++++++++++++++++++++++++++++++++++\n"
          ]
        }
      ]
    },
    {
      "cell_type": "code",
      "metadata": {
        "colab": {
          "base_uri": "https://localhost:8080/"
        },
        "id": "EJg-K2cJyUPb",
        "outputId": "bda45ff1-aff6-44ea-8b44-3a52e4d9284c"
      },
      "source": [
        "# Evaluating iterative prunned model with 90 percent sparcity_ratio\n",
        "resnet_iterative_prunned_90 = load_model(\"iterative_90\")\n",
        "\n",
        "resnet_iterative_prunned_90.eval()\n",
        "epoch= 1\n",
        "criterion = nn.CrossEntropyLoss()\n",
        "# Calculating various inference params for 90 percent prunned model\n",
        "start_time = datetime.datetime.now()\n",
        "test_inference(1,resnet_iterative_prunned_90)\n",
        "\n",
        "end_time = datetime.datetime.now()\n",
        "\n",
        "\n",
        "time_diff = (end_time - start_time)\n",
        "\n",
        "inference_time_prunned_90 = time_diff.total_seconds() * 1000\n",
        "speedup_prunned_90 = inference_time_uprunned_model/inference_time_prunned_90\n",
        "print(\"++++++++++++++++++++++++++++++++++++++\")\n",
        "print(\"Various Evaluation metrics for the iterative_prunned_90 model\")\n",
        "print(f\"Sparsity: {0.5*100} percent\")\n",
        "print(f\"Inference time unprunned model {inference_time_uprunned_model:.2f}\")\n",
        "print(f\"Inference time {inference_time_prunned_90:.2f}\")\n",
        "print(f\"Speed up {speedup_prunned_90:.2f}\")\n",
        "print(\"++++++++++++++++++++++++++++++++++++++++\")"
      ],
      "execution_count": 30,
      "outputs": [
        {
          "output_type": "stream",
          "name": "stdout",
          "text": [
            "++++++++++++++++++++++++++++++++++++++\n",
            "Various Evaluation metrics for the iterative_prunned_90 model\n",
            "Sparsity: 50.0 percent\n",
            "Inference time unprunned model 2905.71\n",
            "Inference time 1975.88\n",
            "Speed up 1.47\n",
            "++++++++++++++++++++++++++++++++++++++++\n"
          ]
        }
      ]
    },
    {
      "cell_type": "code",
      "metadata": {
        "colab": {
          "base_uri": "https://localhost:8080/",
          "height": 312
        },
        "id": "0RBofWdYyf-g",
        "outputId": "e0185abc-a6d0-4eab-cb8c-a2f59e7459c8"
      },
      "source": [
        "# sparsity vs Inference time graph (Bonus)\n",
        "# line 1 points\n",
        "sparsity = [50,75,90]\n",
        "inference_time = [inference_time_prunned_50,inference_time_prunned_75,inference_time_prunned_90]\n",
        "# plotting the line 1 points \n",
        "plt.xlabel('Percentage sparsity')\n",
        "# Set the y axis label of the current axis.\n",
        "plt.ylabel('Speed up')\n",
        "# Set a title of the current axes.\n",
        "plt.title('Sparsity vs Inference time')\n",
        "# show a legend on the plot\n",
        "plt.legend()\n",
        "# Display a figure.\n",
        "plt.plot(sparsity, inference_time, linestyle='--', marker='o')\n",
        "plt.show()"
      ],
      "execution_count": 31,
      "outputs": [
        {
          "output_type": "stream",
          "name": "stderr",
          "text": [
            "No handles with labels found to put in legend.\n"
          ]
        },
        {
          "output_type": "display_data",
          "data": {
            "image/png": "[encoded data removed]",
            "text/plain": [
              "<Figure size 432x288 with 1 Axes>"
            ]
          },
          "metadata": {
            "needs_background": "light"
          }
        }
      ]
    },
    {
      "cell_type": "code",
      "metadata": {
        "colab": {
          "base_uri": "https://localhost:8080/",
          "height": 312
        },
        "id": "Nd6KPOAsyhEJ",
        "outputId": "d700a4f0-930c-41ca-f78e-5742a66baca4"
      },
      "source": [
        "# Sparsity vs speed up graph (Bonus)\n",
        "# line 1 points\n",
        "sparsity = [50,75,90]\n",
        "speedup = [speedup_prunned_50,speedup_prunned_75,speedup_prunned_90]\n",
        "# plotting the line 1 points \n",
        "plt.xlabel('Percentage Sparcity')\n",
        "# Set the y axis label of the current axis.\n",
        "plt.ylabel('Speed up')\n",
        "# Set a title of the current axes.\n",
        "plt.title('Sparsity vs Speed Up')\n",
        "# show a legend on the plot\n",
        "plt.legend()\n",
        "# Display a figure.\n",
        "plt.plot(sparsity, speedup, linestyle='--', marker='o')\n",
        "plt.show()"
      ],
      "execution_count": 32,
      "outputs": [
        {
          "output_type": "stream",
          "name": "stderr",
          "text": [
            "No handles with labels found to put in legend.\n"
          ]
        },
        {
          "output_type": "display_data",
          "data": {
            "image/png": "[encoded data removed]",
            "text/plain": [
              "<Figure size 432x288 with 1 Axes>"
            ]
          },
          "metadata": {
            "needs_background": "light"
          }
        }
      ]
    },
    {
      "cell_type": "code",
      "metadata": {
        "id": "zlfZIqr45qR4"
      },
      "source": [
        "# Evaluating one shot prunned model with 50 percent sparcity_ratio\n",
        "resnet_one_shot_prunned_50 = load_model(\"one_shot_50\")\n",
        "\n",
        "resnet_one_shot_prunned_50.eval()\n",
        "epoch= 1\n",
        "criterion = nn.CrossEntropyLoss()"
      ],
      "execution_count": 35,
      "outputs": []
    },
    {
      "cell_type": "code",
      "metadata": {
        "colab": {
          "base_uri": "https://localhost:8080/"
        },
        "id": "emEI6BOT5uSO",
        "outputId": "8432b566-23c6-46ec-95f6-816cf99cc649"
      },
      "source": [
        "# Calculating various inference params for 50 percent prunned model\n",
        "start_time = datetime.datetime.now()\n",
        "test_inference(1,resnet_one_shot_prunned_50)\n",
        "\n",
        "end_time = datetime.datetime.now()\n",
        "\n",
        "\n",
        "time_diff = (end_time - start_time)\n",
        "\n",
        "inference_time_prunned_50 = time_diff.total_seconds() * 1000\n",
        "speedup_prunned_50 = inference_time_uprunned_model/inference_time_prunned_50\n",
        "print(\"++++++++++++++++++++++++++++++++++++++\")\n",
        "print(\"Various Evaluation metrics for the oneshot_prunned_50 model\")\n",
        "print(f\"Sparcity: {0.5*100} percent\")\n",
        "print(f\"Inference time unprunned model {inference_time_uprunned_model:.2f}\")\n",
        "print(f\"Inference time {inference_time_prunned_50:.2f}\")\n",
        "print(f\"Speed up {speedup_prunned_50:.2f}\")\n",
        "print(\"++++++++++++++++++++++++++++++++++++++++\")"
      ],
      "execution_count": 43,
      "outputs": [
        {
          "output_type": "stream",
          "name": "stdout",
          "text": [
            "++++++++++++++++++++++++++++++++++++++\n",
            "Various Evaluation metrics for the oneshot_prunned_50 model\n",
            "Sparcity: 50.0 percent\n",
            "Inference time unprunned model 2905.71\n",
            "Inference time 2008.58\n",
            "Speed up 1.45\n",
            "++++++++++++++++++++++++++++++++++++++++\n"
          ]
        }
      ]
    },
    {
      "cell_type": "code",
      "metadata": {
        "id": "a1tyryek5-O0"
      },
      "source": [
        "# Evaluating one shot prunned model with 75 percent sparcity_ratio\n",
        "resnet_one_shot_prunned_75 = load_model(\"one_shot_75\")\n",
        "\n",
        "resnet_one_shot_prunned_75.eval()\n",
        "epoch= 1\n",
        "criterion = nn.CrossEntropyLoss()"
      ],
      "execution_count": 50,
      "outputs": []
    },
    {
      "cell_type": "code",
      "metadata": {
        "colab": {
          "base_uri": "https://localhost:8080/"
        },
        "id": "2jLLfQa-6CMn",
        "outputId": "53e2ccdb-a4ce-4186-a025-03bf5c6b1e94"
      },
      "source": [
        "# Calculating various inference params for 75 percent prunned model\n",
        "start_time = datetime.datetime.now()\n",
        "test_inference(1,resnet_one_shot_prunned_75)\n",
        "end_time = datetime.datetime.now()\n",
        "\n",
        "\n",
        "time_diff = (end_time - start_time)\n",
        "\n",
        "inference_time_prunned_75 = time_diff.total_seconds() * 1000\n",
        "speedup_prunned_75 = inference_time_uprunned_model/inference_time_prunned_75\n",
        "print(\"++++++++++++++++++++++++++++++++++++++\")\n",
        "print(\"Various Evaluation metrics for the oneshot_prunned_75 model\")\n",
        "print(f\"Sparcity: {0.5*100} percent\")\n",
        "print(f\"Inference time unprunned model {inference_time_uprunned_model:.2f}\")\n",
        "print(f\"Inference time {inference_time_prunned_75:.2f}\")\n",
        "print(f\"Speed up {speedup_prunned_75:.2f}\")\n",
        "print(\"++++++++++++++++++++++++++++++++++++++++\")"
      ],
      "execution_count": 52,
      "outputs": [
        {
          "output_type": "stream",
          "name": "stdout",
          "text": [
            "++++++++++++++++++++++++++++++++++++++\n",
            "Various Evaluation metrics for the oneshot_prunned_75 model\n",
            "Sparcity: 50.0 percent\n",
            "Inference time unprunned model 2905.71\n",
            "Inference time 1940.18\n",
            "Speed up 1.50\n",
            "++++++++++++++++++++++++++++++++++++++++\n"
          ]
        }
      ]
    },
    {
      "cell_type": "code",
      "metadata": {
        "id": "86W9A-2P6WXz"
      },
      "source": [
        "# Evaluating one shot prunned model with 90 percent sparcity_ratio\n",
        "resnet_one_shot_prunned_90 = load_model(\"one_shot_90\")\n",
        "\n",
        "resnet_one_shot_prunned_90.eval()\n",
        "epoch= 1\n",
        "criterion = nn.CrossEntropyLoss()"
      ],
      "execution_count": 53,
      "outputs": []
    },
    {
      "cell_type": "code",
      "metadata": {
        "id": "GS-kKYFWMhFR"
      },
      "source": [
        "# Calculating various inference params for 90 percent prunned model\n",
        "start_time = datetime.datetime.now()\n",
        "test_inference(1,resnet_one_shot_prunned_90)\n",
        "\n",
        "end_time = datetime.datetime.now()\n",
        "\n",
        "\n",
        "time_diff = (end_time - start_time)\n",
        "\n",
        "inference_time_prunned_90 = time_diff.total_seconds() * 1000"
      ],
      "execution_count": 60,
      "outputs": []
    },
    {
      "cell_type": "code",
      "metadata": {
        "colab": {
          "base_uri": "https://localhost:8080/"
        },
        "id": "NTDAX41-6XsD",
        "outputId": "8b147ea8-4eee-4293-b306-227655253b0a"
      },
      "source": [
        "speedup_prunned_90 = inference_time_uprunned_model/inference_time_prunned_90\n",
        "print(\"++++++++++++++++++++++++++++++++++++++\")\n",
        "print(\"Various Evaluation metrics for the oneshot_prunned_90 model\")\n",
        "print(f\"Sparcity: {0.5*100} percent\")\n",
        "print(f\"Inference time unprunned model {inference_time_uprunned_model:.2f}\")\n",
        "print(f\"Inference time {inference_time_prunned_90:.2f}\")\n",
        "print(f\"Speed up {speedup_prunned_90:.2f}\")\n",
        "print(\"++++++++++++++++++++++++++++++++++++++++\")"
      ],
      "execution_count": 64,
      "outputs": [
        {
          "output_type": "stream",
          "name": "stdout",
          "text": [
            "++++++++++++++++++++++++++++++++++++++\n",
            "Various Evaluation metrics for the oneshot_prunned_90 model\n",
            "Sparcity: 50.0 percent\n",
            "Inference time unprunned model 2905.71\n",
            "Inference time 1930.34\n",
            "Speed up 1.51\n",
            "++++++++++++++++++++++++++++++++++++++++\n"
          ]
        }
      ]
    },
    {
      "cell_type": "code",
      "metadata": {
        "colab": {
          "base_uri": "https://localhost:8080/",
          "height": 312
        },
        "id": "T8kj0vIl7cXa",
        "outputId": "c3eaab67-2904-4008-e4ce-21a3c6e69d3b"
      },
      "source": [
        "# Sparcity vs Inference time graph (Bonus)\n",
        "# line 1 points\n",
        "sparcity = [50,75,90]\n",
        "inference_time = [inference_time_prunned_50,inference_time_prunned_75,inference_time_prunned_90]\n",
        "# plotting the line 1 points \n",
        "plt.xlabel('Percentage Sparcity')\n",
        "# Set the y axis label of the current axis.\n",
        "plt.ylabel('Speed up')\n",
        "# Set a title of the current axes.\n",
        "plt.title('Sparcity vs Inference time')\n",
        "# show a legend on the plot\n",
        "plt.legend()\n",
        "# Display a figure.\n",
        "plt.plot(sparcity, inference_time, linestyle='--', marker='o')\n",
        "plt.show()"
      ],
      "execution_count": 65,
      "outputs": [
        {
          "output_type": "stream",
          "name": "stderr",
          "text": [
            "No handles with labels found to put in legend.\n"
          ]
        },
        {
          "output_type": "display_data",
          "data": {
            "image/png": "[encoded data removed]",
            "text/plain": [
              "<Figure size 432x288 with 1 Axes>"
            ]
          },
          "metadata": {
            "needs_background": "light"
          }
        }
      ]
    },
    {
      "cell_type": "code",
      "metadata": {
        "colab": {
          "base_uri": "https://localhost:8080/",
          "height": 312
        },
        "id": "zESReYea7dHo",
        "outputId": "f03a8672-2d56-4a35-fc99-98afe5f8c689"
      },
      "source": [
        "# Sparcity vs speed up graph (Bonus)\n",
        "# line 1 points\n",
        "sparcity = [50,75,90]\n",
        "speedup = [speedup_prunned_50,speedup_prunned_75,speedup_prunned_90]\n",
        "# plotting the line 1 points \n",
        "plt.xlabel('Percentage Sparcity')\n",
        "# Set the y axis label of the current axis.\n",
        "plt.ylabel('Speed up')\n",
        "# Set a title of the current axes.\n",
        "plt.title('Sparcity vs Speed Up')\n",
        "# show a legend on the plot\n",
        "plt.legend()\n",
        "# Display a figure.\n",
        "plt.plot(sparcity, speedup, linestyle='--', marker='o')\n",
        "plt.show()"
      ],
      "execution_count": 66,
      "outputs": [
        {
          "output_type": "stream",
          "name": "stderr",
          "text": [
            "No handles with labels found to put in legend.\n"
          ]
        },
        {
          "output_type": "display_data",
          "data": {
            "image/png": "[encoded data removed]",
            "text/plain": [
              "<Figure size 432x288 with 1 Axes>"
            ]
          },
          "metadata": {
            "needs_background": "light"
          }
        }
      ]
    },
    {
      "cell_type": "code",
      "metadata": {
        "id": "NaIkPj4ZLtuu"
      },
      "source": [
        ""
      ],
      "execution_count": null,
      "outputs": []
    }
  ]
}