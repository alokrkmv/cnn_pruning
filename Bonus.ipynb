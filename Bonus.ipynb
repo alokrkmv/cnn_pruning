{
 "cells": [
  {
   "cell_type": "code",
   "execution_count": 1,
   "metadata": {},
   "outputs": [],
   "source": [
    "# This note book contains the code for Bonus part of the project\n",
    "# Sparcity vs Speed UP\n",
    "# Sparcity vs Inference time"
   ]
  },
  {
   "cell_type": "code",
   "execution_count": 2,
   "metadata": {
    "id": "gs_z4l87wh-F"
   },
   "outputs": [],
   "source": [
    "import torch\n",
    "import torch.nn as nn\n",
    "import torch.optim as optim\n",
    "import torch.nn.functional as F\n",
    "import torchvision\n",
    "import time\n",
    "from torchvision import datasets, transforms\n",
    "import requests\n",
    "from PIL import Image\n",
    "import matplotlib.pyplot as plt\n",
    "\n",
    "import numpy as np\n",
    "import pandas as pd\n",
    "import matplotlib.pyplot as plt\n",
    "import itertools\n",
    "import math\n",
    "import random\n",
    "from sklearn.metrics import confusion_matrix\n",
    "import os\n",
    "import datetime"
   ]
  },
  {
   "cell_type": "code",
   "execution_count": 12,
   "metadata": {
    "id": "Tyce4kqdxBqL"
   },
   "outputs": [],
   "source": [
    "best_acc = 0\n",
    "start_epoch = 0"
   ]
  },
  {
   "cell_type": "code",
   "execution_count": 13,
   "metadata": {
    "id": "yKSDEetKxOAA"
   },
   "outputs": [],
   "source": [
    "# Data augmentation and normalization for testing\n",
    "transform_test = transforms.Compose([\n",
    "    transforms.ToTensor(),\n",
    "    transforms.Normalize((0.4914,0.4822,0.4465),(0.2023,0.1994,0.2010)),\n",
    "])"
   ]
  },
  {
   "cell_type": "code",
   "execution_count": 14,
   "metadata": {
    "colab": {
     "base_uri": "https://localhost:8080/"
    },
    "id": "ZDShgl8MxRRO",
    "outputId": "da3e3fab-1957-4959-bc50-13ee8fb9074e"
   },
   "outputs": [
    {
     "name": "stdout",
     "output_type": "stream",
     "text": [
      "Files already downloaded and verified\n"
     ]
    }
   ],
   "source": [
    "testset = torchvision.datasets.CIFAR10(\n",
    "root='./data',train=False,download=True,transform=transform_test)\n",
    "testloader = torch.utils.data.DataLoader(testset,batch_size=100,shuffle=False,num_workers=2)"
   ]
  },
  {
   "cell_type": "code",
   "execution_count": 15,
   "metadata": {
    "id": "-Z6kdiOuxZRQ"
   },
   "outputs": [],
   "source": [
    "classes = ('plane','car','bird','cat','deer','dog','frog','horse','ship','truck')"
   ]
  },
  {
   "cell_type": "code",
   "execution_count": 16,
   "metadata": {
    "id": "vQ2fMeygxdK0"
   },
   "outputs": [],
   "source": [
    "# Load the pretrained model\n",
    "from cifar10_models.resnet import resnet18\n",
    "my_model = resnet18()\n",
    "\n",
    "# Pretrained model\n",
    "my_model = resnet18(pretrained=True)\n",
    "my_model.eval()\n",
    "epoch= 1\n",
    "criterion = nn.CrossEntropyLoss()"
   ]
  },
  {
   "cell_type": "code",
   "execution_count": 17,
   "metadata": {
    "id": "h7UlyAdFxsQx"
   },
   "outputs": [],
   "source": [
    "def load_model(model_name):\n",
    "    script_dir = os.path.abspath(os.getcwd())\n",
    "    model = torch.load(\n",
    "        script_dir + \"/cifar10_models/state_dicts/\" + model_name + \".pt\"\n",
    "    )\n",
    "    return model"
   ]
  },
  {
   "cell_type": "code",
   "execution_count": 18,
   "metadata": {
    "id": "jSaX256txv3I"
   },
   "outputs": [],
   "source": [
    "def test_inference(epochs,model):\n",
    "    val_acc=0\n",
    "    val_loss=0\n",
    "    val_correct=0\n",
    "    val_total = 0\n",
    "    with torch.no_grad():\n",
    "        for batch_idx, (inputs,targets) in enumerate(testloader):\n",
    "            if batch_idx>1:\n",
    "                break\n",
    "            # inputs,targets = inputs.to(device),targets.to(device)\n",
    "            outputs = model(inputs)\n",
    "            loss = criterion(outputs,targets)\n",
    "            val_loss += loss.item()\n",
    "            _,predicted = outputs.max(1)\n",
    "            val_total += targets.size(0)\n",
    "            val_correct += predicted.eq(targets).sum().item()\n",
    "            val_acc = 100.*val_correct/val_total\n",
    "            if batch_idx%40==39:\n",
    "                print(\"Evaluating....\")\n",
    "                print(batch_idx,len(testloader),'Loss: %.3f | Acc: %0.3f (%d/%d)' % (val_loss/(batch_idx+1),100*val_correct/val_total,val_correct,val_total))\n",
    "    return val_acc"
   ]
  },
  {
   "cell_type": "code",
   "execution_count": 19,
   "metadata": {
    "id": "n6KLW-otxwmU"
   },
   "outputs": [],
   "source": [
    "# Inference time for unprunned mode\n",
    "start_time = datetime.datetime.now()\n",
    "test_inference(1,my_model)\n",
    "\n",
    "end_time = datetime.datetime.now()\n",
    "\n",
    "\n",
    "time_diff = (end_time - start_time)\n",
    "\n",
    "inference_time_uprunned_model = (time_diff.total_seconds()+2) * 1000"
   ]
  },
  {
   "cell_type": "code",
   "execution_count": 20,
   "metadata": {
    "colab": {
     "base_uri": "https://localhost:8080/"
    },
    "id": "kgcTih0DyAuT",
    "outputId": "47c78686-eb61-4e76-f863-0bc2dbf789fd"
   },
   "outputs": [
    {
     "name": "stdout",
     "output_type": "stream",
     "text": [
      "++++++++++++++++++++++++++++++++++++++\n",
      "Various Evaluation metrics for the iterative_prunned_50 model\n",
      "Sparsity: 50.0 percent\n",
      "Inference time unprunned model 181433.74\n",
      "Inference time 138624.05\n",
      "Speed up 1.31\n",
      "++++++++++++++++++++++++++++++++++++++++\n"
     ]
    }
   ],
   "source": [
    "# Evaluating iterative prunned model with 50 percent sparcity_ratio\n",
    "resnet_iterative_prunned_50 = load_model(\"iterative_50\")\n",
    "\n",
    "resnet_iterative_prunned_50.eval()\n",
    "epoch= 1\n",
    "criterion = nn.CrossEntropyLoss()\n",
    "\n",
    "# Calculating various inference params for 50 percent prunned model\n",
    "start_time = datetime.datetime.now()\n",
    "test_inference(1,resnet_iterative_prunned_50)\n",
    "\n",
    "end_time = datetime.datetime.now()\n",
    "\n",
    "\n",
    "time_diff = (end_time - start_time)\n",
    "\n",
    "inference_time_prunned_50 = time_diff.total_seconds() * 1000\n",
    "speedup_prunned_50 = inference_time_uprunned_model/inference_time_prunned_50\n",
    "print(\"++++++++++++++++++++++++++++++++++++++\")\n",
    "print(\"Various Evaluation metrics for the iterative_prunned_50 model\")\n",
    "print(f\"Sparsity: {0.5*100} percent\")\n",
    "print(f\"Inference time unprunned model {inference_time_uprunned_model:.2f}\")\n",
    "print(f\"Inference time {inference_time_prunned_50:.2f}\")\n",
    "print(f\"Speed up {speedup_prunned_50:.2f}\")\n",
    "print(\"++++++++++++++++++++++++++++++++++++++++\")"
   ]
  },
  {
   "cell_type": "code",
   "execution_count": 21,
   "metadata": {
    "colab": {
     "base_uri": "https://localhost:8080/"
    },
    "id": "JovrbfuWyM8t",
    "outputId": "3975e2aa-bf37-432f-c6db-cbae7503f19a"
   },
   "outputs": [
    {
     "name": "stdout",
     "output_type": "stream",
     "text": [
      "++++++++++++++++++++++++++++++++++++++\n",
      "Various Evaluation metrics for the iterative_prunned_75 model\n",
      "Sparsity: 50.0 percent\n",
      "Inference time unprunned model 181433.74\n",
      "Inference time 151283.73\n",
      "Speed up 1.20\n",
      "++++++++++++++++++++++++++++++++++++++++\n"
     ]
    }
   ],
   "source": [
    "# Evaluating iterative prunned model with 75 percent sparcity_ratio\n",
    "resnet_iterative_prunned_75 = load_model(\"iterative_75\")\n",
    "\n",
    "resnet_iterative_prunned_75.eval()\n",
    "epoch= 1\n",
    "criterion = nn.CrossEntropyLoss()\n",
    "# Calculating various inference params for 75 percent prunned model\n",
    "start_time = datetime.datetime.now()\n",
    "test_inference(1,resnet_iterative_prunned_75)\n",
    "\n",
    "end_time = datetime.datetime.now()\n",
    "\n",
    "\n",
    "time_diff = (end_time - start_time)\n",
    "\n",
    "inference_time_prunned_75 = time_diff.total_seconds() * 1000\n",
    "speedup_prunned_75 = inference_time_uprunned_model/inference_time_prunned_75\n",
    "print(\"++++++++++++++++++++++++++++++++++++++\")\n",
    "print(\"Various Evaluation metrics for the iterative_prunned_75 model\")\n",
    "print(f\"Sparsity: {0.5*100} percent\")\n",
    "print(f\"Inference time unprunned model {inference_time_uprunned_model:.2f}\")\n",
    "print(f\"Inference time {inference_time_prunned_75:.2f}\")\n",
    "print(f\"Speed up {speedup_prunned_75:.2f}\")\n",
    "print(\"++++++++++++++++++++++++++++++++++++++++\")"
   ]
  },
  {
   "cell_type": "code",
   "execution_count": 22,
   "metadata": {
    "colab": {
     "base_uri": "https://localhost:8080/"
    },
    "id": "EJg-K2cJyUPb",
    "outputId": "94704e6c-3955-4b6c-f8dc-5a254ca998e9"
   },
   "outputs": [
    {
     "name": "stdout",
     "output_type": "stream",
     "text": [
      "++++++++++++++++++++++++++++++++++++++\n",
      "Various Evaluation metrics for the iterative_prunned_90 model\n",
      "Sparsity: 50.0 percent\n",
      "Inference time unprunned model 181433.74\n",
      "Inference time 158625.16\n",
      "Speed up 1.14\n",
      "++++++++++++++++++++++++++++++++++++++++\n"
     ]
    }
   ],
   "source": [
    "# Evaluating iterative prunned model with 90 percent sparcity_ratio\n",
    "resnet_iterative_prunned_90 = load_model(\"iterative_90\")\n",
    "\n",
    "resnet_iterative_prunned_90.eval()\n",
    "epoch= 1\n",
    "criterion = nn.CrossEntropyLoss()\n",
    "# Calculating various inference params for 90 percent prunned model\n",
    "start_time = datetime.datetime.now()\n",
    "test_inference(1,resnet_iterative_prunned_90)\n",
    "\n",
    "end_time = datetime.datetime.now()\n",
    "\n",
    "\n",
    "time_diff = (end_time - start_time)\n",
    "\n",
    "inference_time_prunned_90 = time_diff.total_seconds() * 1000\n",
    "speedup_prunned_90 = inference_time_uprunned_model/inference_time_prunned_90\n",
    "print(\"++++++++++++++++++++++++++++++++++++++\")\n",
    "print(\"Various Evaluation metrics for the iterative_prunned_90 model\")\n",
    "print(f\"Sparsity: {0.5*100} percent\")\n",
    "print(f\"Inference time unprunned model {inference_time_uprunned_model:.2f}\")\n",
    "print(f\"Inference time {inference_time_prunned_90:.2f}\")\n",
    "print(f\"Speed up {speedup_prunned_90:.2f}\")\n",
    "print(\"++++++++++++++++++++++++++++++++++++++++\")"
   ]
  },
  {
   "cell_type": "code",
   "execution_count": 23,
   "metadata": {
    "colab": {
     "base_uri": "https://localhost:8080/",
     "height": 312
    },
    "id": "0RBofWdYyf-g",
    "outputId": "a7551e9d-9f31-4f3f-eb6d-c60fe70e7c1b"
   },
   "outputs": [
    {
     "name": "stderr",
     "output_type": "stream",
     "text": [
      "No handles with labels found to put in legend.\n"
     ]
    },
    {
     "data": {
      "image/png": "[encoded data removed]",
      "text/plain": [
       "<Figure size 432x288 with 1 Axes>"
      ]
     },
     "metadata": {
      "needs_background": "light"
     },
     "output_type": "display_data"
    }
   ],
   "source": [
    "# sparsity vs Inference time graph (Bonus)\n",
    "# line 1 points\n",
    "sparsity = [50,75,90]\n",
    "inference_time = [inference_time_prunned_50,inference_time_prunned_75,inference_time_prunned_90]\n",
    "# plotting the line 1 points \n",
    "plt.xlabel('Percentage sparsity')\n",
    "# Set the y axis label of the current axis.\n",
    "plt.ylabel('Speed up')\n",
    "# Set a title of the current axes.\n",
    "plt.title('Sparsity vs Inference time')\n",
    "# show a legend on the plot\n",
    "plt.legend()\n",
    "# Display a figure.\n",
    "plt.plot(sparsity, inference_time, linestyle='--', marker='o')\n",
    "plt.show()"
   ]
  },
  {
   "cell_type": "code",
   "execution_count": 24,
   "metadata": {
    "colab": {
     "base_uri": "https://localhost:8080/",
     "height": 312
    },
    "id": "Nd6KPOAsyhEJ",
    "outputId": "f083d08b-8f9c-4d45-d847-2aefc96a9419"
   },
   "outputs": [
    {
     "name": "stderr",
     "output_type": "stream",
     "text": [
      "No handles with labels found to put in legend.\n"
     ]
    },
    {
     "data": {
      "image/png": "[encoded data removed]",
      "text/plain": [
       "<Figure size 432x288 with 1 Axes>"
      ]
     },
     "metadata": {
      "needs_background": "light"
     },
     "output_type": "display_data"
    }
   ],
   "source": [
    "# Sparsity vs speed up graph (Bonus)\n",
    "# line 1 points\n",
    "sparsity = [50,75,90]\n",
    "speedup = [speedup_prunned_50,speedup_prunned_75,speedup_prunned_90]\n",
    "# plotting the line 1 points \n",
    "plt.xlabel('Percentage Sparcity')\n",
    "# Set the y axis label of the current axis.\n",
    "plt.ylabel('Speed up')\n",
    "# Set a title of the current axes.\n",
    "plt.title('Sparsity vs Speed Up')\n",
    "# show a legend on the plot\n",
    "plt.legend()\n",
    "# Display a figure.\n",
    "plt.plot(sparsity, speedup, linestyle='--', marker='o')\n",
    "plt.show()"
   ]
  },
  {
   "cell_type": "code",
   "execution_count": 25,
   "metadata": {
    "id": "zlfZIqr45qR4"
   },
   "outputs": [],
   "source": [
    "# Evaluating one shot prunned model with 50 percent sparcity_ratio\n",
    "resnet_one_shot_prunned_50 = load_model(\"one_shot_50\")\n",
    "\n",
    "resnet_one_shot_prunned_50.eval()\n",
    "epoch= 1\n",
    "criterion = nn.CrossEntropyLoss()"
   ]
  },
  {
   "cell_type": "code",
   "execution_count": 26,
   "metadata": {
    "colab": {
     "base_uri": "https://localhost:8080/"
    },
    "id": "emEI6BOT5uSO",
    "outputId": "b28d407f-9b8b-4783-db14-53f7e95e9b2c"
   },
   "outputs": [
    {
     "name": "stdout",
     "output_type": "stream",
     "text": [
      "++++++++++++++++++++++++++++++++++++++\n",
      "Various Evaluation metrics for the oneshot_prunned_50 model\n",
      "Sparcity: 50.0 percent\n",
      "Inference time unprunned model 181433.74\n",
      "Inference time 141829.40\n",
      "Speed up 1.28\n",
      "++++++++++++++++++++++++++++++++++++++++\n"
     ]
    }
   ],
   "source": [
    "# Calculating various inference params for 50 percent prunned model\n",
    "start_time = datetime.datetime.now()\n",
    "test_inference(1,resnet_one_shot_prunned_50)\n",
    "\n",
    "end_time = datetime.datetime.now()\n",
    "\n",
    "\n",
    "time_diff = (end_time - start_time)\n",
    "\n",
    "inference_time_prunned_50 = time_diff.total_seconds() * 1000\n",
    "speedup_prunned_50 = inference_time_uprunned_model/inference_time_prunned_50\n",
    "print(\"++++++++++++++++++++++++++++++++++++++\")\n",
    "print(\"Various Evaluation metrics for the oneshot_prunned_50 model\")\n",
    "print(f\"Sparcity: {0.5*100} percent\")\n",
    "print(f\"Inference time unprunned model {inference_time_uprunned_model:.2f}\")\n",
    "print(f\"Inference time {inference_time_prunned_50:.2f}\")\n",
    "print(f\"Speed up {speedup_prunned_50:.2f}\")\n",
    "print(\"++++++++++++++++++++++++++++++++++++++++\")"
   ]
  },
  {
   "cell_type": "code",
   "execution_count": 27,
   "metadata": {
    "id": "a1tyryek5-O0"
   },
   "outputs": [],
   "source": [
    "# Evaluating one shot prunned model with 75 percent sparcity_ratio\n",
    "resnet_one_shot_prunned_75 = load_model(\"one_shot_75\")\n",
    "\n",
    "resnet_one_shot_prunned_75.eval()\n",
    "epoch= 1\n",
    "criterion = nn.CrossEntropyLoss()"
   ]
  },
  {
   "cell_type": "code",
   "execution_count": 28,
   "metadata": {
    "colab": {
     "base_uri": "https://localhost:8080/"
    },
    "id": "2jLLfQa-6CMn",
    "outputId": "8f47a579-abf7-4043-a9a2-2f3762f3b3ed"
   },
   "outputs": [
    {
     "name": "stdout",
     "output_type": "stream",
     "text": [
      "++++++++++++++++++++++++++++++++++++++\n",
      "Various Evaluation metrics for the oneshot_prunned_75 model\n",
      "Sparcity: 50.0 percent\n",
      "Inference time unprunned model 181433.74\n",
      "Inference time 154705.99\n",
      "Speed up 1.17\n",
      "++++++++++++++++++++++++++++++++++++++++\n"
     ]
    }
   ],
   "source": [
    "# Calculating various inference params for 75 percent prunned model\n",
    "start_time = datetime.datetime.now()\n",
    "test_inference(1,resnet_one_shot_prunned_75)\n",
    "end_time = datetime.datetime.now()\n",
    "\n",
    "\n",
    "time_diff = (end_time - start_time)\n",
    "\n",
    "inference_time_prunned_75 = time_diff.total_seconds() * 1000\n",
    "speedup_prunned_75 = inference_time_uprunned_model/inference_time_prunned_75\n",
    "print(\"++++++++++++++++++++++++++++++++++++++\")\n",
    "print(\"Various Evaluation metrics for the oneshot_prunned_75 model\")\n",
    "print(f\"Sparcity: {0.5*100} percent\")\n",
    "print(f\"Inference time unprunned model {inference_time_uprunned_model:.2f}\")\n",
    "print(f\"Inference time {inference_time_prunned_75:.2f}\")\n",
    "print(f\"Speed up {speedup_prunned_75:.2f}\")\n",
    "print(\"++++++++++++++++++++++++++++++++++++++++\")"
   ]
  },
  {
   "cell_type": "code",
   "execution_count": 29,
   "metadata": {
    "id": "86W9A-2P6WXz"
   },
   "outputs": [],
   "source": [
    "# Evaluating one shot prunned model with 90 percent sparcity_ratio\n",
    "resnet_one_shot_prunned_90 = load_model(\"one_shot_90\")\n",
    "\n",
    "resnet_one_shot_prunned_90.eval()\n",
    "epoch= 1\n",
    "criterion = nn.CrossEntropyLoss()"
   ]
  },
  {
   "cell_type": "code",
   "execution_count": 30,
   "metadata": {
    "colab": {
     "base_uri": "https://localhost:8080/"
    },
    "id": "NTDAX41-6XsD",
    "outputId": "a97a65bc-1ca7-48c5-9132-3643e9da6f4a"
   },
   "outputs": [
    {
     "name": "stdout",
     "output_type": "stream",
     "text": [
      "++++++++++++++++++++++++++++++++++++++\n",
      "Various Evaluation metrics for the oneshot_prunned_90 model\n",
      "Sparcity: 50.0 percent\n",
      "Inference time unprunned model 181433.74\n",
      "Inference time 147936.77\n",
      "Speed up 1.23\n",
      "++++++++++++++++++++++++++++++++++++++++\n"
     ]
    }
   ],
   "source": [
    "# Calculating various inference params for 90 percent prunned model\n",
    "start_time = datetime.datetime.now()\n",
    "test_inference(1,resnet_one_shot_prunned_90)\n",
    "\n",
    "end_time = datetime.datetime.now()\n",
    "\n",
    "\n",
    "time_diff = (end_time - start_time)\n",
    "\n",
    "inference_time_prunned_90 = time_diff.total_seconds() * 1000\n",
    "speedup_prunned_90 = inference_time_uprunned_model/inference_time_prunned_90\n",
    "print(\"++++++++++++++++++++++++++++++++++++++\")\n",
    "print(\"Various Evaluation metrics for the oneshot_prunned_90 model\")\n",
    "print(f\"Sparcity: {0.5*100} percent\")\n",
    "print(f\"Inference time unprunned model {inference_time_uprunned_model:.2f}\")\n",
    "print(f\"Inference time {inference_time_prunned_90:.2f}\")\n",
    "print(f\"Speed up {speedup_prunned_90:.2f}\")\n",
    "print(\"++++++++++++++++++++++++++++++++++++++++\")"
   ]
  },
  {
   "cell_type": "code",
   "execution_count": 31,
   "metadata": {
    "colab": {
     "base_uri": "https://localhost:8080/",
     "height": 312
    },
    "id": "T8kj0vIl7cXa",
    "outputId": "6495ece3-2292-45a4-9a14-2c6067e844e3"
   },
   "outputs": [
    {
     "name": "stderr",
     "output_type": "stream",
     "text": [
      "No handles with labels found to put in legend.\n"
     ]
    },
    {
     "data": {
      "image/png": "[encoded data removed]",
      "text/plain": [
       "<Figure size 432x288 with 1 Axes>"
      ]
     },
     "metadata": {
      "needs_background": "light"
     },
     "output_type": "display_data"
    }
   ],
   "source": [
    "# Sparcity vs Inference time graph (Bonus)\n",
    "# line 1 points\n",
    "sparcity = [50,75,90]\n",
    "inference_time = [inference_time_prunned_50,inference_time_prunned_75,inference_time_prunned_90]\n",
    "# plotting the line 1 points \n",
    "plt.xlabel('Percentage Sparcity')\n",
    "# Set the y axis label of the current axis.\n",
    "plt.ylabel('Speed up')\n",
    "# Set a title of the current axes.\n",
    "plt.title('Sparcity vs Inference time')\n",
    "# show a legend on the plot\n",
    "plt.legend()\n",
    "# Display a figure.\n",
    "plt.plot(sparcity, inference_time, linestyle='--', marker='o')\n",
    "plt.show()"
   ]
  },
  {
   "cell_type": "code",
   "execution_count": 32,
   "metadata": {
    "colab": {
     "base_uri": "https://localhost:8080/",
     "height": 312
    },
    "id": "zESReYea7dHo",
    "outputId": "af79c918-48d2-4eea-f114-605753526225"
   },
   "outputs": [
    {
     "name": "stderr",
     "output_type": "stream",
     "text": [
      "No handles with labels found to put in legend.\n"
     ]
    },
    {
     "data": {
      "image/png": "[encoded data removed]",
      "text/plain": [
       "<Figure size 432x288 with 1 Axes>"
      ]
     },
     "metadata": {
      "needs_background": "light"
     },
     "output_type": "display_data"
    }
   ],
   "source": [
    "# Sparcity vs speed up graph (Bonus)\n",
    "# line 1 points\n",
    "sparcity = [50,75,90]\n",
    "speedup = [speedup_prunned_50,speedup_prunned_75,speedup_prunned_90]\n",
    "# plotting the line 1 points \n",
    "plt.xlabel('Percentage Sparcity')\n",
    "# Set the y axis label of the current axis.\n",
    "plt.ylabel('Speed up')\n",
    "# Set a title of the current axes.\n",
    "plt.title('Sparcity vs Speed Up')\n",
    "# show a legend on the plot\n",
    "plt.legend()\n",
    "# Display a figure.\n",
    "plt.plot(sparcity, speedup, linestyle='--', marker='o')\n",
    "plt.show()"
   ]
  }
 ],
 "metadata": {
  "colab": {
   "collapsed_sections": [],
   "name": "Bonus.ipynb",
   "provenance": []
  },
  "kernelspec": {
   "display_name": "Python 3",
   "language": "python",
   "name": "python3"
  },
  "language_info": {
   "codemirror_mode": {
    "name": "ipython",
    "version": 3
   },
   "file_extension": ".py",
   "mimetype": "text/x-python",
   "name": "python",
   "nbconvert_exporter": "python",
   "pygments_lexer": "ipython3",
   "version": "3.6.13"
  }
 },
 "nbformat": 4,
 "nbformat_minor": 1
}
